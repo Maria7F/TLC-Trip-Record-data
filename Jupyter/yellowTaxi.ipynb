{
 "cells": [
  {
   "cell_type": "code",
   "execution_count": null,
   "id": "e3f977d7",
   "metadata": {},
   "outputs": [],
   "source": [
    "from __future__ import division, print_function"
   ]
  },
  {
   "cell_type": "code",
   "execution_count": null,
   "id": "094c46eb",
   "metadata": {},
   "outputs": [],
   "source": [
    "import pandas as pd\n",
    "import numpy as np\n",
    "import matplotlib.pyplot as plt\n",
    "import seaborn as sns\n",
    "sns.set()\n",
    "import statsmodels.api as sm\n",
    "\n",
    "\n",
    "%matplotlib inline"
   ]
  },
  {
   "cell_type": "code",
   "execution_count": null,
   "id": "c33bd4c3",
   "metadata": {},
   "outputs": [],
   "source": [
    "from sklearn.datasets import load_diabetes\n",
    "from sklearn.linear_model import Lasso, Ridge, ElasticNet, LinearRegression\n",
    "\n",
    "from sklearn.model_selection import (cross_val_score, train_test_split, \n",
    "                                     KFold, GridSearchCV)"
   ]
  },
  {
   "cell_type": "code",
   "execution_count": null,
   "id": "ae93009f",
   "metadata": {},
   "outputs": [],
   "source": [
    "seed = 7"
   ]
  },
  {
   "cell_type": "code",
   "execution_count": null,
   "id": "d0b2c562",
   "metadata": {},
   "outputs": [],
   "source": [
    "df_yellow = pd.read_csv('nyctaxi/Yellow_tripdata_2019-10.csv')"
   ]
  },
  {
   "cell_type": "code",
   "execution_count": null,
   "id": "d4a336b3",
   "metadata": {},
   "outputs": [],
   "source": [
    "pd.set_option('display.max_columns', 50)"
   ]
  },
  {
   "cell_type": "code",
   "execution_count": null,
   "id": "cd68c3c9",
   "metadata": {},
   "outputs": [],
   "source": [
    "df_yellow"
   ]
  },
  {
   "cell_type": "code",
   "execution_count": null,
   "id": "915948d8",
   "metadata": {},
   "outputs": [],
   "source": [
    "df_yellow.info()"
   ]
  },
  {
   "cell_type": "markdown",
   "id": "6d140cdd",
   "metadata": {},
   "source": [
    "### First thing first\n",
    "* My 'y' is the fare amount\n",
    "    * Who affects on the fare ammount?\n",
    "        * distance\n",
    "        * day (i will extract it)\n",
    "        * pick up Hour (i will extract it)\n",
    "        * \n",
    "        \n",
    "### Before doing anything i will split my data"
   ]
  },
  {
   "cell_type": "markdown",
   "id": "b629ae0a",
   "metadata": {},
   "source": [
    "### i will convert date time column to datetime type\n",
    "* extract day \n",
    "* extract hour"
   ]
  },
  {
   "cell_type": "code",
   "execution_count": null,
   "id": "afe9e8bf",
   "metadata": {},
   "outputs": [],
   "source": [
    "df_yellow['tpep_pickup_datetime'] = pd.to_datetime(df_yellow['tpep_pickup_datetime'])\n",
    "\n",
    "# dropna_df['lpep_pickup_date'] = dropna_df['lpep_pickup_datetime'].dt.date\n",
    "df_yellow['tpep_pickup_hour'] = df_yellow['tpep_pickup_datetime'].dt.hour\n",
    "# dropna_df['lpep_pickup_day'] = dropna_df['lpep_pickup_datetime'].dt.day\n",
    "df_yellow['tpep_pickup_weekday'] = df_yellow['tpep_pickup_datetime'].dt.weekday"
   ]
  },
  {
   "cell_type": "code",
   "execution_count": null,
   "id": "551d821f",
   "metadata": {},
   "outputs": [],
   "source": [
    "model = LinearRegression()"
   ]
  },
  {
   "cell_type": "markdown",
   "id": "231b77c9",
   "metadata": {},
   "source": [
    "# work on x_train v1"
   ]
  },
  {
   "cell_type": "markdown",
   "id": "917edc30",
   "metadata": {},
   "source": [
    "### i will visualize if there are any other correlations between the rest of the columns and fare amount"
   ]
  },
  {
   "cell_type": "code",
   "execution_count": null,
   "id": "e81c1f4e",
   "metadata": {},
   "outputs": [],
   "source": [
    "x = df_yellow[['trip_distance', 'tpep_pickup_hour', 'tpep_pickup_weekday']]\n",
    "y = df_yellow[['fare_amount']]\n",
    "\n",
    "\n",
    "x_train, x_test, y_train, y_test = train_test_split(x, y, test_size=0.2, random_state=seed)\n",
    "x_train, x_val, y_train, y_val = train_test_split(x_train, y_train, test_size=0.20, random_state=seed)"
   ]
  },
  {
   "cell_type": "code",
   "execution_count": null,
   "id": "a934f8f4",
   "metadata": {},
   "outputs": [],
   "source": [
    "sns.set(font_scale=1.3)\n",
    "# fig, ax = plt.subplots(figsize=(35,35)) \n",
    "sns.pairplot(x_train[:10000], plot_kws=dict(alpha=.1, edgecolor='none'));"
   ]
  },
  {
   "cell_type": "code",
   "execution_count": null,
   "id": "2f5e07aa",
   "metadata": {},
   "outputs": [],
   "source": [
    "sns.set(font_scale=1.3)\n",
    "fig, ax = plt.subplots(figsize=(10,10)) \n",
    "sns.heatmap(x_train.corr(), cmap=\"seismic\", annot=True, vmin=-1, vmax=1, annot_kws={\"size\":16});"
   ]
  },
  {
   "cell_type": "code",
   "execution_count": null,
   "id": "b8bfd1dc",
   "metadata": {},
   "outputs": [],
   "source": [
    "x_train.isna().sum() "
   ]
  },
  {
   "cell_type": "code",
   "execution_count": null,
   "id": "2cf83784",
   "metadata": {},
   "outputs": [],
   "source": [
    "model.fit(x_train, y_train)\n",
    "model.score(x_train, y_train)"
   ]
  },
  {
   "cell_type": "code",
   "execution_count": null,
   "id": "4e26f7eb",
   "metadata": {},
   "outputs": [],
   "source": [
    "model.fit(x_val, y_val)\n",
    "model.score(x_val, y_val)"
   ]
  },
  {
   "cell_type": "code",
   "execution_count": null,
   "id": "46565b56",
   "metadata": {},
   "outputs": [],
   "source": [
    "model.fit(x_test, y_test)\n",
    "model.score(x_test, y_test)"
   ]
  },
  {
   "cell_type": "markdown",
   "id": "1fd70596",
   "metadata": {},
   "source": [
    "# work on x_train v2"
   ]
  },
  {
   "cell_type": "code",
   "execution_count": null,
   "id": "1739acba",
   "metadata": {},
   "outputs": [],
   "source": [
    "x = df_yellow[['trip_distance', 'tpep_pickup_hour', 'tpep_pickup_weekday', 'RatecodeID']]\n",
    "y = df_yellow[['fare_amount']]\n",
    "\n",
    "x_train, x_test, y_train, y_test = train_test_split(x, y, test_size=0.2, random_state=seed)\n",
    "x_train, x_val, y_train, y_val = train_test_split(x_train, y_train, test_size=0.25, random_state=seed)"
   ]
  },
  {
   "cell_type": "code",
   "execution_count": null,
   "id": "76f08d1e",
   "metadata": {
    "scrolled": true
   },
   "outputs": [],
   "source": [
    "model.fit(x_train, y_train)\n",
    "model.score(x_train, y_train)"
   ]
  },
  {
   "cell_type": "code",
   "execution_count": null,
   "id": "052b74c8",
   "metadata": {},
   "outputs": [],
   "source": [
    "# df_yellow = df_yellow.loc[df_yellow.VendorID.isna() == False]"
   ]
  },
  {
   "cell_type": "code",
   "execution_count": null,
   "id": "2b3f5c29",
   "metadata": {},
   "outputs": [],
   "source": [
    "model.fit(x_train, y_train)\n",
    "model.score(x_train, y_train)"
   ]
  },
  {
   "cell_type": "code",
   "execution_count": null,
   "id": "7b495eed",
   "metadata": {},
   "outputs": [],
   "source": [
    "model.fit(x_val, y_val)\n",
    "model.score(x_val, y_val)"
   ]
  },
  {
   "cell_type": "code",
   "execution_count": null,
   "id": "8a76d1f2",
   "metadata": {
    "scrolled": true
   },
   "outputs": [],
   "source": [
    "model.fit(x_test, y_test)\n",
    "model.score(x_test, y_test)"
   ]
  },
  {
   "cell_type": "markdown",
   "id": "216b3b7d",
   "metadata": {},
   "source": [
    "### evaluate"
   ]
  },
  {
   "cell_type": "code",
   "execution_count": null,
   "id": "d5203de0",
   "metadata": {},
   "outputs": [],
   "source": [
    "y_train_pred = model.predict(x_train)\n",
    "\n",
    "plt.scatter(y_train, y_train_pred, alpha=0.2)\n",
    "plt.plot([0, 400], [0, 400])"
   ]
  },
  {
   "cell_type": "code",
   "execution_count": null,
   "id": "521dbd77",
   "metadata": {},
   "outputs": [],
   "source": [
    "y_test_pred = model.predict(x_val)\n",
    "\n",
    "plt.scatter(y_val, y_test_pred)\n",
    "plt.plot([0, 400], [0, 400])"
   ]
  },
  {
   "cell_type": "markdown",
   "id": "86fa309e",
   "metadata": {},
   "source": [
    "## lasso"
   ]
  },
  {
   "cell_type": "code",
   "execution_count": null,
   "id": "1c17b492",
   "metadata": {},
   "outputs": [],
   "source": []
  },
  {
   "cell_type": "markdown",
   "id": "db991317",
   "metadata": {},
   "source": [
    "# work on x_train v3"
   ]
  },
  {
   "cell_type": "code",
   "execution_count": null,
   "id": "85d24def",
   "metadata": {},
   "outputs": [],
   "source": [
    "x = df_yellow[['trip_distance', 'tpep_pickup_hour', 'trip_distance','PULocationID','DOLocationID']]\n",
    "y = df_yellow[['fare_amount']]\n",
    "\n",
    "x_train, x_test, y_train, y_test = train_test_split(x, y, test_size=0.2, random_state=seed)\n",
    "x_train, x_val, y_train, y_val = train_test_split(x_train, y_train, test_size=0.25, random_state=1)"
   ]
  },
  {
   "cell_type": "code",
   "execution_count": null,
   "id": "b0f1f29b",
   "metadata": {},
   "outputs": [],
   "source": [
    "model.fit(x_train, y_train)\n",
    "model.score(x_train, y_train)"
   ]
  },
  {
   "cell_type": "code",
   "execution_count": null,
   "id": "9bd2969d",
   "metadata": {},
   "outputs": [],
   "source": [
    "model.fit(x_val, y_val)\n",
    "model.score(x_val, y_val)"
   ]
  },
  {
   "cell_type": "code",
   "execution_count": null,
   "id": "053edcbb",
   "metadata": {},
   "outputs": [],
   "source": [
    "model.fit(x_test, y_test)\n",
    "model.score(x_test, y_test)"
   ]
  },
  {
   "cell_type": "code",
   "execution_count": null,
   "id": "84c3f2f6",
   "metadata": {},
   "outputs": [],
   "source": [
    "df_yellow"
   ]
  },
  {
   "cell_type": "code",
   "execution_count": null,
   "id": "914f2a57",
   "metadata": {},
   "outputs": [],
   "source": [
    "df_yellow.isna().sum()"
   ]
  },
  {
   "cell_type": "code",
   "execution_count": null,
   "id": "83814def",
   "metadata": {},
   "outputs": [],
   "source": []
  },
  {
   "cell_type": "code",
   "execution_count": null,
   "id": "56cbdeb3",
   "metadata": {},
   "outputs": [],
   "source": []
  },
  {
   "cell_type": "code",
   "execution_count": null,
   "id": "1d42d40a",
   "metadata": {},
   "outputs": [],
   "source": []
  },
  {
   "cell_type": "code",
   "execution_count": null,
   "id": "ac42df49",
   "metadata": {},
   "outputs": [],
   "source": []
  },
  {
   "cell_type": "code",
   "execution_count": null,
   "id": "560778be",
   "metadata": {},
   "outputs": [],
   "source": []
  },
  {
   "cell_type": "code",
   "execution_count": null,
   "id": "2fffd260",
   "metadata": {},
   "outputs": [],
   "source": [
    "df_yellow.loc[df_yellow.fare_amount < 0]"
   ]
  },
  {
   "cell_type": "code",
   "execution_count": null,
   "id": "ae1c472e",
   "metadata": {
    "scrolled": false
   },
   "outputs": [],
   "source": [
    "df_yellow.loc[df_yellow.passenger_count > 4]"
   ]
  },
  {
   "cell_type": "code",
   "execution_count": null,
   "id": "bc21c370",
   "metadata": {},
   "outputs": [],
   "source": []
  },
  {
   "cell_type": "markdown",
   "id": "e238220b",
   "metadata": {},
   "source": [
    "# work on x_train v4"
   ]
  },
  {
   "cell_type": "code",
   "execution_count": null,
   "id": "3ebff621",
   "metadata": {},
   "outputs": [],
   "source": [
    "df_feature = df_yellow[['passenger_count', 'trip_distance', 'RatecodeID', 'PULocationID', 'extra', 'mta_tax', 'improvement_surcharge', 'congestion_surcharge', 'tpep_pickup_hour', 'tpep_pickup_weekday']]\n"
   ]
  },
  {
   "cell_type": "code",
   "execution_count": null,
   "id": "4fbc2ca3",
   "metadata": {},
   "outputs": [],
   "source": [
    "x = df_yellow[['VendorID', 'trip_distance', 'RatecodeID', 'PULocationID', 'extra', 'mta_tax', 'improvement_surcharge', 'congestion_surcharge', 'tpep_pickup_hour', 'tpep_pickup_weekday']]\n",
    "y = df_yellow[['fare_amount']]\n",
    "\n",
    "\n",
    "x_train, x_test, y_train, y_test = train_test_split(x, y, test_size=0.2, random_state=seed)\n",
    "x_train, x_val, y_train, y_val = train_test_split(x_train, y_train, test_size=0.20, random_state=seed)"
   ]
  },
  {
   "cell_type": "code",
   "execution_count": null,
   "id": "552a8bcf",
   "metadata": {
    "scrolled": true
   },
   "outputs": [],
   "source": [
    "model.fit(x_train, y_train)\n",
    "model.score(x_train, y_train)"
   ]
  },
  {
   "cell_type": "code",
   "execution_count": null,
   "id": "bdeb72a6",
   "metadata": {},
   "outputs": [],
   "source": [
    "x_train.isna().sum()"
   ]
  },
  {
   "cell_type": "code",
   "execution_count": null,
   "id": "2dd9e7f1",
   "metadata": {},
   "outputs": [],
   "source": [
    "df_yellow = df_yellow.loc[df_yellow.VendorID.isna() == False]"
   ]
  },
  {
   "cell_type": "code",
   "execution_count": null,
   "id": "08251f6c",
   "metadata": {},
   "outputs": [],
   "source": [
    "x = df_yellow[['VendorID', 'trip_distance', 'RatecodeID', 'PULocationID', 'extra', 'mta_tax', 'improvement_surcharge', 'congestion_surcharge', 'tpep_pickup_hour', 'tpep_pickup_weekday']]\n",
    "y = df_yellow[['fare_amount']]\n",
    "\n",
    "\n",
    "x_train, x_test, y_train, y_test = train_test_split(x, y, test_size=0.2, random_state=seed)\n",
    "x_train, x_val, y_train, y_val = train_test_split(x_train, y_train, test_size=0.20, random_state=seed)"
   ]
  },
  {
   "cell_type": "code",
   "execution_count": null,
   "id": "8f1dc063",
   "metadata": {},
   "outputs": [],
   "source": [
    "model.fit(x_train, y_train)\n",
    "model.score(x_train, y_train)"
   ]
  },
  {
   "cell_type": "code",
   "execution_count": null,
   "id": "799361ba",
   "metadata": {},
   "outputs": [],
   "source": [
    "model.fit(x_val, y_val)\n",
    "model.score(x_val, y_val)"
   ]
  },
  {
   "cell_type": "code",
   "execution_count": null,
   "id": "a3592f89",
   "metadata": {},
   "outputs": [],
   "source": [
    "model.fit(x_test, y_test)\n",
    "model.score(x_test, y_test)"
   ]
  },
  {
   "cell_type": "code",
   "execution_count": null,
   "id": "f802ff80",
   "metadata": {},
   "outputs": [],
   "source": []
  },
  {
   "cell_type": "markdown",
   "id": "67ccc9be",
   "metadata": {},
   "source": [
    "# work on x_train v5\n"
   ]
  },
  {
   "cell_type": "code",
   "execution_count": null,
   "id": "f745cfbe",
   "metadata": {},
   "outputs": [],
   "source": [
    "df_yellow['is_van'] = np.where(df_yellow['passenger_count'] > 4, 1, 0).copy()"
   ]
  },
  {
   "cell_type": "code",
   "execution_count": null,
   "id": "528c7580",
   "metadata": {},
   "outputs": [],
   "source": [
    "def peakHour(h): \n",
    "    if h >= 17 and h <= 19:\n",
    "        return 1\n",
    "    else:\n",
    "        return 0\n",
    "\n",
    "# df_train['is_van'] = np.where(peakHour() , 1, 0)\n",
    "\n",
    "\n",
    "df_yellow['peakHours'] = df_yellow.loc[:,'tpep_pickup_hour'].apply(peakHour)"
   ]
  },
  {
   "cell_type": "code",
   "execution_count": null,
   "id": "be0f8430",
   "metadata": {},
   "outputs": [],
   "source": [
    "x = df_yellow[[ 'trip_distance', 'congestion_surcharge'\n",
    "               , 'tpep_pickup_hour', 'tpep_pickup_weekday','is_van'\n",
    "               , 'peakHours']]\n",
    "\n",
    "\n",
    "y = df_yellow[['fare_amount']]\n",
    "\n",
    "\n",
    "x_train, x_test, y_train, y_test = train_test_split(x, y, test_size=0.2, random_state=seed)\n",
    "x_train, x_val, y_train, y_val = train_test_split(x_train, y_train, test_size=0.20, random_state=seed)"
   ]
  },
  {
   "cell_type": "code",
   "execution_count": null,
   "id": "cc60587e",
   "metadata": {},
   "outputs": [],
   "source": [
    "model.fit(x_train, y_train)#means train or betas\n",
    "model.score(x_train, y_train)"
   ]
  },
  {
   "cell_type": "code",
   "execution_count": null,
   "id": "7777a1fe",
   "metadata": {},
   "outputs": [],
   "source": [
    "# model.fit(x_val, y_val)\n",
    "model.score(x_val, y_val)"
   ]
  },
  {
   "cell_type": "code",
   "execution_count": null,
   "id": "2dc6d6d6",
   "metadata": {},
   "outputs": [],
   "source": []
  },
  {
   "cell_type": "code",
   "execution_count": null,
   "id": "5f549cf7",
   "metadata": {},
   "outputs": [],
   "source": []
  },
  {
   "cell_type": "markdown",
   "id": "00e56cf3",
   "metadata": {},
   "source": [
    "# work on x_train v6"
   ]
  },
  {
   "cell_type": "code",
   "execution_count": null,
   "id": "bde1957d",
   "metadata": {},
   "outputs": [],
   "source": [
    "df_yellow = df_yellow.loc[df_yellow.RatecodeID.isna() == False]\n",
    "x = df_yellow[[ 'trip_distance', 'RatecodeID', 'congestion_surcharge'\n",
    "               , 'tpep_pickup_hour', 'tpep_pickup_weekday','is_van'\n",
    "               , 'peakHours']]\n",
    "\n",
    "\n",
    "y = df_yellow[['fare_amount']]"
   ]
  },
  {
   "cell_type": "code",
   "execution_count": null,
   "id": "3f94bda5",
   "metadata": {},
   "outputs": [],
   "source": [
    "\n",
    "x_train, x_test, y_train, y_test = train_test_split(x, y, test_size=0.2, random_state=seed)\n",
    "x_train, x_val, y_train, y_val = train_test_split(x_train, y_train, test_size=0.20, random_state=seed)"
   ]
  },
  {
   "cell_type": "code",
   "execution_count": null,
   "id": "f1e243b0",
   "metadata": {},
   "outputs": [],
   "source": [
    "model.fit(x_train, y_train)#means train or betas\n",
    "model.score(x_train, y_train)"
   ]
  },
  {
   "cell_type": "code",
   "execution_count": null,
   "id": "05de854d",
   "metadata": {},
   "outputs": [],
   "source": [
    "# model.fit(x_val, y_val)\n",
    "model.score(x_val, y_val)"
   ]
  },
  {
   "cell_type": "markdown",
   "id": "7f3f8c6a",
   "metadata": {},
   "source": [
    "# work on x_train v7"
   ]
  },
  {
   "cell_type": "code",
   "execution_count": null,
   "id": "fba553e5",
   "metadata": {},
   "outputs": [],
   "source": [
    "df_yellow.RatecodeID = df_yellow.RatecodeID.astype('int')"
   ]
  },
  {
   "cell_type": "code",
   "execution_count": null,
   "id": "9f6cef44",
   "metadata": {
    "scrolled": true
   },
   "outputs": [],
   "source": [
    "df_yellow['Standard_rate'] = np.where(df_yellow['RatecodeID'] == 1, 1, 0).copy()\n",
    "df_yellow['JFK'] = np.where(df_yellow['RatecodeID'] == 2, 1, 0).copy()\n",
    "df_yellow['Newark'] = np.where(df_yellow['RatecodeID'] == 3, 1, 0).copy()\n",
    "df_yellow['Nassau_or_Westchester'] = np.where(df_yellow['RatecodeID'] == 4, 1, 0).copy()\n",
    "df_yellow['Negotiated_fare'] = np.where(df_yellow['RatecodeID'] == 5, 1, 0).copy()\n",
    "df_yellow['Group_ride'] = np.where(df_yellow['RatecodeID'] == 6, 1, 0).copy()"
   ]
  },
  {
   "cell_type": "code",
   "execution_count": null,
   "id": "fa67698c",
   "metadata": {
    "scrolled": true
   },
   "outputs": [],
   "source": [
    "df_yellow.drop(['payment_type','extra','mta_tax','tip_amount','tolls_amount','total_amount','store_and_fwd_flag'], inplace=True,axis=1)"
   ]
  },
  {
   "cell_type": "code",
   "execution_count": null,
   "id": "153cd264",
   "metadata": {},
   "outputs": [],
   "source": [
    "x = df_yellow[[ 'trip_distance', 'congestion_surcharge'\n",
    "               , 'tpep_pickup_hour', 'tpep_pickup_weekday'\n",
    "               \n",
    "               ,'Standard_rate', 'JFK', 'Newark', 'Nassau_or_Westchester', 'Negotiated_fare', 'Group_ride']]\n",
    "y = df_yellow[['fare_amount']]\n",
    "\n",
    "# ,'is_van'\n",
    "# , 'peakHours'\n",
    "x_train, x_test, y_train, y_test = train_test_split(x, y, test_size=0.2, random_state=seed)\n",
    "x_train, x_val, y_train, y_val = train_test_split(x_train, y_train, test_size=0.20, random_state=seed)"
   ]
  },
  {
   "cell_type": "code",
   "execution_count": null,
   "id": "c206e2c3",
   "metadata": {},
   "outputs": [],
   "source": [
    "model.fit(x_train, y_train)#means train or betas\n",
    "model.score(x_train, y_train)"
   ]
  },
  {
   "cell_type": "code",
   "execution_count": null,
   "id": "bb5ef3e7",
   "metadata": {},
   "outputs": [],
   "source": [
    "# model.fit(x_val, y_val)\n",
    "model.score(x_val, y_val)"
   ]
  },
  {
   "cell_type": "code",
   "execution_count": null,
   "id": "31c9b907",
   "metadata": {},
   "outputs": [],
   "source": [
    "# model.fit(x_test, y_test)\n",
    "# model.score(x_test, y_test)"
   ]
  },
  {
   "cell_type": "code",
   "execution_count": null,
   "id": "ad5abc67",
   "metadata": {},
   "outputs": [],
   "source": [
    "y_train_pred = model.predict(x_train)\n",
    "\n",
    "plt.scatter(y_train, y_train_pred, alpha=0.2)\n",
    "plt.plot([0, 400], [0, 400])"
   ]
  },
  {
   "cell_type": "code",
   "execution_count": null,
   "id": "17cf42f4",
   "metadata": {},
   "outputs": [],
   "source": [
    "y_test_pred = model.predict(x_val)\n",
    "\n",
    "plt.scatter(y_val, y_test_pred)\n",
    "plt.plot([0, 400], [0, 400])"
   ]
  },
  {
   "cell_type": "code",
   "execution_count": null,
   "id": "fbbf9a41",
   "metadata": {},
   "outputs": [],
   "source": [
    "sns.pairplot(x_train[:10000], plot_kws=dict(alpha=.1, edgecolor='none'))"
   ]
  },
  {
   "cell_type": "code",
   "execution_count": null,
   "id": "127fe928",
   "metadata": {},
   "outputs": [],
   "source": [
    "x_train.apply(pd.Series.nunique)"
   ]
  },
  {
   "cell_type": "code",
   "execution_count": null,
   "id": "64d42685",
   "metadata": {},
   "outputs": [],
   "source": []
  },
  {
   "cell_type": "code",
   "execution_count": null,
   "id": "cd535423",
   "metadata": {},
   "outputs": [],
   "source": [
    "# df_yellow['is_van'] = np.where(df_yellow['tpep_pickup_hour'] > 16 & df_yellow['tpep_pickup_hour'] < 19 , 1, 0)"
   ]
  },
  {
   "cell_type": "code",
   "execution_count": null,
   "id": "1ae3417f",
   "metadata": {},
   "outputs": [],
   "source": [
    "# Create your model\n",
    "model = sm.OLS(y_train, x_train)\n",
    "\n",
    "# Fit your model to your training set\n",
    "fit = model.fit()\n",
    "\n",
    "# Print summary statistics of the model's performance\n",
    "fit.summary()"
   ]
  },
  {
   "cell_type": "code",
   "execution_count": null,
   "id": "a663bce7",
   "metadata": {},
   "outputs": [],
   "source": []
  },
  {
   "cell_type": "code",
   "execution_count": null,
   "id": "a956962c",
   "metadata": {},
   "outputs": [],
   "source": [
    "\n",
    "def peakHour(h): \n",
    "    if h >= 17 and h <= 19:\n",
    "        return 1\n",
    "    else:\n",
    "        return 0\n",
    "\n",
    "# df_train['is_van'] = np.where(peakHour() , 1, 0)\n",
    "\n",
    "\n",
    "df_train1['peakHours'] = df_train1.loc[:,'pickup_hour'].apply(peakHour)"
   ]
  }
 ],
 "metadata": {
  "kernelspec": {
   "display_name": "Python 3",
   "language": "python",
   "name": "python3"
  },
  "language_info": {
   "codemirror_mode": {
    "name": "ipython",
    "version": 3
   },
   "file_extension": ".py",
   "mimetype": "text/x-python",
   "name": "python",
   "nbconvert_exporter": "python",
   "pygments_lexer": "ipython3",
   "version": "3.8.8"
  }
 },
 "nbformat": 4,
 "nbformat_minor": 5
}
