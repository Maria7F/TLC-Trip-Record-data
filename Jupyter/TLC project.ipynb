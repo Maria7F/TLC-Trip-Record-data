{
 "cells": [
  {
   "cell_type": "code",
   "execution_count": 1,
   "id": "365670ae",
   "metadata": {},
   "outputs": [],
   "source": [
    "from __future__ import print_function"
   ]
  },
  {
   "cell_type": "markdown",
   "id": "9634a9f1",
   "metadata": {},
   "source": [
    "# Importing the Dataset"
   ]
  },
  {
   "cell_type": "code",
   "execution_count": 2,
   "id": "b9c11933",
   "metadata": {},
   "outputs": [],
   "source": [
    "import pandas as pd\n",
    "import numpy as np\n",
    "import pickle \n",
    "import patsy\n",
    "import statsmodels.api as sm\n",
    "import statsmodels.formula.api as smf\n",
    "import matplotlib.pyplot as plt\n",
    "import seaborn as sns\n",
    "from matplotlib import pyplot\n",
    "from sklearn.tree import DecisionTreeRegressor\n",
    "\n",
    "\n",
    "# linear regression feature importance\n",
    "from sklearn.datasets import make_regression\n",
    "\n",
    "from sklearn.linear_model import LinearRegression\n",
    "from sklearn import metrics\n",
    "from sklearn.preprocessing import PolynomialFeatures\n",
    "from sklearn.pipeline import make_pipeline\n",
    "from sklearn.model_selection import train_test_split\n",
    "from sklearn.model_selection import KFold\n",
    "%matplotlib inline\n",
    "\n",
    "import warnings\n",
    "warnings.filterwarnings('ignore')"
   ]
  },
  {
   "cell_type": "code",
   "execution_count": 3,
   "id": "4c61846b",
   "metadata": {},
   "outputs": [],
   "source": [
    "yellow_trip_df = pd.read_csv('Yellow_tripdata_2019-10.csv')"
   ]
  },
  {
   "cell_type": "code",
   "execution_count": 4,
   "id": "162a22fb",
   "metadata": {},
   "outputs": [
    {
     "data": {
      "text/html": [
       "<div>\n",
       "<style scoped>\n",
       "    .dataframe tbody tr th:only-of-type {\n",
       "        vertical-align: middle;\n",
       "    }\n",
       "\n",
       "    .dataframe tbody tr th {\n",
       "        vertical-align: top;\n",
       "    }\n",
       "\n",
       "    .dataframe thead th {\n",
       "        text-align: right;\n",
       "    }\n",
       "</style>\n",
       "<table border=\"1\" class=\"dataframe\">\n",
       "  <thead>\n",
       "    <tr style=\"text-align: right;\">\n",
       "      <th></th>\n",
       "      <th>VendorID</th>\n",
       "      <th>tpep_pickup_datetime</th>\n",
       "      <th>tpep_dropoff_datetime</th>\n",
       "      <th>passenger_count</th>\n",
       "      <th>trip_distance</th>\n",
       "      <th>RatecodeID</th>\n",
       "      <th>store_and_fwd_flag</th>\n",
       "      <th>PULocationID</th>\n",
       "      <th>DOLocationID</th>\n",
       "      <th>payment_type</th>\n",
       "      <th>fare_amount</th>\n",
       "      <th>extra</th>\n",
       "      <th>mta_tax</th>\n",
       "      <th>tip_amount</th>\n",
       "      <th>tolls_amount</th>\n",
       "      <th>improvement_surcharge</th>\n",
       "      <th>total_amount</th>\n",
       "      <th>congestion_surcharge</th>\n",
       "    </tr>\n",
       "  </thead>\n",
       "  <tbody>\n",
       "    <tr>\n",
       "      <th>0</th>\n",
       "      <td>1.0</td>\n",
       "      <td>2019-10-01 00:19:55</td>\n",
       "      <td>2019-10-01 00:23:57</td>\n",
       "      <td>1.0</td>\n",
       "      <td>0.40</td>\n",
       "      <td>1.0</td>\n",
       "      <td>N</td>\n",
       "      <td>48</td>\n",
       "      <td>163</td>\n",
       "      <td>2.0</td>\n",
       "      <td>4.50</td>\n",
       "      <td>3.00</td>\n",
       "      <td>0.5</td>\n",
       "      <td>0.0</td>\n",
       "      <td>0.00</td>\n",
       "      <td>0.3</td>\n",
       "      <td>8.30</td>\n",
       "      <td>2.5</td>\n",
       "    </tr>\n",
       "    <tr>\n",
       "      <th>1</th>\n",
       "      <td>1.0</td>\n",
       "      <td>2019-10-01 00:40:19</td>\n",
       "      <td>2019-10-01 00:55:17</td>\n",
       "      <td>2.0</td>\n",
       "      <td>4.30</td>\n",
       "      <td>1.0</td>\n",
       "      <td>N</td>\n",
       "      <td>144</td>\n",
       "      <td>141</td>\n",
       "      <td>1.0</td>\n",
       "      <td>14.50</td>\n",
       "      <td>3.00</td>\n",
       "      <td>0.5</td>\n",
       "      <td>2.0</td>\n",
       "      <td>0.00</td>\n",
       "      <td>0.3</td>\n",
       "      <td>20.30</td>\n",
       "      <td>2.5</td>\n",
       "    </tr>\n",
       "    <tr>\n",
       "      <th>2</th>\n",
       "      <td>1.0</td>\n",
       "      <td>2019-10-01 00:06:52</td>\n",
       "      <td>2019-10-01 00:21:23</td>\n",
       "      <td>1.0</td>\n",
       "      <td>5.00</td>\n",
       "      <td>1.0</td>\n",
       "      <td>N</td>\n",
       "      <td>137</td>\n",
       "      <td>80</td>\n",
       "      <td>1.0</td>\n",
       "      <td>17.00</td>\n",
       "      <td>3.00</td>\n",
       "      <td>0.5</td>\n",
       "      <td>5.2</td>\n",
       "      <td>0.00</td>\n",
       "      <td>0.3</td>\n",
       "      <td>26.00</td>\n",
       "      <td>2.5</td>\n",
       "    </tr>\n",
       "    <tr>\n",
       "      <th>3</th>\n",
       "      <td>2.0</td>\n",
       "      <td>2019-10-01 00:36:08</td>\n",
       "      <td>2019-10-01 00:36:15</td>\n",
       "      <td>1.0</td>\n",
       "      <td>0.00</td>\n",
       "      <td>1.0</td>\n",
       "      <td>N</td>\n",
       "      <td>25</td>\n",
       "      <td>25</td>\n",
       "      <td>4.0</td>\n",
       "      <td>-2.50</td>\n",
       "      <td>-0.50</td>\n",
       "      <td>-0.5</td>\n",
       "      <td>0.0</td>\n",
       "      <td>0.00</td>\n",
       "      <td>-0.3</td>\n",
       "      <td>-3.80</td>\n",
       "      <td>0.0</td>\n",
       "    </tr>\n",
       "    <tr>\n",
       "      <th>4</th>\n",
       "      <td>2.0</td>\n",
       "      <td>2019-10-01 00:36:08</td>\n",
       "      <td>2019-10-01 00:36:15</td>\n",
       "      <td>1.0</td>\n",
       "      <td>0.00</td>\n",
       "      <td>1.0</td>\n",
       "      <td>N</td>\n",
       "      <td>25</td>\n",
       "      <td>25</td>\n",
       "      <td>2.0</td>\n",
       "      <td>2.50</td>\n",
       "      <td>0.50</td>\n",
       "      <td>0.5</td>\n",
       "      <td>0.0</td>\n",
       "      <td>0.00</td>\n",
       "      <td>0.3</td>\n",
       "      <td>3.80</td>\n",
       "      <td>0.0</td>\n",
       "    </tr>\n",
       "    <tr>\n",
       "      <th>...</th>\n",
       "      <td>...</td>\n",
       "      <td>...</td>\n",
       "      <td>...</td>\n",
       "      <td>...</td>\n",
       "      <td>...</td>\n",
       "      <td>...</td>\n",
       "      <td>...</td>\n",
       "      <td>...</td>\n",
       "      <td>...</td>\n",
       "      <td>...</td>\n",
       "      <td>...</td>\n",
       "      <td>...</td>\n",
       "      <td>...</td>\n",
       "      <td>...</td>\n",
       "      <td>...</td>\n",
       "      <td>...</td>\n",
       "      <td>...</td>\n",
       "      <td>...</td>\n",
       "    </tr>\n",
       "    <tr>\n",
       "      <th>7213886</th>\n",
       "      <td>NaN</td>\n",
       "      <td>2019-10-31 23:20:00</td>\n",
       "      <td>2019-10-31 23:56:00</td>\n",
       "      <td>NaN</td>\n",
       "      <td>19.53</td>\n",
       "      <td>NaN</td>\n",
       "      <td>NaN</td>\n",
       "      <td>77</td>\n",
       "      <td>119</td>\n",
       "      <td>NaN</td>\n",
       "      <td>63.83</td>\n",
       "      <td>2.75</td>\n",
       "      <td>0.5</td>\n",
       "      <td>0.0</td>\n",
       "      <td>6.12</td>\n",
       "      <td>0.3</td>\n",
       "      <td>73.50</td>\n",
       "      <td>0.0</td>\n",
       "    </tr>\n",
       "    <tr>\n",
       "      <th>7213887</th>\n",
       "      <td>NaN</td>\n",
       "      <td>2019-10-31 23:42:00</td>\n",
       "      <td>2019-11-01 00:07:00</td>\n",
       "      <td>NaN</td>\n",
       "      <td>4.96</td>\n",
       "      <td>NaN</td>\n",
       "      <td>NaN</td>\n",
       "      <td>238</td>\n",
       "      <td>137</td>\n",
       "      <td>NaN</td>\n",
       "      <td>28.95</td>\n",
       "      <td>2.75</td>\n",
       "      <td>0.5</td>\n",
       "      <td>0.0</td>\n",
       "      <td>0.00</td>\n",
       "      <td>0.3</td>\n",
       "      <td>32.50</td>\n",
       "      <td>0.0</td>\n",
       "    </tr>\n",
       "    <tr>\n",
       "      <th>7213888</th>\n",
       "      <td>NaN</td>\n",
       "      <td>2019-10-31 23:50:35</td>\n",
       "      <td>2019-11-01 00:08:45</td>\n",
       "      <td>NaN</td>\n",
       "      <td>4.63</td>\n",
       "      <td>NaN</td>\n",
       "      <td>NaN</td>\n",
       "      <td>186</td>\n",
       "      <td>166</td>\n",
       "      <td>NaN</td>\n",
       "      <td>29.26</td>\n",
       "      <td>2.75</td>\n",
       "      <td>0.0</td>\n",
       "      <td>0.0</td>\n",
       "      <td>0.00</td>\n",
       "      <td>0.3</td>\n",
       "      <td>32.31</td>\n",
       "      <td>0.0</td>\n",
       "    </tr>\n",
       "    <tr>\n",
       "      <th>7213889</th>\n",
       "      <td>NaN</td>\n",
       "      <td>2019-10-31 23:29:26</td>\n",
       "      <td>2019-10-31 23:59:15</td>\n",
       "      <td>NaN</td>\n",
       "      <td>17.49</td>\n",
       "      <td>NaN</td>\n",
       "      <td>NaN</td>\n",
       "      <td>45</td>\n",
       "      <td>122</td>\n",
       "      <td>NaN</td>\n",
       "      <td>54.25</td>\n",
       "      <td>2.75</td>\n",
       "      <td>0.0</td>\n",
       "      <td>0.0</td>\n",
       "      <td>6.12</td>\n",
       "      <td>0.3</td>\n",
       "      <td>63.42</td>\n",
       "      <td>0.0</td>\n",
       "    </tr>\n",
       "    <tr>\n",
       "      <th>7213890</th>\n",
       "      <td>NaN</td>\n",
       "      <td>2019-10-31 23:52:00</td>\n",
       "      <td>2019-11-01 00:39:00</td>\n",
       "      <td>NaN</td>\n",
       "      <td>15.97</td>\n",
       "      <td>NaN</td>\n",
       "      <td>NaN</td>\n",
       "      <td>140</td>\n",
       "      <td>91</td>\n",
       "      <td>NaN</td>\n",
       "      <td>39.62</td>\n",
       "      <td>2.75</td>\n",
       "      <td>0.5</td>\n",
       "      <td>0.0</td>\n",
       "      <td>6.12</td>\n",
       "      <td>0.3</td>\n",
       "      <td>49.29</td>\n",
       "      <td>0.0</td>\n",
       "    </tr>\n",
       "  </tbody>\n",
       "</table>\n",
       "<p>7213891 rows × 18 columns</p>\n",
       "</div>"
      ],
      "text/plain": [
       "         VendorID tpep_pickup_datetime tpep_dropoff_datetime  passenger_count  \\\n",
       "0             1.0  2019-10-01 00:19:55   2019-10-01 00:23:57              1.0   \n",
       "1             1.0  2019-10-01 00:40:19   2019-10-01 00:55:17              2.0   \n",
       "2             1.0  2019-10-01 00:06:52   2019-10-01 00:21:23              1.0   \n",
       "3             2.0  2019-10-01 00:36:08   2019-10-01 00:36:15              1.0   \n",
       "4             2.0  2019-10-01 00:36:08   2019-10-01 00:36:15              1.0   \n",
       "...           ...                  ...                   ...              ...   \n",
       "7213886       NaN  2019-10-31 23:20:00   2019-10-31 23:56:00              NaN   \n",
       "7213887       NaN  2019-10-31 23:42:00   2019-11-01 00:07:00              NaN   \n",
       "7213888       NaN  2019-10-31 23:50:35   2019-11-01 00:08:45              NaN   \n",
       "7213889       NaN  2019-10-31 23:29:26   2019-10-31 23:59:15              NaN   \n",
       "7213890       NaN  2019-10-31 23:52:00   2019-11-01 00:39:00              NaN   \n",
       "\n",
       "         trip_distance  RatecodeID store_and_fwd_flag  PULocationID  \\\n",
       "0                 0.40         1.0                  N            48   \n",
       "1                 4.30         1.0                  N           144   \n",
       "2                 5.00         1.0                  N           137   \n",
       "3                 0.00         1.0                  N            25   \n",
       "4                 0.00         1.0                  N            25   \n",
       "...                ...         ...                ...           ...   \n",
       "7213886          19.53         NaN                NaN            77   \n",
       "7213887           4.96         NaN                NaN           238   \n",
       "7213888           4.63         NaN                NaN           186   \n",
       "7213889          17.49         NaN                NaN            45   \n",
       "7213890          15.97         NaN                NaN           140   \n",
       "\n",
       "         DOLocationID  payment_type  fare_amount  extra  mta_tax  tip_amount  \\\n",
       "0                 163           2.0         4.50   3.00      0.5         0.0   \n",
       "1                 141           1.0        14.50   3.00      0.5         2.0   \n",
       "2                  80           1.0        17.00   3.00      0.5         5.2   \n",
       "3                  25           4.0        -2.50  -0.50     -0.5         0.0   \n",
       "4                  25           2.0         2.50   0.50      0.5         0.0   \n",
       "...               ...           ...          ...    ...      ...         ...   \n",
       "7213886           119           NaN        63.83   2.75      0.5         0.0   \n",
       "7213887           137           NaN        28.95   2.75      0.5         0.0   \n",
       "7213888           166           NaN        29.26   2.75      0.0         0.0   \n",
       "7213889           122           NaN        54.25   2.75      0.0         0.0   \n",
       "7213890            91           NaN        39.62   2.75      0.5         0.0   \n",
       "\n",
       "         tolls_amount  improvement_surcharge  total_amount  \\\n",
       "0                0.00                    0.3          8.30   \n",
       "1                0.00                    0.3         20.30   \n",
       "2                0.00                    0.3         26.00   \n",
       "3                0.00                   -0.3         -3.80   \n",
       "4                0.00                    0.3          3.80   \n",
       "...               ...                    ...           ...   \n",
       "7213886          6.12                    0.3         73.50   \n",
       "7213887          0.00                    0.3         32.50   \n",
       "7213888          0.00                    0.3         32.31   \n",
       "7213889          6.12                    0.3         63.42   \n",
       "7213890          6.12                    0.3         49.29   \n",
       "\n",
       "         congestion_surcharge  \n",
       "0                         2.5  \n",
       "1                         2.5  \n",
       "2                         2.5  \n",
       "3                         0.0  \n",
       "4                         0.0  \n",
       "...                       ...  \n",
       "7213886                   0.0  \n",
       "7213887                   0.0  \n",
       "7213888                   0.0  \n",
       "7213889                   0.0  \n",
       "7213890                   0.0  \n",
       "\n",
       "[7213891 rows x 18 columns]"
      ]
     },
     "execution_count": 4,
     "metadata": {},
     "output_type": "execute_result"
    }
   ],
   "source": [
    "yellow_trip_df"
   ]
  },
  {
   "cell_type": "code",
   "execution_count": 5,
   "id": "e7d0ec8b",
   "metadata": {},
   "outputs": [],
   "source": [
    "#green_trip_df = pd.read_csv('green_tripdata_2019-10.csv')"
   ]
  },
  {
   "cell_type": "code",
   "execution_count": 6,
   "id": "874328dd",
   "metadata": {},
   "outputs": [],
   "source": [
    "#green_trip_df"
   ]
  },
  {
   "cell_type": "code",
   "execution_count": 7,
   "id": "f3477603",
   "metadata": {},
   "outputs": [],
   "source": [
    "#fhv_trip_df = pd.read_csv('fhv_tripdata_2019-10.csv')"
   ]
  },
  {
   "cell_type": "code",
   "execution_count": 8,
   "id": "cf2dcb3a",
   "metadata": {},
   "outputs": [],
   "source": [
    "#fhv_trip_df"
   ]
  },
  {
   "cell_type": "code",
   "execution_count": 9,
   "id": "1942b88a",
   "metadata": {},
   "outputs": [],
   "source": [
    "#fhvhv_trip_df = pd.read_csv('fhvhv_tripdata_2019-10.csv')"
   ]
  },
  {
   "cell_type": "code",
   "execution_count": 10,
   "id": "4e845769",
   "metadata": {},
   "outputs": [],
   "source": [
    "#fhvhv_trip_df"
   ]
  },
  {
   "cell_type": "code",
   "execution_count": 11,
   "id": "bd2d4e7b",
   "metadata": {},
   "outputs": [],
   "source": [
    "taxi_zone_df = pd.read_csv('taxi+_zone_lookup.csv')"
   ]
  },
  {
   "cell_type": "code",
   "execution_count": 12,
   "id": "1d433ca0",
   "metadata": {},
   "outputs": [
    {
     "data": {
      "text/html": [
       "<div>\n",
       "<style scoped>\n",
       "    .dataframe tbody tr th:only-of-type {\n",
       "        vertical-align: middle;\n",
       "    }\n",
       "\n",
       "    .dataframe tbody tr th {\n",
       "        vertical-align: top;\n",
       "    }\n",
       "\n",
       "    .dataframe thead th {\n",
       "        text-align: right;\n",
       "    }\n",
       "</style>\n",
       "<table border=\"1\" class=\"dataframe\">\n",
       "  <thead>\n",
       "    <tr style=\"text-align: right;\">\n",
       "      <th></th>\n",
       "      <th>LocationID</th>\n",
       "      <th>Borough</th>\n",
       "      <th>Zone</th>\n",
       "      <th>service_zone</th>\n",
       "    </tr>\n",
       "  </thead>\n",
       "  <tbody>\n",
       "    <tr>\n",
       "      <th>0</th>\n",
       "      <td>1</td>\n",
       "      <td>EWR</td>\n",
       "      <td>Newark Airport</td>\n",
       "      <td>EWR</td>\n",
       "    </tr>\n",
       "    <tr>\n",
       "      <th>1</th>\n",
       "      <td>2</td>\n",
       "      <td>Queens</td>\n",
       "      <td>Jamaica Bay</td>\n",
       "      <td>Boro Zone</td>\n",
       "    </tr>\n",
       "    <tr>\n",
       "      <th>2</th>\n",
       "      <td>3</td>\n",
       "      <td>Bronx</td>\n",
       "      <td>Allerton/Pelham Gardens</td>\n",
       "      <td>Boro Zone</td>\n",
       "    </tr>\n",
       "    <tr>\n",
       "      <th>3</th>\n",
       "      <td>4</td>\n",
       "      <td>Manhattan</td>\n",
       "      <td>Alphabet City</td>\n",
       "      <td>Yellow Zone</td>\n",
       "    </tr>\n",
       "    <tr>\n",
       "      <th>4</th>\n",
       "      <td>5</td>\n",
       "      <td>Staten Island</td>\n",
       "      <td>Arden Heights</td>\n",
       "      <td>Boro Zone</td>\n",
       "    </tr>\n",
       "    <tr>\n",
       "      <th>...</th>\n",
       "      <td>...</td>\n",
       "      <td>...</td>\n",
       "      <td>...</td>\n",
       "      <td>...</td>\n",
       "    </tr>\n",
       "    <tr>\n",
       "      <th>260</th>\n",
       "      <td>261</td>\n",
       "      <td>Manhattan</td>\n",
       "      <td>World Trade Center</td>\n",
       "      <td>Yellow Zone</td>\n",
       "    </tr>\n",
       "    <tr>\n",
       "      <th>261</th>\n",
       "      <td>262</td>\n",
       "      <td>Manhattan</td>\n",
       "      <td>Yorkville East</td>\n",
       "      <td>Yellow Zone</td>\n",
       "    </tr>\n",
       "    <tr>\n",
       "      <th>262</th>\n",
       "      <td>263</td>\n",
       "      <td>Manhattan</td>\n",
       "      <td>Yorkville West</td>\n",
       "      <td>Yellow Zone</td>\n",
       "    </tr>\n",
       "    <tr>\n",
       "      <th>263</th>\n",
       "      <td>264</td>\n",
       "      <td>Unknown</td>\n",
       "      <td>NV</td>\n",
       "      <td>NaN</td>\n",
       "    </tr>\n",
       "    <tr>\n",
       "      <th>264</th>\n",
       "      <td>265</td>\n",
       "      <td>Unknown</td>\n",
       "      <td>NaN</td>\n",
       "      <td>NaN</td>\n",
       "    </tr>\n",
       "  </tbody>\n",
       "</table>\n",
       "<p>265 rows × 4 columns</p>\n",
       "</div>"
      ],
      "text/plain": [
       "     LocationID        Borough                     Zone service_zone\n",
       "0             1            EWR           Newark Airport          EWR\n",
       "1             2         Queens              Jamaica Bay    Boro Zone\n",
       "2             3          Bronx  Allerton/Pelham Gardens    Boro Zone\n",
       "3             4      Manhattan            Alphabet City  Yellow Zone\n",
       "4             5  Staten Island            Arden Heights    Boro Zone\n",
       "..          ...            ...                      ...          ...\n",
       "260         261      Manhattan       World Trade Center  Yellow Zone\n",
       "261         262      Manhattan           Yorkville East  Yellow Zone\n",
       "262         263      Manhattan           Yorkville West  Yellow Zone\n",
       "263         264        Unknown                       NV          NaN\n",
       "264         265        Unknown                      NaN          NaN\n",
       "\n",
       "[265 rows x 4 columns]"
      ]
     },
     "execution_count": 12,
     "metadata": {},
     "output_type": "execute_result"
    }
   ],
   "source": [
    "taxi_zone_df"
   ]
  },
  {
   "cell_type": "markdown",
   "id": "ad1aa0bb",
   "metadata": {},
   "source": [
    "# Exploring Yellow Trips Data"
   ]
  },
  {
   "cell_type": "code",
   "execution_count": 13,
   "id": "4fc0882e",
   "metadata": {},
   "outputs": [
    {
     "data": {
      "text/html": [
       "<div>\n",
       "<style scoped>\n",
       "    .dataframe tbody tr th:only-of-type {\n",
       "        vertical-align: middle;\n",
       "    }\n",
       "\n",
       "    .dataframe tbody tr th {\n",
       "        vertical-align: top;\n",
       "    }\n",
       "\n",
       "    .dataframe thead th {\n",
       "        text-align: right;\n",
       "    }\n",
       "</style>\n",
       "<table border=\"1\" class=\"dataframe\">\n",
       "  <thead>\n",
       "    <tr style=\"text-align: right;\">\n",
       "      <th></th>\n",
       "      <th>VendorID</th>\n",
       "      <th>tpep_pickup_datetime</th>\n",
       "      <th>tpep_dropoff_datetime</th>\n",
       "      <th>passenger_count</th>\n",
       "      <th>trip_distance</th>\n",
       "      <th>RatecodeID</th>\n",
       "      <th>store_and_fwd_flag</th>\n",
       "      <th>PULocationID</th>\n",
       "      <th>DOLocationID</th>\n",
       "      <th>payment_type</th>\n",
       "      <th>fare_amount</th>\n",
       "      <th>extra</th>\n",
       "      <th>mta_tax</th>\n",
       "      <th>tip_amount</th>\n",
       "      <th>tolls_amount</th>\n",
       "      <th>improvement_surcharge</th>\n",
       "      <th>total_amount</th>\n",
       "      <th>congestion_surcharge</th>\n",
       "    </tr>\n",
       "  </thead>\n",
       "  <tbody>\n",
       "    <tr>\n",
       "      <th>0</th>\n",
       "      <td>1.0</td>\n",
       "      <td>2019-10-01 00:19:55</td>\n",
       "      <td>2019-10-01 00:23:57</td>\n",
       "      <td>1.0</td>\n",
       "      <td>0.4</td>\n",
       "      <td>1.0</td>\n",
       "      <td>N</td>\n",
       "      <td>48</td>\n",
       "      <td>163</td>\n",
       "      <td>2.0</td>\n",
       "      <td>4.5</td>\n",
       "      <td>3.0</td>\n",
       "      <td>0.5</td>\n",
       "      <td>0.0</td>\n",
       "      <td>0.0</td>\n",
       "      <td>0.3</td>\n",
       "      <td>8.3</td>\n",
       "      <td>2.5</td>\n",
       "    </tr>\n",
       "    <tr>\n",
       "      <th>1</th>\n",
       "      <td>1.0</td>\n",
       "      <td>2019-10-01 00:40:19</td>\n",
       "      <td>2019-10-01 00:55:17</td>\n",
       "      <td>2.0</td>\n",
       "      <td>4.3</td>\n",
       "      <td>1.0</td>\n",
       "      <td>N</td>\n",
       "      <td>144</td>\n",
       "      <td>141</td>\n",
       "      <td>1.0</td>\n",
       "      <td>14.5</td>\n",
       "      <td>3.0</td>\n",
       "      <td>0.5</td>\n",
       "      <td>2.0</td>\n",
       "      <td>0.0</td>\n",
       "      <td>0.3</td>\n",
       "      <td>20.3</td>\n",
       "      <td>2.5</td>\n",
       "    </tr>\n",
       "    <tr>\n",
       "      <th>2</th>\n",
       "      <td>1.0</td>\n",
       "      <td>2019-10-01 00:06:52</td>\n",
       "      <td>2019-10-01 00:21:23</td>\n",
       "      <td>1.0</td>\n",
       "      <td>5.0</td>\n",
       "      <td>1.0</td>\n",
       "      <td>N</td>\n",
       "      <td>137</td>\n",
       "      <td>80</td>\n",
       "      <td>1.0</td>\n",
       "      <td>17.0</td>\n",
       "      <td>3.0</td>\n",
       "      <td>0.5</td>\n",
       "      <td>5.2</td>\n",
       "      <td>0.0</td>\n",
       "      <td>0.3</td>\n",
       "      <td>26.0</td>\n",
       "      <td>2.5</td>\n",
       "    </tr>\n",
       "    <tr>\n",
       "      <th>3</th>\n",
       "      <td>2.0</td>\n",
       "      <td>2019-10-01 00:36:08</td>\n",
       "      <td>2019-10-01 00:36:15</td>\n",
       "      <td>1.0</td>\n",
       "      <td>0.0</td>\n",
       "      <td>1.0</td>\n",
       "      <td>N</td>\n",
       "      <td>25</td>\n",
       "      <td>25</td>\n",
       "      <td>4.0</td>\n",
       "      <td>-2.5</td>\n",
       "      <td>-0.5</td>\n",
       "      <td>-0.5</td>\n",
       "      <td>0.0</td>\n",
       "      <td>0.0</td>\n",
       "      <td>-0.3</td>\n",
       "      <td>-3.8</td>\n",
       "      <td>0.0</td>\n",
       "    </tr>\n",
       "    <tr>\n",
       "      <th>4</th>\n",
       "      <td>2.0</td>\n",
       "      <td>2019-10-01 00:36:08</td>\n",
       "      <td>2019-10-01 00:36:15</td>\n",
       "      <td>1.0</td>\n",
       "      <td>0.0</td>\n",
       "      <td>1.0</td>\n",
       "      <td>N</td>\n",
       "      <td>25</td>\n",
       "      <td>25</td>\n",
       "      <td>2.0</td>\n",
       "      <td>2.5</td>\n",
       "      <td>0.5</td>\n",
       "      <td>0.5</td>\n",
       "      <td>0.0</td>\n",
       "      <td>0.0</td>\n",
       "      <td>0.3</td>\n",
       "      <td>3.8</td>\n",
       "      <td>0.0</td>\n",
       "    </tr>\n",
       "  </tbody>\n",
       "</table>\n",
       "</div>"
      ],
      "text/plain": [
       "   VendorID tpep_pickup_datetime tpep_dropoff_datetime  passenger_count  \\\n",
       "0       1.0  2019-10-01 00:19:55   2019-10-01 00:23:57              1.0   \n",
       "1       1.0  2019-10-01 00:40:19   2019-10-01 00:55:17              2.0   \n",
       "2       1.0  2019-10-01 00:06:52   2019-10-01 00:21:23              1.0   \n",
       "3       2.0  2019-10-01 00:36:08   2019-10-01 00:36:15              1.0   \n",
       "4       2.0  2019-10-01 00:36:08   2019-10-01 00:36:15              1.0   \n",
       "\n",
       "   trip_distance  RatecodeID store_and_fwd_flag  PULocationID  DOLocationID  \\\n",
       "0            0.4         1.0                  N            48           163   \n",
       "1            4.3         1.0                  N           144           141   \n",
       "2            5.0         1.0                  N           137            80   \n",
       "3            0.0         1.0                  N            25            25   \n",
       "4            0.0         1.0                  N            25            25   \n",
       "\n",
       "   payment_type  fare_amount  extra  mta_tax  tip_amount  tolls_amount  \\\n",
       "0           2.0          4.5    3.0      0.5         0.0           0.0   \n",
       "1           1.0         14.5    3.0      0.5         2.0           0.0   \n",
       "2           1.0         17.0    3.0      0.5         5.2           0.0   \n",
       "3           4.0         -2.5   -0.5     -0.5         0.0           0.0   \n",
       "4           2.0          2.5    0.5      0.5         0.0           0.0   \n",
       "\n",
       "   improvement_surcharge  total_amount  congestion_surcharge  \n",
       "0                    0.3           8.3                   2.5  \n",
       "1                    0.3          20.3                   2.5  \n",
       "2                    0.3          26.0                   2.5  \n",
       "3                   -0.3          -3.8                   0.0  \n",
       "4                    0.3           3.8                   0.0  "
      ]
     },
     "execution_count": 13,
     "metadata": {},
     "output_type": "execute_result"
    }
   ],
   "source": [
    "yellow_trip_df.head(5)"
   ]
  },
  {
   "cell_type": "code",
   "execution_count": 14,
   "id": "b4d87862",
   "metadata": {},
   "outputs": [
    {
     "name": "stdout",
     "output_type": "stream",
     "text": [
      "<class 'pandas.core.frame.DataFrame'>\n",
      "RangeIndex: 7213891 entries, 0 to 7213890\n",
      "Data columns (total 18 columns):\n",
      " #   Column                 Dtype  \n",
      "---  ------                 -----  \n",
      " 0   VendorID               float64\n",
      " 1   tpep_pickup_datetime   object \n",
      " 2   tpep_dropoff_datetime  object \n",
      " 3   passenger_count        float64\n",
      " 4   trip_distance          float64\n",
      " 5   RatecodeID             float64\n",
      " 6   store_and_fwd_flag     object \n",
      " 7   PULocationID           int64  \n",
      " 8   DOLocationID           int64  \n",
      " 9   payment_type           float64\n",
      " 10  fare_amount            float64\n",
      " 11  extra                  float64\n",
      " 12  mta_tax                float64\n",
      " 13  tip_amount             float64\n",
      " 14  tolls_amount           float64\n",
      " 15  improvement_surcharge  float64\n",
      " 16  total_amount           float64\n",
      " 17  congestion_surcharge   float64\n",
      "dtypes: float64(13), int64(2), object(3)\n",
      "memory usage: 990.7+ MB\n"
     ]
    }
   ],
   "source": [
    "yellow_trip_df.info()"
   ]
  },
  {
   "cell_type": "code",
   "execution_count": 15,
   "id": "f488ad27",
   "metadata": {},
   "outputs": [
    {
     "data": {
      "text/plain": [
       "VendorID                 46723\n",
       "tpep_pickup_datetime         0\n",
       "tpep_dropoff_datetime        0\n",
       "passenger_count          46723\n",
       "trip_distance                0\n",
       "RatecodeID               46723\n",
       "store_and_fwd_flag       46723\n",
       "PULocationID                 0\n",
       "DOLocationID                 0\n",
       "payment_type             46723\n",
       "fare_amount                  0\n",
       "extra                        0\n",
       "mta_tax                      0\n",
       "tip_amount                   0\n",
       "tolls_amount                 0\n",
       "improvement_surcharge        0\n",
       "total_amount                 0\n",
       "congestion_surcharge         0\n",
       "dtype: int64"
      ]
     },
     "execution_count": 15,
     "metadata": {},
     "output_type": "execute_result"
    }
   ],
   "source": [
    "# number of missing/null values each columns\n",
    "yellow_trip_df.isna().sum() "
   ]
  },
  {
   "cell_type": "code",
   "execution_count": 16,
   "id": "15e7124f",
   "metadata": {},
   "outputs": [
    {
     "data": {
      "text/plain": [
       "VendorID                       2\n",
       "tpep_pickup_datetime     2218590\n",
       "tpep_dropoff_datetime    2221573\n",
       "passenger_count               10\n",
       "trip_distance               4555\n",
       "RatecodeID                     7\n",
       "store_and_fwd_flag             2\n",
       "PULocationID                 260\n",
       "DOLocationID                 261\n",
       "payment_type                   4\n",
       "fare_amount                 5396\n",
       "extra                         48\n",
       "mta_tax                        9\n",
       "tip_amount                  3809\n",
       "tolls_amount                1068\n",
       "improvement_surcharge          3\n",
       "total_amount               12652\n",
       "congestion_surcharge           6\n",
       "dtype: int64"
      ]
     },
     "execution_count": 16,
     "metadata": {},
     "output_type": "execute_result"
    }
   ],
   "source": [
    "yellow_trip_df.apply(pd.Series.nunique)"
   ]
  },
  {
   "cell_type": "markdown",
   "id": "9c54e2a5",
   "metadata": {},
   "source": [
    "## Inspect Some Features that their entries less than 10"
   ]
  },
  {
   "cell_type": "markdown",
   "id": "e0b9c07a",
   "metadata": {},
   "source": [
    "### VendorID\n",
    "A code indicating the TPEP provider that provided the record. \n",
    "\n",
    "1= Creative Mobile Technologies, LLC;\n",
    "\n",
    "2= VeriFone Inc."
   ]
  },
  {
   "cell_type": "code",
   "execution_count": 17,
   "id": "69cfc0ab",
   "metadata": {},
   "outputs": [
    {
     "data": {
      "text/plain": [
       "array([ 1.,  2., nan])"
      ]
     },
     "execution_count": 17,
     "metadata": {},
     "output_type": "execute_result"
    }
   ],
   "source": [
    "yellow_trip_df['VendorID'].unique()                  "
   ]
  },
  {
   "cell_type": "markdown",
   "id": "d3459b03",
   "metadata": {},
   "source": [
    "### RateCodeID:\n",
    "The final rate code in effect at the end of the trip.\n",
    "\n",
    "1= Standard rate\n",
    "\n",
    "2=JFK\n",
    "\n",
    "3=Newark\n",
    "\n",
    "4=Nassau or Westchester\n",
    "\n",
    "5=Negotiated fare\n",
    "\n",
    "6=Group ride"
   ]
  },
  {
   "cell_type": "code",
   "execution_count": 18,
   "id": "dc936c11",
   "metadata": {},
   "outputs": [
    {
     "data": {
      "text/plain": [
       "array([ 1.,  5.,  3.,  2.,  4., 99.,  6., nan])"
      ]
     },
     "execution_count": 18,
     "metadata": {},
     "output_type": "execute_result"
    }
   ],
   "source": [
    "yellow_trip_df['RatecodeID'].unique()                  "
   ]
  },
  {
   "cell_type": "code",
   "execution_count": 19,
   "id": "98dd1bd9",
   "metadata": {
    "scrolled": true
   },
   "outputs": [
    {
     "data": {
      "text/plain": [
       "array([ 1.,  2.,  3.,  0.,  5.,  4.,  6.,  8.,  9.,  7., nan])"
      ]
     },
     "execution_count": 19,
     "metadata": {},
     "output_type": "execute_result"
    }
   ],
   "source": [
    "# The number of passengers in the vehicle. This is a driver-entered value.\n",
    "yellow_trip_df['passenger_count'].unique()                  "
   ]
  },
  {
   "cell_type": "markdown",
   "id": "a544d0bf",
   "metadata": {},
   "source": [
    "### Store and fwd flag:\n",
    "This flag indicates whether the trip record was held in vehicle \n",
    "memory before sending to the vendor, aka “store and forward,” \n",
    "because the vehicle did not have a connection to the server.\n",
    "\n",
    "Y= store and forward trip\n",
    "\n",
    "N= not a store and forward trip"
   ]
  },
  {
   "cell_type": "code",
   "execution_count": 20,
   "id": "d1f67f7c",
   "metadata": {},
   "outputs": [
    {
     "data": {
      "text/plain": [
       "array(['N', 'Y', nan], dtype=object)"
      ]
     },
     "execution_count": 20,
     "metadata": {},
     "output_type": "execute_result"
    }
   ],
   "source": [
    "yellow_trip_df['store_and_fwd_flag'].unique() "
   ]
  },
  {
   "cell_type": "markdown",
   "id": "76219d6b",
   "metadata": {},
   "source": [
    "### payment_type:\n",
    "A numeric code signifying how the passenger paid for the trip. \n",
    "\n",
    "1= Credit card\n",
    "\n",
    "2= Cash\n",
    "\n",
    "3= No charge\n",
    "\n",
    "4= Dispute\n",
    "\n",
    "5= Unknown\n",
    "\n",
    "6= Voided trip\n"
   ]
  },
  {
   "cell_type": "code",
   "execution_count": 21,
   "id": "cc39139b",
   "metadata": {},
   "outputs": [
    {
     "data": {
      "text/plain": [
       "array([ 2.,  1.,  4.,  3., nan])"
      ]
     },
     "execution_count": 21,
     "metadata": {},
     "output_type": "execute_result"
    }
   ],
   "source": [
    "yellow_trip_df['payment_type'].unique() "
   ]
  },
  {
   "cell_type": "markdown",
   "id": "c483b94b",
   "metadata": {},
   "source": [
    "### Show the differences btween these prices and how they effects on the trips's prices\n",
    "\n",
    "#### fare_amount:\n",
    "The time-and-distance fare calculated by the meter \n",
    "\n",
    "#### extra, \n",
    "Miscellaneous extras and surcharges. Currently, this only includes\n",
    "the $0.50 and $1 rush hour and overnight charges\n",
    "\n",
    "#### mta_tax:\n",
    "$0.50 MTA tax that is automatically triggered based on the metered \n",
    "rate in use.\n",
    "\n",
    "#### tip_amount:\n",
    "Tip amount – This field is automatically populated for credit card \n",
    "tips. Cash tips are not included.\n",
    "\n",
    "#### tolls_amount\n",
    "Total amount of all tolls paid in trip\n",
    "\n",
    "#### improvement_surcharge:\n",
    "$0.30 improvement surcharge assessed trips at the flag drop. The \n",
    "improvement surcharge began being levied in 2015.\n",
    "\n",
    "#### total amount:\n",
    "The total amount charged to passengers. Does not include cash tips.\n",
    "\n",
    "#### congestion_surcharge:\n",
    "On January 1st 2019, New York State’s congestion surcharge will take effect. As a result, trips in taxis and For-Hire Vehicles will be charged a surcharge for trips that start, end or pass through Congestion Zone. The Congestion Zone is Manhattan, south of 96th Street "
   ]
  },
  {
   "cell_type": "code",
   "execution_count": 22,
   "id": "1847d785",
   "metadata": {},
   "outputs": [
    {
     "data": {
      "text/plain": [
       "array([ 0.5 , -0.5 ,  0.  ,  3.3 ,  0.35, 19.42,  0.25,  1.1 , 60.  ])"
      ]
     },
     "execution_count": 22,
     "metadata": {},
     "output_type": "execute_result"
    }
   ],
   "source": [
    "# $0.50 MTA tax that is automatically triggered based on the metered rate in use.\n",
    "yellow_trip_df['mta_tax'].unique()                         "
   ]
  },
  {
   "cell_type": "markdown",
   "id": "cd022f07",
   "metadata": {},
   "source": [
    "### Congestion Surcharge :\n",
    "\n",
    "$2.50 for non-shared trips in taxicabs\n",
    "\n",
    "$2.75 for non-shared trips in For-Hire-Vehicles, including limousines, and Street-Hail Liveries (Green Taxis)\n",
    "\n",
    "OR\n",
    "\n",
    "$0.75 for shared-rides in any type of vehicle\n",
    "\n",
    "No surcharge for Access-A-Ride, or any other MTA dispatched trip.\n"
   ]
  },
  {
   "cell_type": "code",
   "execution_count": 23,
   "id": "92950a6a",
   "metadata": {
    "scrolled": false
   },
   "outputs": [
    {
     "data": {
      "text/plain": [
       "array([ 2.5 ,  0.  , -2.5 ,  0.75,  2.75,  0.3 ])"
      ]
     },
     "execution_count": 23,
     "metadata": {},
     "output_type": "execute_result"
    }
   ],
   "source": [
    "yellow_trip_df['congestion_surcharge'].unique()                                                        "
   ]
  },
  {
   "cell_type": "code",
   "execution_count": 24,
   "id": "d70cb1ce",
   "metadata": {},
   "outputs": [
    {
     "data": {
      "text/plain": [
       "array([ 0.3, -0.3,  0. ])"
      ]
     },
     "execution_count": 24,
     "metadata": {},
     "output_type": "execute_result"
    }
   ],
   "source": [
    "yellow_trip_df['improvement_surcharge'].unique()                                                        "
   ]
  },
  {
   "cell_type": "markdown",
   "id": "d83ffcf1",
   "metadata": {},
   "source": [
    "# Preprocessing Dataset"
   ]
  },
  {
   "cell_type": "code",
   "execution_count": 25,
   "id": "6939d5ea",
   "metadata": {},
   "outputs": [
    {
     "data": {
      "text/plain": [
       "Index(['VendorID', 'tpep_pickup_datetime', 'tpep_dropoff_datetime',\n",
       "       'passenger_count', 'trip_distance', 'RatecodeID', 'store_and_fwd_flag',\n",
       "       'PULocationID', 'DOLocationID', 'payment_type', 'fare_amount', 'extra',\n",
       "       'mta_tax', 'tip_amount', 'tolls_amount', 'improvement_surcharge',\n",
       "       'total_amount', 'congestion_surcharge'],\n",
       "      dtype='object')"
      ]
     },
     "execution_count": 25,
     "metadata": {},
     "output_type": "execute_result"
    }
   ],
   "source": [
    "yellow_trip_df.columns"
   ]
  },
  {
   "cell_type": "code",
   "execution_count": 26,
   "id": "d677c75f",
   "metadata": {},
   "outputs": [],
   "source": [
    "yellow_trip_df.dropna(how='any',inplace=True)"
   ]
  },
  {
   "cell_type": "code",
   "execution_count": 27,
   "id": "43416a8d",
   "metadata": {},
   "outputs": [
    {
     "data": {
      "text/plain": [
       "VendorID                 0\n",
       "tpep_pickup_datetime     0\n",
       "tpep_dropoff_datetime    0\n",
       "passenger_count          0\n",
       "trip_distance            0\n",
       "RatecodeID               0\n",
       "store_and_fwd_flag       0\n",
       "PULocationID             0\n",
       "DOLocationID             0\n",
       "payment_type             0\n",
       "fare_amount              0\n",
       "extra                    0\n",
       "mta_tax                  0\n",
       "tip_amount               0\n",
       "tolls_amount             0\n",
       "improvement_surcharge    0\n",
       "total_amount             0\n",
       "congestion_surcharge     0\n",
       "dtype: int64"
      ]
     },
     "execution_count": 27,
     "metadata": {},
     "output_type": "execute_result"
    }
   ],
   "source": [
    "yellow_trip_df.isna().sum()"
   ]
  },
  {
   "cell_type": "code",
   "execution_count": 28,
   "id": "c9b71e7e",
   "metadata": {},
   "outputs": [
    {
     "data": {
      "text/plain": [
       "1"
      ]
     },
     "execution_count": 28,
     "metadata": {},
     "output_type": "execute_result"
    }
   ],
   "source": [
    "#### Checking for duplicates\n",
    "yellow_trip_df.duplicated().sum()"
   ]
  },
  {
   "cell_type": "code",
   "execution_count": 29,
   "id": "11bfe70f",
   "metadata": {},
   "outputs": [
    {
     "data": {
      "text/plain": [
       "0"
      ]
     },
     "execution_count": 29,
     "metadata": {},
     "output_type": "execute_result"
    }
   ],
   "source": [
    "yellow_trip_df= yellow_trip_df.drop_duplicates()  ## dropes duplicates\n",
    "yellow_trip_df.duplicated().sum()"
   ]
  },
  {
   "cell_type": "code",
   "execution_count": 30,
   "id": "0558c9f9",
   "metadata": {},
   "outputs": [
    {
     "name": "stdout",
     "output_type": "stream",
     "text": [
      "<class 'pandas.core.frame.DataFrame'>\n",
      "Int64Index: 7167167 entries, 0 to 7167167\n",
      "Data columns (total 18 columns):\n",
      " #   Column                 Dtype  \n",
      "---  ------                 -----  \n",
      " 0   VendorID               float64\n",
      " 1   tpep_pickup_datetime   object \n",
      " 2   tpep_dropoff_datetime  object \n",
      " 3   passenger_count        float64\n",
      " 4   trip_distance          float64\n",
      " 5   RatecodeID             float64\n",
      " 6   store_and_fwd_flag     object \n",
      " 7   PULocationID           int64  \n",
      " 8   DOLocationID           int64  \n",
      " 9   payment_type           float64\n",
      " 10  fare_amount            float64\n",
      " 11  extra                  float64\n",
      " 12  mta_tax                float64\n",
      " 13  tip_amount             float64\n",
      " 14  tolls_amount           float64\n",
      " 15  improvement_surcharge  float64\n",
      " 16  total_amount           float64\n",
      " 17  congestion_surcharge   float64\n",
      "dtypes: float64(13), int64(2), object(3)\n",
      "memory usage: 1.0+ GB\n"
     ]
    }
   ],
   "source": [
    "yellow_trip_df.info()"
   ]
  },
  {
   "cell_type": "code",
   "execution_count": 31,
   "id": "20e55629",
   "metadata": {},
   "outputs": [],
   "source": [
    "# convert the type of 'tpep_pickup_datetime' & 'tpep_dropoff_datetime' to DateTime Type\n",
    "yellow_trip_df['tpep_pickup_datetime']=pd.to_datetime(yellow_trip_df['tpep_pickup_datetime'])\n",
    "yellow_trip_df['tpep_dropoff_datetime']=pd.to_datetime(yellow_trip_df['tpep_dropoff_datetime'])"
   ]
  },
  {
   "cell_type": "markdown",
   "id": "b8be2181",
   "metadata": {},
   "source": [
    "### Creating new features"
   ]
  },
  {
   "cell_type": "code",
   "execution_count": 32,
   "id": "8a7257ae",
   "metadata": {},
   "outputs": [],
   "source": [
    "#Now, extract and create a new feature 'Day number' & 'Hour' from the above two coulmns,Monday=0 and Sunday=6\n",
    "yellow_trip_df['pickup_day_num']=yellow_trip_df['tpep_pickup_datetime'].dt.weekday\n",
    "yellow_trip_df['dropoff_day_num']=yellow_trip_df['tpep_dropoff_datetime'].dt.weekday"
   ]
  },
  {
   "cell_type": "code",
   "execution_count": 33,
   "id": "cf4929ff",
   "metadata": {},
   "outputs": [
    {
     "data": {
      "text/html": [
       "<div>\n",
       "<style scoped>\n",
       "    .dataframe tbody tr th:only-of-type {\n",
       "        vertical-align: middle;\n",
       "    }\n",
       "\n",
       "    .dataframe tbody tr th {\n",
       "        vertical-align: top;\n",
       "    }\n",
       "\n",
       "    .dataframe thead th {\n",
       "        text-align: right;\n",
       "    }\n",
       "</style>\n",
       "<table border=\"1\" class=\"dataframe\">\n",
       "  <thead>\n",
       "    <tr style=\"text-align: right;\">\n",
       "      <th></th>\n",
       "      <th>VendorID</th>\n",
       "      <th>tpep_pickup_datetime</th>\n",
       "      <th>tpep_dropoff_datetime</th>\n",
       "      <th>passenger_count</th>\n",
       "      <th>trip_distance</th>\n",
       "      <th>RatecodeID</th>\n",
       "      <th>store_and_fwd_flag</th>\n",
       "      <th>PULocationID</th>\n",
       "      <th>DOLocationID</th>\n",
       "      <th>payment_type</th>\n",
       "      <th>fare_amount</th>\n",
       "      <th>extra</th>\n",
       "      <th>mta_tax</th>\n",
       "      <th>tip_amount</th>\n",
       "      <th>tolls_amount</th>\n",
       "      <th>improvement_surcharge</th>\n",
       "      <th>total_amount</th>\n",
       "      <th>congestion_surcharge</th>\n",
       "      <th>pickup_day_num</th>\n",
       "      <th>dropoff_day_num</th>\n",
       "    </tr>\n",
       "  </thead>\n",
       "  <tbody>\n",
       "    <tr>\n",
       "      <th>0</th>\n",
       "      <td>1.0</td>\n",
       "      <td>2019-10-01 00:19:55</td>\n",
       "      <td>2019-10-01 00:23:57</td>\n",
       "      <td>1.0</td>\n",
       "      <td>0.4</td>\n",
       "      <td>1.0</td>\n",
       "      <td>N</td>\n",
       "      <td>48</td>\n",
       "      <td>163</td>\n",
       "      <td>2.0</td>\n",
       "      <td>4.5</td>\n",
       "      <td>3.0</td>\n",
       "      <td>0.5</td>\n",
       "      <td>0.0</td>\n",
       "      <td>0.0</td>\n",
       "      <td>0.3</td>\n",
       "      <td>8.3</td>\n",
       "      <td>2.5</td>\n",
       "      <td>1</td>\n",
       "      <td>1</td>\n",
       "    </tr>\n",
       "    <tr>\n",
       "      <th>1</th>\n",
       "      <td>1.0</td>\n",
       "      <td>2019-10-01 00:40:19</td>\n",
       "      <td>2019-10-01 00:55:17</td>\n",
       "      <td>2.0</td>\n",
       "      <td>4.3</td>\n",
       "      <td>1.0</td>\n",
       "      <td>N</td>\n",
       "      <td>144</td>\n",
       "      <td>141</td>\n",
       "      <td>1.0</td>\n",
       "      <td>14.5</td>\n",
       "      <td>3.0</td>\n",
       "      <td>0.5</td>\n",
       "      <td>2.0</td>\n",
       "      <td>0.0</td>\n",
       "      <td>0.3</td>\n",
       "      <td>20.3</td>\n",
       "      <td>2.5</td>\n",
       "      <td>1</td>\n",
       "      <td>1</td>\n",
       "    </tr>\n",
       "  </tbody>\n",
       "</table>\n",
       "</div>"
      ],
      "text/plain": [
       "   VendorID tpep_pickup_datetime tpep_dropoff_datetime  passenger_count  \\\n",
       "0       1.0  2019-10-01 00:19:55   2019-10-01 00:23:57              1.0   \n",
       "1       1.0  2019-10-01 00:40:19   2019-10-01 00:55:17              2.0   \n",
       "\n",
       "   trip_distance  RatecodeID store_and_fwd_flag  PULocationID  DOLocationID  \\\n",
       "0            0.4         1.0                  N            48           163   \n",
       "1            4.3         1.0                  N           144           141   \n",
       "\n",
       "   payment_type  fare_amount  extra  mta_tax  tip_amount  tolls_amount  \\\n",
       "0           2.0          4.5    3.0      0.5         0.0           0.0   \n",
       "1           1.0         14.5    3.0      0.5         2.0           0.0   \n",
       "\n",
       "   improvement_surcharge  total_amount  congestion_surcharge  pickup_day_num  \\\n",
       "0                    0.3           8.3                   2.5               1   \n",
       "1                    0.3          20.3                   2.5               1   \n",
       "\n",
       "   dropoff_day_num  \n",
       "0                1  \n",
       "1                1  "
      ]
     },
     "execution_count": 33,
     "metadata": {},
     "output_type": "execute_result"
    }
   ],
   "source": [
    "yellow_trip_df.head(2)"
   ]
  },
  {
   "cell_type": "code",
   "execution_count": 34,
   "id": "5103d89b",
   "metadata": {},
   "outputs": [],
   "source": [
    "# Also extract and create another feature 'Hour'in the 24-hour format., from 'tpep_pickup_datetime' & 'tpep_pickup_datetime'  \n",
    "yellow_trip_df['pickup_hour']=yellow_trip_df['tpep_pickup_datetime'].dt.hour\n",
    "yellow_trip_df['dropoff_hour']=yellow_trip_df['tpep_dropoff_datetime'].dt.hour"
   ]
  },
  {
   "cell_type": "code",
   "execution_count": 35,
   "id": "83e70a3d",
   "metadata": {
    "scrolled": true
   },
   "outputs": [
    {
     "data": {
      "text/html": [
       "<div>\n",
       "<style scoped>\n",
       "    .dataframe tbody tr th:only-of-type {\n",
       "        vertical-align: middle;\n",
       "    }\n",
       "\n",
       "    .dataframe tbody tr th {\n",
       "        vertical-align: top;\n",
       "    }\n",
       "\n",
       "    .dataframe thead th {\n",
       "        text-align: right;\n",
       "    }\n",
       "</style>\n",
       "<table border=\"1\" class=\"dataframe\">\n",
       "  <thead>\n",
       "    <tr style=\"text-align: right;\">\n",
       "      <th></th>\n",
       "      <th>VendorID</th>\n",
       "      <th>tpep_pickup_datetime</th>\n",
       "      <th>tpep_dropoff_datetime</th>\n",
       "      <th>passenger_count</th>\n",
       "      <th>trip_distance</th>\n",
       "      <th>RatecodeID</th>\n",
       "      <th>store_and_fwd_flag</th>\n",
       "      <th>PULocationID</th>\n",
       "      <th>DOLocationID</th>\n",
       "      <th>payment_type</th>\n",
       "      <th>...</th>\n",
       "      <th>mta_tax</th>\n",
       "      <th>tip_amount</th>\n",
       "      <th>tolls_amount</th>\n",
       "      <th>improvement_surcharge</th>\n",
       "      <th>total_amount</th>\n",
       "      <th>congestion_surcharge</th>\n",
       "      <th>pickup_day_num</th>\n",
       "      <th>dropoff_day_num</th>\n",
       "      <th>pickup_hour</th>\n",
       "      <th>dropoff_hour</th>\n",
       "    </tr>\n",
       "  </thead>\n",
       "  <tbody>\n",
       "    <tr>\n",
       "      <th>7167163</th>\n",
       "      <td>1.0</td>\n",
       "      <td>2019-10-31 23:45:44</td>\n",
       "      <td>2019-11-01 00:19:07</td>\n",
       "      <td>1.0</td>\n",
       "      <td>12.80</td>\n",
       "      <td>1.0</td>\n",
       "      <td>N</td>\n",
       "      <td>133</td>\n",
       "      <td>234</td>\n",
       "      <td>2.0</td>\n",
       "      <td>...</td>\n",
       "      <td>0.5</td>\n",
       "      <td>0.00</td>\n",
       "      <td>0.0</td>\n",
       "      <td>0.3</td>\n",
       "      <td>42.30</td>\n",
       "      <td>2.5</td>\n",
       "      <td>3</td>\n",
       "      <td>4</td>\n",
       "      <td>23</td>\n",
       "      <td>0</td>\n",
       "    </tr>\n",
       "    <tr>\n",
       "      <th>7167164</th>\n",
       "      <td>2.0</td>\n",
       "      <td>2019-10-31 23:16:13</td>\n",
       "      <td>2019-10-31 23:26:28</td>\n",
       "      <td>1.0</td>\n",
       "      <td>2.13</td>\n",
       "      <td>1.0</td>\n",
       "      <td>N</td>\n",
       "      <td>239</td>\n",
       "      <td>141</td>\n",
       "      <td>2.0</td>\n",
       "      <td>...</td>\n",
       "      <td>0.5</td>\n",
       "      <td>0.00</td>\n",
       "      <td>0.0</td>\n",
       "      <td>0.3</td>\n",
       "      <td>13.80</td>\n",
       "      <td>2.5</td>\n",
       "      <td>3</td>\n",
       "      <td>3</td>\n",
       "      <td>23</td>\n",
       "      <td>23</td>\n",
       "    </tr>\n",
       "    <tr>\n",
       "      <th>7167165</th>\n",
       "      <td>2.0</td>\n",
       "      <td>2019-10-31 23:33:26</td>\n",
       "      <td>2019-10-31 23:49:39</td>\n",
       "      <td>2.0</td>\n",
       "      <td>5.59</td>\n",
       "      <td>1.0</td>\n",
       "      <td>N</td>\n",
       "      <td>236</td>\n",
       "      <td>148</td>\n",
       "      <td>1.0</td>\n",
       "      <td>...</td>\n",
       "      <td>0.5</td>\n",
       "      <td>4.56</td>\n",
       "      <td>0.0</td>\n",
       "      <td>0.3</td>\n",
       "      <td>27.36</td>\n",
       "      <td>2.5</td>\n",
       "      <td>3</td>\n",
       "      <td>3</td>\n",
       "      <td>23</td>\n",
       "      <td>23</td>\n",
       "    </tr>\n",
       "    <tr>\n",
       "      <th>7167166</th>\n",
       "      <td>2.0</td>\n",
       "      <td>2019-10-31 23:57:00</td>\n",
       "      <td>2019-11-01 00:15:54</td>\n",
       "      <td>4.0</td>\n",
       "      <td>2.38</td>\n",
       "      <td>1.0</td>\n",
       "      <td>N</td>\n",
       "      <td>79</td>\n",
       "      <td>100</td>\n",
       "      <td>1.0</td>\n",
       "      <td>...</td>\n",
       "      <td>0.5</td>\n",
       "      <td>3.46</td>\n",
       "      <td>0.0</td>\n",
       "      <td>0.3</td>\n",
       "      <td>20.76</td>\n",
       "      <td>2.5</td>\n",
       "      <td>3</td>\n",
       "      <td>4</td>\n",
       "      <td>23</td>\n",
       "      <td>0</td>\n",
       "    </tr>\n",
       "    <tr>\n",
       "      <th>7167167</th>\n",
       "      <td>2.0</td>\n",
       "      <td>2019-10-31 23:46:11</td>\n",
       "      <td>2019-11-01 00:29:35</td>\n",
       "      <td>1.0</td>\n",
       "      <td>19.03</td>\n",
       "      <td>2.0</td>\n",
       "      <td>N</td>\n",
       "      <td>132</td>\n",
       "      <td>48</td>\n",
       "      <td>2.0</td>\n",
       "      <td>...</td>\n",
       "      <td>0.5</td>\n",
       "      <td>0.00</td>\n",
       "      <td>0.0</td>\n",
       "      <td>0.3</td>\n",
       "      <td>55.30</td>\n",
       "      <td>2.5</td>\n",
       "      <td>3</td>\n",
       "      <td>4</td>\n",
       "      <td>23</td>\n",
       "      <td>0</td>\n",
       "    </tr>\n",
       "  </tbody>\n",
       "</table>\n",
       "<p>5 rows × 22 columns</p>\n",
       "</div>"
      ],
      "text/plain": [
       "         VendorID tpep_pickup_datetime tpep_dropoff_datetime  passenger_count  \\\n",
       "7167163       1.0  2019-10-31 23:45:44   2019-11-01 00:19:07              1.0   \n",
       "7167164       2.0  2019-10-31 23:16:13   2019-10-31 23:26:28              1.0   \n",
       "7167165       2.0  2019-10-31 23:33:26   2019-10-31 23:49:39              2.0   \n",
       "7167166       2.0  2019-10-31 23:57:00   2019-11-01 00:15:54              4.0   \n",
       "7167167       2.0  2019-10-31 23:46:11   2019-11-01 00:29:35              1.0   \n",
       "\n",
       "         trip_distance  RatecodeID store_and_fwd_flag  PULocationID  \\\n",
       "7167163          12.80         1.0                  N           133   \n",
       "7167164           2.13         1.0                  N           239   \n",
       "7167165           5.59         1.0                  N           236   \n",
       "7167166           2.38         1.0                  N            79   \n",
       "7167167          19.03         2.0                  N           132   \n",
       "\n",
       "         DOLocationID  payment_type  ...  mta_tax  tip_amount  tolls_amount  \\\n",
       "7167163           234           2.0  ...      0.5        0.00           0.0   \n",
       "7167164           141           2.0  ...      0.5        0.00           0.0   \n",
       "7167165           148           1.0  ...      0.5        4.56           0.0   \n",
       "7167166           100           1.0  ...      0.5        3.46           0.0   \n",
       "7167167            48           2.0  ...      0.5        0.00           0.0   \n",
       "\n",
       "         improvement_surcharge  total_amount  congestion_surcharge  \\\n",
       "7167163                    0.3         42.30                   2.5   \n",
       "7167164                    0.3         13.80                   2.5   \n",
       "7167165                    0.3         27.36                   2.5   \n",
       "7167166                    0.3         20.76                   2.5   \n",
       "7167167                    0.3         55.30                   2.5   \n",
       "\n",
       "         pickup_day_num  dropoff_day_num  pickup_hour  dropoff_hour  \n",
       "7167163               3                4           23             0  \n",
       "7167164               3                3           23            23  \n",
       "7167165               3                3           23            23  \n",
       "7167166               3                4           23             0  \n",
       "7167167               3                4           23             0  \n",
       "\n",
       "[5 rows x 22 columns]"
      ]
     },
     "execution_count": 35,
     "metadata": {},
     "output_type": "execute_result"
    }
   ],
   "source": [
    "yellow_trip_df.tail()"
   ]
  },
  {
   "cell_type": "markdown",
   "id": "7d1506cc",
   "metadata": {},
   "source": [
    "### Polynomial Features:\n",
    "to improve our features and the for  of our hypothesis function by combining multiple features into one. \n",
    "so i think this feature the most significant target that i'll used later to predict the trip duration."
   ]
  },
  {
   "cell_type": "code",
   "execution_count": 36,
   "id": "1148db22",
   "metadata": {
    "scrolled": true
   },
   "outputs": [
    {
     "data": {
      "text/html": [
       "<div>\n",
       "<style scoped>\n",
       "    .dataframe tbody tr th:only-of-type {\n",
       "        vertical-align: middle;\n",
       "    }\n",
       "\n",
       "    .dataframe tbody tr th {\n",
       "        vertical-align: top;\n",
       "    }\n",
       "\n",
       "    .dataframe thead th {\n",
       "        text-align: right;\n",
       "    }\n",
       "</style>\n",
       "<table border=\"1\" class=\"dataframe\">\n",
       "  <thead>\n",
       "    <tr style=\"text-align: right;\">\n",
       "      <th></th>\n",
       "      <th>VendorID</th>\n",
       "      <th>tpep_pickup_datetime</th>\n",
       "      <th>tpep_dropoff_datetime</th>\n",
       "      <th>passenger_count</th>\n",
       "      <th>trip_distance</th>\n",
       "      <th>RatecodeID</th>\n",
       "      <th>store_and_fwd_flag</th>\n",
       "      <th>PULocationID</th>\n",
       "      <th>DOLocationID</th>\n",
       "      <th>payment_type</th>\n",
       "      <th>...</th>\n",
       "      <th>tip_amount</th>\n",
       "      <th>tolls_amount</th>\n",
       "      <th>improvement_surcharge</th>\n",
       "      <th>total_amount</th>\n",
       "      <th>congestion_surcharge</th>\n",
       "      <th>pickup_day_num</th>\n",
       "      <th>dropoff_day_num</th>\n",
       "      <th>pickup_hour</th>\n",
       "      <th>dropoff_hour</th>\n",
       "      <th>trip_duration</th>\n",
       "    </tr>\n",
       "  </thead>\n",
       "  <tbody>\n",
       "    <tr>\n",
       "      <th>0</th>\n",
       "      <td>1.0</td>\n",
       "      <td>2019-10-01 00:19:55</td>\n",
       "      <td>2019-10-01 00:23:57</td>\n",
       "      <td>1.0</td>\n",
       "      <td>0.4</td>\n",
       "      <td>1.0</td>\n",
       "      <td>N</td>\n",
       "      <td>48</td>\n",
       "      <td>163</td>\n",
       "      <td>2.0</td>\n",
       "      <td>...</td>\n",
       "      <td>0.0</td>\n",
       "      <td>0.0</td>\n",
       "      <td>0.3</td>\n",
       "      <td>8.3</td>\n",
       "      <td>2.5</td>\n",
       "      <td>1</td>\n",
       "      <td>1</td>\n",
       "      <td>0</td>\n",
       "      <td>0</td>\n",
       "      <td>4.033333</td>\n",
       "    </tr>\n",
       "    <tr>\n",
       "      <th>1</th>\n",
       "      <td>1.0</td>\n",
       "      <td>2019-10-01 00:40:19</td>\n",
       "      <td>2019-10-01 00:55:17</td>\n",
       "      <td>2.0</td>\n",
       "      <td>4.3</td>\n",
       "      <td>1.0</td>\n",
       "      <td>N</td>\n",
       "      <td>144</td>\n",
       "      <td>141</td>\n",
       "      <td>1.0</td>\n",
       "      <td>...</td>\n",
       "      <td>2.0</td>\n",
       "      <td>0.0</td>\n",
       "      <td>0.3</td>\n",
       "      <td>20.3</td>\n",
       "      <td>2.5</td>\n",
       "      <td>1</td>\n",
       "      <td>1</td>\n",
       "      <td>0</td>\n",
       "      <td>0</td>\n",
       "      <td>14.966667</td>\n",
       "    </tr>\n",
       "    <tr>\n",
       "      <th>2</th>\n",
       "      <td>1.0</td>\n",
       "      <td>2019-10-01 00:06:52</td>\n",
       "      <td>2019-10-01 00:21:23</td>\n",
       "      <td>1.0</td>\n",
       "      <td>5.0</td>\n",
       "      <td>1.0</td>\n",
       "      <td>N</td>\n",
       "      <td>137</td>\n",
       "      <td>80</td>\n",
       "      <td>1.0</td>\n",
       "      <td>...</td>\n",
       "      <td>5.2</td>\n",
       "      <td>0.0</td>\n",
       "      <td>0.3</td>\n",
       "      <td>26.0</td>\n",
       "      <td>2.5</td>\n",
       "      <td>1</td>\n",
       "      <td>1</td>\n",
       "      <td>0</td>\n",
       "      <td>0</td>\n",
       "      <td>14.516667</td>\n",
       "    </tr>\n",
       "    <tr>\n",
       "      <th>3</th>\n",
       "      <td>2.0</td>\n",
       "      <td>2019-10-01 00:36:08</td>\n",
       "      <td>2019-10-01 00:36:15</td>\n",
       "      <td>1.0</td>\n",
       "      <td>0.0</td>\n",
       "      <td>1.0</td>\n",
       "      <td>N</td>\n",
       "      <td>25</td>\n",
       "      <td>25</td>\n",
       "      <td>4.0</td>\n",
       "      <td>...</td>\n",
       "      <td>0.0</td>\n",
       "      <td>0.0</td>\n",
       "      <td>-0.3</td>\n",
       "      <td>-3.8</td>\n",
       "      <td>0.0</td>\n",
       "      <td>1</td>\n",
       "      <td>1</td>\n",
       "      <td>0</td>\n",
       "      <td>0</td>\n",
       "      <td>0.116667</td>\n",
       "    </tr>\n",
       "    <tr>\n",
       "      <th>4</th>\n",
       "      <td>2.0</td>\n",
       "      <td>2019-10-01 00:36:08</td>\n",
       "      <td>2019-10-01 00:36:15</td>\n",
       "      <td>1.0</td>\n",
       "      <td>0.0</td>\n",
       "      <td>1.0</td>\n",
       "      <td>N</td>\n",
       "      <td>25</td>\n",
       "      <td>25</td>\n",
       "      <td>2.0</td>\n",
       "      <td>...</td>\n",
       "      <td>0.0</td>\n",
       "      <td>0.0</td>\n",
       "      <td>0.3</td>\n",
       "      <td>3.8</td>\n",
       "      <td>0.0</td>\n",
       "      <td>1</td>\n",
       "      <td>1</td>\n",
       "      <td>0</td>\n",
       "      <td>0</td>\n",
       "      <td>0.116667</td>\n",
       "    </tr>\n",
       "  </tbody>\n",
       "</table>\n",
       "<p>5 rows × 23 columns</p>\n",
       "</div>"
      ],
      "text/plain": [
       "   VendorID tpep_pickup_datetime tpep_dropoff_datetime  passenger_count  \\\n",
       "0       1.0  2019-10-01 00:19:55   2019-10-01 00:23:57              1.0   \n",
       "1       1.0  2019-10-01 00:40:19   2019-10-01 00:55:17              2.0   \n",
       "2       1.0  2019-10-01 00:06:52   2019-10-01 00:21:23              1.0   \n",
       "3       2.0  2019-10-01 00:36:08   2019-10-01 00:36:15              1.0   \n",
       "4       2.0  2019-10-01 00:36:08   2019-10-01 00:36:15              1.0   \n",
       "\n",
       "   trip_distance  RatecodeID store_and_fwd_flag  PULocationID  DOLocationID  \\\n",
       "0            0.4         1.0                  N            48           163   \n",
       "1            4.3         1.0                  N           144           141   \n",
       "2            5.0         1.0                  N           137            80   \n",
       "3            0.0         1.0                  N            25            25   \n",
       "4            0.0         1.0                  N            25            25   \n",
       "\n",
       "   payment_type  ...  tip_amount  tolls_amount  improvement_surcharge  \\\n",
       "0           2.0  ...         0.0           0.0                    0.3   \n",
       "1           1.0  ...         2.0           0.0                    0.3   \n",
       "2           1.0  ...         5.2           0.0                    0.3   \n",
       "3           4.0  ...         0.0           0.0                   -0.3   \n",
       "4           2.0  ...         0.0           0.0                    0.3   \n",
       "\n",
       "   total_amount  congestion_surcharge  pickup_day_num  dropoff_day_num  \\\n",
       "0           8.3                   2.5               1                1   \n",
       "1          20.3                   2.5               1                1   \n",
       "2          26.0                   2.5               1                1   \n",
       "3          -3.8                   0.0               1                1   \n",
       "4           3.8                   0.0               1                1   \n",
       "\n",
       "   pickup_hour  dropoff_hour  trip_duration  \n",
       "0            0             0       4.033333  \n",
       "1            0             0      14.966667  \n",
       "2            0             0      14.516667  \n",
       "3            0             0       0.116667  \n",
       "4            0             0       0.116667  \n",
       "\n",
       "[5 rows x 23 columns]"
      ]
     },
     "execution_count": 36,
     "metadata": {},
     "output_type": "execute_result"
    }
   ],
   "source": [
    "yellow_trip_df['trip_duration'] = (yellow_trip_df['tpep_dropoff_datetime'] - yellow_trip_df['tpep_pickup_datetime']).dt.total_seconds()/60\n",
    "yellow_trip_df.head()"
   ]
  },
  {
   "cell_type": "code",
   "execution_count": null,
   "id": "716fc54d",
   "metadata": {
    "scrolled": true
   },
   "outputs": [],
   "source": []
  },
  {
   "cell_type": "code",
   "execution_count": 37,
   "id": "8e675060",
   "metadata": {},
   "outputs": [
    {
     "data": {
      "text/plain": [
       "<bound method Series.unique of 0           4.033333\n",
       "1          14.966667\n",
       "2          14.516667\n",
       "3           0.116667\n",
       "4           0.116667\n",
       "             ...    \n",
       "7167163    33.383333\n",
       "7167164    10.250000\n",
       "7167165    16.216667\n",
       "7167166    18.900000\n",
       "7167167    43.400000\n",
       "Name: trip_duration, Length: 7167167, dtype: float64>"
      ]
     },
     "execution_count": 37,
     "metadata": {},
     "output_type": "execute_result"
    }
   ],
   "source": [
    "#yellow_trip_df['avg_speed_kph']=yellow_trip_df['trip_distance']/yellow_trip_df['trip_duration']\n",
    "#yellow_trip_df\n",
    "yellow_trip_df['trip_duration'].unique"
   ]
  },
  {
   "cell_type": "code",
   "execution_count": 38,
   "id": "6febfca7",
   "metadata": {},
   "outputs": [
    {
     "data": {
      "text/plain": [
       "array([ 4.5, 14.5, 17. , ..., 19. , 13.5, 52. ])"
      ]
     },
     "execution_count": 38,
     "metadata": {},
     "output_type": "execute_result"
    }
   ],
   "source": [
    "yellow_trip_df['fare_amount'].values"
   ]
  },
  {
   "cell_type": "code",
   "execution_count": 39,
   "id": "c9d65077",
   "metadata": {
    "scrolled": true
   },
   "outputs": [
    {
     "data": {
      "text/plain": [
       "array([ 0.4 ,  4.3 ,  5.  , ...,  5.59,  2.38, 19.03])"
      ]
     },
     "execution_count": 39,
     "metadata": {},
     "output_type": "execute_result"
    }
   ],
   "source": [
    "yellow_trip_df['trip_distance'].values  "
   ]
  },
  {
   "cell_type": "code",
   "execution_count": 40,
   "id": "c0458455",
   "metadata": {},
   "outputs": [
    {
     "data": {
      "text/plain": [
       "array([0., 0., 0., ..., 0., 0., 0.])"
      ]
     },
     "execution_count": 40,
     "metadata": {},
     "output_type": "execute_result"
    }
   ],
   "source": [
    "yellow_trip_df['tolls_amount'].values"
   ]
  },
  {
   "cell_type": "markdown",
   "id": "05146599",
   "metadata": {},
   "source": [
    "#  Visualizing to explore the dataset"
   ]
  },
  {
   "cell_type": "markdown",
   "id": "5bbdacc8",
   "metadata": {},
   "source": [
    "### Remove outlier to give us accurate results in regression analysis\n"
   ]
  },
  {
   "cell_type": "code",
   "execution_count": 41,
   "id": "e075ea7c",
   "metadata": {
    "scrolled": true
   },
   "outputs": [],
   "source": [
    "def remove_outliers(yellow_trip_df):\n",
    "    return yellow_trip_df[(yellow_trip_df['fare_amount'] >= 1.) & \n",
    "              (yellow_trip_df['fare_amount'] <= 500.) &\n",
    "              (yellow_trip_df['trip_duration'] >= 14) & \n",
    "              (yellow_trip_df['trip_duration'] <= 38) &\n",
    "              (yellow_trip_df['mta_tax'] >= 0) & \n",
    "              (yellow_trip_df['mta_tax'] <= 20) & \n",
    "              (yellow_trip_df['trip_distance'] >= 2) & \n",
    "              (yellow_trip_df['trip_distance'] <= 13) & \n",
    "              (yellow_trip_df['tolls_amount'] >= 0) & \n",
    "              (yellow_trip_df['tolls_amount'] <= 6) & \n",
    "              (yellow_trip_df['congestion_surcharge'] >= -2.5) & \n",
    "              (yellow_trip_df['congestion_surcharge'] <= 2.75 ) & \n",
    "              (yellow_trip_df['improvement_surcharge'] >= -0.3) & \n",
    "              (yellow_trip_df['improvement_surcharge'] <= 0.3) & \n",
    "              (yellow_trip_df['payment_type'] >=1) & \n",
    "              (yellow_trip_df['payment_type'] <= 4) & \n",
    "              (yellow_trip_df['passenger_count'] >= 1) & \n",
    "              (yellow_trip_df['passenger_count'] <= 10) &\n",
    "              (yellow_trip_df['RatecodeID'] >= 1) & \n",
    "              (yellow_trip_df['RatecodeID'] <= 6)]   "
   ]
  },
  {
   "cell_type": "code",
   "execution_count": 42,
   "id": "7e3b7f67",
   "metadata": {},
   "outputs": [
    {
     "data": {
      "text/html": [
       "<div>\n",
       "<style scoped>\n",
       "    .dataframe tbody tr th:only-of-type {\n",
       "        vertical-align: middle;\n",
       "    }\n",
       "\n",
       "    .dataframe tbody tr th {\n",
       "        vertical-align: top;\n",
       "    }\n",
       "\n",
       "    .dataframe thead th {\n",
       "        text-align: right;\n",
       "    }\n",
       "</style>\n",
       "<table border=\"1\" class=\"dataframe\">\n",
       "  <thead>\n",
       "    <tr style=\"text-align: right;\">\n",
       "      <th></th>\n",
       "      <th>VendorID</th>\n",
       "      <th>tpep_pickup_datetime</th>\n",
       "      <th>tpep_dropoff_datetime</th>\n",
       "      <th>passenger_count</th>\n",
       "      <th>trip_distance</th>\n",
       "      <th>RatecodeID</th>\n",
       "      <th>store_and_fwd_flag</th>\n",
       "      <th>PULocationID</th>\n",
       "      <th>DOLocationID</th>\n",
       "      <th>payment_type</th>\n",
       "      <th>...</th>\n",
       "      <th>tip_amount</th>\n",
       "      <th>tolls_amount</th>\n",
       "      <th>improvement_surcharge</th>\n",
       "      <th>total_amount</th>\n",
       "      <th>congestion_surcharge</th>\n",
       "      <th>pickup_day_num</th>\n",
       "      <th>dropoff_day_num</th>\n",
       "      <th>pickup_hour</th>\n",
       "      <th>dropoff_hour</th>\n",
       "      <th>trip_duration</th>\n",
       "    </tr>\n",
       "  </thead>\n",
       "  <tbody>\n",
       "    <tr>\n",
       "      <th>1</th>\n",
       "      <td>1.0</td>\n",
       "      <td>2019-10-01 00:40:19</td>\n",
       "      <td>2019-10-01 00:55:17</td>\n",
       "      <td>2.0</td>\n",
       "      <td>4.30</td>\n",
       "      <td>1.0</td>\n",
       "      <td>N</td>\n",
       "      <td>144</td>\n",
       "      <td>141</td>\n",
       "      <td>1.0</td>\n",
       "      <td>...</td>\n",
       "      <td>2.00</td>\n",
       "      <td>0.0</td>\n",
       "      <td>0.3</td>\n",
       "      <td>20.30</td>\n",
       "      <td>2.5</td>\n",
       "      <td>1</td>\n",
       "      <td>1</td>\n",
       "      <td>0</td>\n",
       "      <td>0</td>\n",
       "      <td>14.966667</td>\n",
       "    </tr>\n",
       "    <tr>\n",
       "      <th>2</th>\n",
       "      <td>1.0</td>\n",
       "      <td>2019-10-01 00:06:52</td>\n",
       "      <td>2019-10-01 00:21:23</td>\n",
       "      <td>1.0</td>\n",
       "      <td>5.00</td>\n",
       "      <td>1.0</td>\n",
       "      <td>N</td>\n",
       "      <td>137</td>\n",
       "      <td>80</td>\n",
       "      <td>1.0</td>\n",
       "      <td>...</td>\n",
       "      <td>5.20</td>\n",
       "      <td>0.0</td>\n",
       "      <td>0.3</td>\n",
       "      <td>26.00</td>\n",
       "      <td>2.5</td>\n",
       "      <td>1</td>\n",
       "      <td>1</td>\n",
       "      <td>0</td>\n",
       "      <td>0</td>\n",
       "      <td>14.516667</td>\n",
       "    </tr>\n",
       "    <tr>\n",
       "      <th>11</th>\n",
       "      <td>2.0</td>\n",
       "      <td>2019-09-30 23:42:13</td>\n",
       "      <td>2019-10-01 00:02:43</td>\n",
       "      <td>1.0</td>\n",
       "      <td>10.25</td>\n",
       "      <td>1.0</td>\n",
       "      <td>N</td>\n",
       "      <td>132</td>\n",
       "      <td>132</td>\n",
       "      <td>1.0</td>\n",
       "      <td>...</td>\n",
       "      <td>6.16</td>\n",
       "      <td>0.0</td>\n",
       "      <td>0.3</td>\n",
       "      <td>36.96</td>\n",
       "      <td>0.0</td>\n",
       "      <td>0</td>\n",
       "      <td>1</td>\n",
       "      <td>23</td>\n",
       "      <td>0</td>\n",
       "      <td>20.500000</td>\n",
       "    </tr>\n",
       "    <tr>\n",
       "      <th>24</th>\n",
       "      <td>1.0</td>\n",
       "      <td>2019-10-01 00:57:11</td>\n",
       "      <td>2019-10-01 01:14:41</td>\n",
       "      <td>1.0</td>\n",
       "      <td>5.80</td>\n",
       "      <td>1.0</td>\n",
       "      <td>N</td>\n",
       "      <td>246</td>\n",
       "      <td>42</td>\n",
       "      <td>1.0</td>\n",
       "      <td>...</td>\n",
       "      <td>6.54</td>\n",
       "      <td>0.0</td>\n",
       "      <td>0.3</td>\n",
       "      <td>28.34</td>\n",
       "      <td>2.5</td>\n",
       "      <td>1</td>\n",
       "      <td>1</td>\n",
       "      <td>0</td>\n",
       "      <td>1</td>\n",
       "      <td>17.500000</td>\n",
       "    </tr>\n",
       "    <tr>\n",
       "      <th>26</th>\n",
       "      <td>1.0</td>\n",
       "      <td>2019-10-01 00:30:38</td>\n",
       "      <td>2019-10-01 00:52:14</td>\n",
       "      <td>1.0</td>\n",
       "      <td>4.80</td>\n",
       "      <td>1.0</td>\n",
       "      <td>N</td>\n",
       "      <td>48</td>\n",
       "      <td>179</td>\n",
       "      <td>1.0</td>\n",
       "      <td>...</td>\n",
       "      <td>6.35</td>\n",
       "      <td>0.0</td>\n",
       "      <td>0.3</td>\n",
       "      <td>27.65</td>\n",
       "      <td>2.5</td>\n",
       "      <td>1</td>\n",
       "      <td>1</td>\n",
       "      <td>0</td>\n",
       "      <td>0</td>\n",
       "      <td>21.600000</td>\n",
       "    </tr>\n",
       "  </tbody>\n",
       "</table>\n",
       "<p>5 rows × 23 columns</p>\n",
       "</div>"
      ],
      "text/plain": [
       "    VendorID tpep_pickup_datetime tpep_dropoff_datetime  passenger_count  \\\n",
       "1        1.0  2019-10-01 00:40:19   2019-10-01 00:55:17              2.0   \n",
       "2        1.0  2019-10-01 00:06:52   2019-10-01 00:21:23              1.0   \n",
       "11       2.0  2019-09-30 23:42:13   2019-10-01 00:02:43              1.0   \n",
       "24       1.0  2019-10-01 00:57:11   2019-10-01 01:14:41              1.0   \n",
       "26       1.0  2019-10-01 00:30:38   2019-10-01 00:52:14              1.0   \n",
       "\n",
       "    trip_distance  RatecodeID store_and_fwd_flag  PULocationID  DOLocationID  \\\n",
       "1            4.30         1.0                  N           144           141   \n",
       "2            5.00         1.0                  N           137            80   \n",
       "11          10.25         1.0                  N           132           132   \n",
       "24           5.80         1.0                  N           246            42   \n",
       "26           4.80         1.0                  N            48           179   \n",
       "\n",
       "    payment_type  ...  tip_amount  tolls_amount  improvement_surcharge  \\\n",
       "1            1.0  ...        2.00           0.0                    0.3   \n",
       "2            1.0  ...        5.20           0.0                    0.3   \n",
       "11           1.0  ...        6.16           0.0                    0.3   \n",
       "24           1.0  ...        6.54           0.0                    0.3   \n",
       "26           1.0  ...        6.35           0.0                    0.3   \n",
       "\n",
       "    total_amount  congestion_surcharge  pickup_day_num  dropoff_day_num  \\\n",
       "1          20.30                   2.5               1                1   \n",
       "2          26.00                   2.5               1                1   \n",
       "11         36.96                   0.0               0                1   \n",
       "24         28.34                   2.5               1                1   \n",
       "26         27.65                   2.5               1                1   \n",
       "\n",
       "    pickup_hour  dropoff_hour  trip_duration  \n",
       "1             0             0      14.966667  \n",
       "2             0             0      14.516667  \n",
       "11           23             0      20.500000  \n",
       "24            0             1      17.500000  \n",
       "26            0             0      21.600000  \n",
       "\n",
       "[5 rows x 23 columns]"
      ]
     },
     "execution_count": 42,
     "metadata": {},
     "output_type": "execute_result"
    }
   ],
   "source": [
    "yellow_trip_df = remove_outliers(yellow_trip_df)\n",
    "yellow_trip_df.head()"
   ]
  },
  {
   "cell_type": "code",
   "execution_count": 43,
   "id": "8415de8d",
   "metadata": {
    "scrolled": false
   },
   "outputs": [
    {
     "data": {
      "text/plain": [
       "<AxesSubplot:xlabel='trip_duration'>"
      ]
     },
     "execution_count": 43,
     "metadata": {},
     "output_type": "execute_result"
    },
    {
     "data": {
      "image/png": "[encoded data removed]",
      "text/plain": [
       "<Figure size 432x288 with 1 Axes>"
      ]
     },
     "metadata": {
      "needs_background": "light"
     },
     "output_type": "display_data"
    }
   ],
   "source": [
    "sns.boxplot(yellow_trip_df['trip_duration'])\n"
   ]
  },
  {
   "cell_type": "code",
   "execution_count": 44,
   "id": "01edf73e",
   "metadata": {},
   "outputs": [
    {
     "data": {
      "image/png": "[encoded data removed]",
      "text/plain": [
       "<Figure size 432x288 with 1 Axes>"
      ]
     },
     "metadata": {
      "needs_background": "light"
     },
     "output_type": "display_data"
    }
   ],
   "source": [
    "sns.histplot(yellow_trip_df['trip_duration'],kde=False,bins=20);"
   ]
  },
  {
   "cell_type": "markdown",
   "id": "f26ac40a",
   "metadata": {},
   "source": [
    "### Display total profit amount for yellow trips per day\n"
   ]
  },
  {
   "cell_type": "code",
   "execution_count": 45,
   "id": "36356e55",
   "metadata": {},
   "outputs": [
    {
     "data": {
      "text/plain": [
       "<AxesSubplot:xlabel='pickup_hour', ylabel='total_amount'>"
      ]
     },
     "execution_count": 45,
     "metadata": {},
     "output_type": "execute_result"
    },
    {
     "data": {
      "image/png": "[encoded data removed]",
      "text/plain": [
       "<Figure size 432x288 with 1 Axes>"
      ]
     },
     "metadata": {
      "needs_background": "light"
     },
     "output_type": "display_data"
    }
   ],
   "source": [
    "sns.lineplot(x='pickup_hour',y='total_amount',data=yellow_trip_df)"
   ]
  },
  {
   "cell_type": "markdown",
   "id": "a76088c5",
   "metadata": {},
   "source": [
    "### Display most pickup & dropoff passengers zones\n"
   ]
  },
  {
   "cell_type": "code",
   "execution_count": 46,
   "id": "7bf1ac57",
   "metadata": {},
   "outputs": [
    {
     "data": {
      "text/plain": [
       "161    70240\n",
       "186    65455\n",
       "230    60769\n",
       "162    57114\n",
       "236    56462\n",
       "Name: PULocationID, dtype: int64"
      ]
     },
     "execution_count": 46,
     "metadata": {},
     "output_type": "execute_result"
    }
   ],
   "source": [
    "top_5_zone=yellow_trip_df.PULocationID.value_counts(ascending=False).head()\n",
    "top_5_zone1=yellow_trip_df.DOLocationID.value_counts(ascending=False).head()\n",
    "top_5_zone"
   ]
  },
  {
   "cell_type": "code",
   "execution_count": 47,
   "id": "907fe5ab",
   "metadata": {},
   "outputs": [
    {
     "data": {
      "text/plain": [
       "236    58602\n",
       "161    46605\n",
       "231    44703\n",
       "237    41894\n",
       "239    38502\n",
       "Name: DOLocationID, dtype: int64"
      ]
     },
     "execution_count": 47,
     "metadata": {},
     "output_type": "execute_result"
    }
   ],
   "source": [
    "top_5_zone1"
   ]
  },
  {
   "cell_type": "code",
   "execution_count": 48,
   "id": "e8b8135c",
   "metadata": {
    "scrolled": false
   },
   "outputs": [
    {
     "data": {
      "image/png": "[encoded data removed]",
      "text/plain": [
       "<Figure size 648x504 with 1 Axes>"
      ]
     },
     "metadata": {},
     "output_type": "display_data"
    }
   ],
   "source": [
    "plt.figure(figsize = [9,7])\n",
    "plt.title('Most Pickup passengers Zone',fontsize=20,color = 'r')\n",
    "\n",
    "explode = (0.03, 0.03, 0.03, 0.03, 0.03)\n",
    "labels = ['161','186','230','162','236']\n",
    "\n",
    "\n",
    "plt.pie(x=top_5_zone, explode=explode,startangle=60, labels=labels,autopct='%0.01f%%')\n",
    "\n",
    "plt.show()\n"
   ]
  },
  {
   "cell_type": "markdown",
   "id": "a6b0297f",
   "metadata": {},
   "source": [
    "### Display most drop off zone\n"
   ]
  },
  {
   "cell_type": "code",
   "execution_count": 49,
   "id": "6409310a",
   "metadata": {},
   "outputs": [
    {
     "data": {
      "image/png": "[encoded data removed]",
      "text/plain": [
       "<Figure size 648x504 with 1 Axes>"
      ]
     },
     "metadata": {},
     "output_type": "display_data"
    }
   ],
   "source": [
    "plt.figure(figsize = [9,7])\n",
    "plt.title('Most Pickup passengers Zone',fontsize=20,color = 'r')\n",
    "\n",
    "explode = (0.03, 0.03, 0.03, 0.03, 0.03)\n",
    "labels = ['236','161','231','162','239']\n",
    "\n",
    "\n",
    "plt.pie(x=top_5_zone1, explode=explode,startangle=60, labels=labels,autopct='%0.01f%%')\n",
    "\n",
    "plt.show()"
   ]
  },
  {
   "cell_type": "markdown",
   "id": "ec58e99d",
   "metadata": {},
   "source": [
    "### Display most pickup & dropoff hours"
   ]
  },
  {
   "cell_type": "code",
   "execution_count": 50,
   "id": "c3e20bea",
   "metadata": {
    "scrolled": true
   },
   "outputs": [
    {
     "data": {
      "image/png": "[encoded data removed]",
      "text/plain": [
       "<Figure size 1440x360 with 2 Axes>"
      ]
     },
     "metadata": {
      "needs_background": "light"
     },
     "output_type": "display_data"
    }
   ],
   "source": [
    "figure,(ax1,ax2)=plt.subplots(ncols=2,figsize=(20,5))\n",
    "ax1.set_title('Pickup hours distribution')\n",
    "ax=sns.countplot(x=\"pickup_hour\",data=yellow_trip_df,ax=ax1)\n",
    "ax2.set_title('Dropoff hours distribution')\n",
    "ax=sns.countplot(x=\"dropoff_hour\",data=yellow_trip_df,ax=ax2)"
   ]
  },
  {
   "cell_type": "markdown",
   "id": "a0f459d3",
   "metadata": {},
   "source": [
    "### Display most pickup & dropoff days"
   ]
  },
  {
   "cell_type": "code",
   "execution_count": 51,
   "id": "6f81e659",
   "metadata": {},
   "outputs": [
    {
     "data": {
      "image/png": "[encoded data removed]",
      "text/plain": [
       "<Figure size 1440x360 with 2 Axes>"
      ]
     },
     "metadata": {
      "needs_background": "light"
     },
     "output_type": "display_data"
    }
   ],
   "source": [
    "figure,(ax1,ax2)=plt.subplots(ncols=2,figsize=(20,5))\n",
    "ax1.set_title('Pickup Days')\n",
    "ax=sns.countplot(x=\"pickup_day_num\",data=yellow_trip_df,ax=ax1)\n",
    "ax2.set_title('Dropoff Days')\n",
    "ax=sns.countplot(x=\"dropoff_day_num\",data=yellow_trip_df,ax=ax2)\n"
   ]
  },
  {
   "cell_type": "markdown",
   "id": "b45fdfc3",
   "metadata": {},
   "source": [
    "### The correlations between the variables"
   ]
  },
  {
   "cell_type": "code",
   "execution_count": 52,
   "id": "861f2448",
   "metadata": {},
   "outputs": [
    {
     "data": {
      "text/html": [
       "<div>\n",
       "<style scoped>\n",
       "    .dataframe tbody tr th:only-of-type {\n",
       "        vertical-align: middle;\n",
       "    }\n",
       "\n",
       "    .dataframe tbody tr th {\n",
       "        vertical-align: top;\n",
       "    }\n",
       "\n",
       "    .dataframe thead th {\n",
       "        text-align: right;\n",
       "    }\n",
       "</style>\n",
       "<table border=\"1\" class=\"dataframe\">\n",
       "  <thead>\n",
       "    <tr style=\"text-align: right;\">\n",
       "      <th></th>\n",
       "      <th>VendorID</th>\n",
       "      <th>passenger_count</th>\n",
       "      <th>trip_distance</th>\n",
       "      <th>RatecodeID</th>\n",
       "      <th>PULocationID</th>\n",
       "      <th>DOLocationID</th>\n",
       "      <th>payment_type</th>\n",
       "      <th>fare_amount</th>\n",
       "      <th>extra</th>\n",
       "      <th>mta_tax</th>\n",
       "      <th>tip_amount</th>\n",
       "      <th>tolls_amount</th>\n",
       "      <th>improvement_surcharge</th>\n",
       "      <th>total_amount</th>\n",
       "      <th>congestion_surcharge</th>\n",
       "      <th>pickup_day_num</th>\n",
       "      <th>dropoff_day_num</th>\n",
       "      <th>pickup_hour</th>\n",
       "      <th>dropoff_hour</th>\n",
       "      <th>trip_duration</th>\n",
       "    </tr>\n",
       "  </thead>\n",
       "  <tbody>\n",
       "    <tr>\n",
       "      <th>VendorID</th>\n",
       "      <td>1.000000</td>\n",
       "      <td>0.152365</td>\n",
       "      <td>0.033159</td>\n",
       "      <td>0.001856</td>\n",
       "      <td>-0.010193</td>\n",
       "      <td>-0.003651</td>\n",
       "      <td>-0.014671</td>\n",
       "      <td>0.016280</td>\n",
       "      <td>-0.905511</td>\n",
       "      <td>0.007468</td>\n",
       "      <td>0.016544</td>\n",
       "      <td>0.009519</td>\n",
       "      <td>-0.007840</td>\n",
       "      <td>0.020321</td>\n",
       "      <td>-0.010374</td>\n",
       "      <td>0.009710</td>\n",
       "      <td>0.010093</td>\n",
       "      <td>-0.001356</td>\n",
       "      <td>-0.004326</td>\n",
       "      <td>-0.006933</td>\n",
       "    </tr>\n",
       "    <tr>\n",
       "      <th>passenger_count</th>\n",
       "      <td>0.152365</td>\n",
       "      <td>1.000000</td>\n",
       "      <td>-0.003017</td>\n",
       "      <td>-0.001841</td>\n",
       "      <td>-0.005272</td>\n",
       "      <td>-0.002710</td>\n",
       "      <td>0.026830</td>\n",
       "      <td>-0.001870</td>\n",
       "      <td>-0.137511</td>\n",
       "      <td>0.000693</td>\n",
       "      <td>-0.016061</td>\n",
       "      <td>-0.001083</td>\n",
       "      <td>0.005439</td>\n",
       "      <td>-0.006422</td>\n",
       "      <td>0.012132</td>\n",
       "      <td>0.032001</td>\n",
       "      <td>0.032246</td>\n",
       "      <td>0.011081</td>\n",
       "      <td>0.008728</td>\n",
       "      <td>0.004931</td>\n",
       "    </tr>\n",
       "    <tr>\n",
       "      <th>trip_distance</th>\n",
       "      <td>0.033159</td>\n",
       "      <td>-0.003017</td>\n",
       "      <td>1.000000</td>\n",
       "      <td>0.078014</td>\n",
       "      <td>-0.090485</td>\n",
       "      <td>-0.125883</td>\n",
       "      <td>0.050469</td>\n",
       "      <td>0.885674</td>\n",
       "      <td>-0.072374</td>\n",
       "      <td>-0.035491</td>\n",
       "      <td>0.204392</td>\n",
       "      <td>0.108476</td>\n",
       "      <td>0.001593</td>\n",
       "      <td>0.801192</td>\n",
       "      <td>-0.333154</td>\n",
       "      <td>0.018291</td>\n",
       "      <td>0.019290</td>\n",
       "      <td>-0.091002</td>\n",
       "      <td>-0.113908</td>\n",
       "      <td>0.352235</td>\n",
       "    </tr>\n",
       "    <tr>\n",
       "      <th>RatecodeID</th>\n",
       "      <td>0.001856</td>\n",
       "      <td>-0.001841</td>\n",
       "      <td>0.078014</td>\n",
       "      <td>1.000000</td>\n",
       "      <td>-0.010646</td>\n",
       "      <td>0.024071</td>\n",
       "      <td>0.008800</td>\n",
       "      <td>0.229126</td>\n",
       "      <td>-0.029235</td>\n",
       "      <td>-0.627886</td>\n",
       "      <td>0.042192</td>\n",
       "      <td>0.018066</td>\n",
       "      <td>-0.001662</td>\n",
       "      <td>0.198817</td>\n",
       "      <td>-0.104191</td>\n",
       "      <td>0.003117</td>\n",
       "      <td>0.003120</td>\n",
       "      <td>-0.008588</td>\n",
       "      <td>-0.009556</td>\n",
       "      <td>0.009472</td>\n",
       "    </tr>\n",
       "    <tr>\n",
       "      <th>PULocationID</th>\n",
       "      <td>-0.010193</td>\n",
       "      <td>-0.005272</td>\n",
       "      <td>-0.090485</td>\n",
       "      <td>-0.010646</td>\n",
       "      <td>1.000000</td>\n",
       "      <td>0.019071</td>\n",
       "      <td>-0.026373</td>\n",
       "      <td>-0.070213</td>\n",
       "      <td>0.020575</td>\n",
       "      <td>0.003760</td>\n",
       "      <td>0.006766</td>\n",
       "      <td>-0.002059</td>\n",
       "      <td>0.000378</td>\n",
       "      <td>-0.048765</td>\n",
       "      <td>0.096275</td>\n",
       "      <td>-0.033083</td>\n",
       "      <td>-0.033526</td>\n",
       "      <td>0.015759</td>\n",
       "      <td>0.021693</td>\n",
       "      <td>-0.005326</td>\n",
       "    </tr>\n",
       "    <tr>\n",
       "      <th>DOLocationID</th>\n",
       "      <td>-0.003651</td>\n",
       "      <td>-0.002710</td>\n",
       "      <td>-0.125883</td>\n",
       "      <td>0.024071</td>\n",
       "      <td>0.019071</td>\n",
       "      <td>1.000000</td>\n",
       "      <td>-0.032189</td>\n",
       "      <td>-0.095565</td>\n",
       "      <td>0.016358</td>\n",
       "      <td>-0.010172</td>\n",
       "      <td>0.001601</td>\n",
       "      <td>0.012839</td>\n",
       "      <td>-0.000638</td>\n",
       "      <td>-0.072356</td>\n",
       "      <td>0.080029</td>\n",
       "      <td>-0.022430</td>\n",
       "      <td>-0.022878</td>\n",
       "      <td>0.028241</td>\n",
       "      <td>0.035913</td>\n",
       "      <td>-0.028896</td>\n",
       "    </tr>\n",
       "    <tr>\n",
       "      <th>payment_type</th>\n",
       "      <td>-0.014671</td>\n",
       "      <td>0.026830</td>\n",
       "      <td>0.050469</td>\n",
       "      <td>0.008800</td>\n",
       "      <td>-0.026373</td>\n",
       "      <td>-0.032189</td>\n",
       "      <td>1.000000</td>\n",
       "      <td>0.044767</td>\n",
       "      <td>-0.020205</td>\n",
       "      <td>-0.001841</td>\n",
       "      <td>-0.666031</td>\n",
       "      <td>-0.002650</td>\n",
       "      <td>-0.012943</td>\n",
       "      <td>-0.228551</td>\n",
       "      <td>-0.139234</td>\n",
       "      <td>0.030813</td>\n",
       "      <td>0.029605</td>\n",
       "      <td>-0.042343</td>\n",
       "      <td>-0.036712</td>\n",
       "      <td>0.014455</td>\n",
       "    </tr>\n",
       "    <tr>\n",
       "      <th>fare_amount</th>\n",
       "      <td>0.016280</td>\n",
       "      <td>-0.001870</td>\n",
       "      <td>0.885674</td>\n",
       "      <td>0.229126</td>\n",
       "      <td>-0.070213</td>\n",
       "      <td>-0.095565</td>\n",
       "      <td>0.044767</td>\n",
       "      <td>1.000000</td>\n",
       "      <td>-0.060246</td>\n",
       "      <td>-0.152529</td>\n",
       "      <td>0.243650</td>\n",
       "      <td>0.101016</td>\n",
       "      <td>0.004331</td>\n",
       "      <td>0.916789</td>\n",
       "      <td>-0.267588</td>\n",
       "      <td>0.016169</td>\n",
       "      <td>0.017101</td>\n",
       "      <td>-0.072227</td>\n",
       "      <td>-0.083423</td>\n",
       "      <td>0.669069</td>\n",
       "    </tr>\n",
       "    <tr>\n",
       "      <th>extra</th>\n",
       "      <td>-0.905511</td>\n",
       "      <td>-0.137511</td>\n",
       "      <td>-0.072374</td>\n",
       "      <td>-0.029235</td>\n",
       "      <td>0.020575</td>\n",
       "      <td>0.016358</td>\n",
       "      <td>-0.020205</td>\n",
       "      <td>-0.060246</td>\n",
       "      <td>1.000000</td>\n",
       "      <td>0.020393</td>\n",
       "      <td>0.013886</td>\n",
       "      <td>-0.010984</td>\n",
       "      <td>0.000128</td>\n",
       "      <td>-0.012275</td>\n",
       "      <td>0.165017</td>\n",
       "      <td>-0.054246</td>\n",
       "      <td>-0.053623</td>\n",
       "      <td>0.120676</td>\n",
       "      <td>0.112815</td>\n",
       "      <td>-0.006543</td>\n",
       "    </tr>\n",
       "    <tr>\n",
       "      <th>mta_tax</th>\n",
       "      <td>0.007468</td>\n",
       "      <td>0.000693</td>\n",
       "      <td>-0.035491</td>\n",
       "      <td>-0.627886</td>\n",
       "      <td>0.003760</td>\n",
       "      <td>-0.010172</td>\n",
       "      <td>-0.001841</td>\n",
       "      <td>-0.152529</td>\n",
       "      <td>0.020393</td>\n",
       "      <td>1.000000</td>\n",
       "      <td>-0.027982</td>\n",
       "      <td>-0.005888</td>\n",
       "      <td>-0.005010</td>\n",
       "      <td>-0.131422</td>\n",
       "      <td>0.060572</td>\n",
       "      <td>-0.004647</td>\n",
       "      <td>-0.004700</td>\n",
       "      <td>0.006810</td>\n",
       "      <td>0.007839</td>\n",
       "      <td>-0.005591</td>\n",
       "    </tr>\n",
       "    <tr>\n",
       "      <th>tip_amount</th>\n",
       "      <td>0.016544</td>\n",
       "      <td>-0.016061</td>\n",
       "      <td>0.204392</td>\n",
       "      <td>0.042192</td>\n",
       "      <td>0.006766</td>\n",
       "      <td>0.001601</td>\n",
       "      <td>-0.666031</td>\n",
       "      <td>0.243650</td>\n",
       "      <td>0.013886</td>\n",
       "      <td>-0.027982</td>\n",
       "      <td>1.000000</td>\n",
       "      <td>0.045881</td>\n",
       "      <td>0.007581</td>\n",
       "      <td>0.594738</td>\n",
       "      <td>0.086113</td>\n",
       "      <td>-0.026285</td>\n",
       "      <td>-0.024880</td>\n",
       "      <td>0.037442</td>\n",
       "      <td>0.028173</td>\n",
       "      <td>0.189657</td>\n",
       "    </tr>\n",
       "    <tr>\n",
       "      <th>tolls_amount</th>\n",
       "      <td>0.009519</td>\n",
       "      <td>-0.001083</td>\n",
       "      <td>0.108476</td>\n",
       "      <td>0.018066</td>\n",
       "      <td>-0.002059</td>\n",
       "      <td>0.012839</td>\n",
       "      <td>-0.002650</td>\n",
       "      <td>0.101016</td>\n",
       "      <td>-0.010984</td>\n",
       "      <td>-0.005888</td>\n",
       "      <td>0.045881</td>\n",
       "      <td>1.000000</td>\n",
       "      <td>-0.000997</td>\n",
       "      <td>0.130152</td>\n",
       "      <td>-0.021680</td>\n",
       "      <td>-0.002087</td>\n",
       "      <td>-0.001861</td>\n",
       "      <td>0.002071</td>\n",
       "      <td>0.000894</td>\n",
       "      <td>0.022250</td>\n",
       "    </tr>\n",
       "    <tr>\n",
       "      <th>improvement_surcharge</th>\n",
       "      <td>-0.007840</td>\n",
       "      <td>0.005439</td>\n",
       "      <td>0.001593</td>\n",
       "      <td>-0.001662</td>\n",
       "      <td>0.000378</td>\n",
       "      <td>-0.000638</td>\n",
       "      <td>-0.012943</td>\n",
       "      <td>0.004331</td>\n",
       "      <td>0.000128</td>\n",
       "      <td>-0.005010</td>\n",
       "      <td>0.007581</td>\n",
       "      <td>-0.000997</td>\n",
       "      <td>1.000000</td>\n",
       "      <td>0.005797</td>\n",
       "      <td>0.001579</td>\n",
       "      <td>-0.000020</td>\n",
       "      <td>-0.000089</td>\n",
       "      <td>0.002149</td>\n",
       "      <td>0.002263</td>\n",
       "      <td>-0.006273</td>\n",
       "    </tr>\n",
       "    <tr>\n",
       "      <th>total_amount</th>\n",
       "      <td>0.020321</td>\n",
       "      <td>-0.006422</td>\n",
       "      <td>0.801192</td>\n",
       "      <td>0.198817</td>\n",
       "      <td>-0.048765</td>\n",
       "      <td>-0.072356</td>\n",
       "      <td>-0.228551</td>\n",
       "      <td>0.916789</td>\n",
       "      <td>-0.012275</td>\n",
       "      <td>-0.131422</td>\n",
       "      <td>0.594738</td>\n",
       "      <td>0.130152</td>\n",
       "      <td>0.005797</td>\n",
       "      <td>1.000000</td>\n",
       "      <td>-0.100317</td>\n",
       "      <td>-0.004995</td>\n",
       "      <td>-0.003432</td>\n",
       "      <td>-0.023190</td>\n",
       "      <td>-0.038138</td>\n",
       "      <td>0.636916</td>\n",
       "    </tr>\n",
       "    <tr>\n",
       "      <th>congestion_surcharge</th>\n",
       "      <td>-0.010374</td>\n",
       "      <td>0.012132</td>\n",
       "      <td>-0.333154</td>\n",
       "      <td>-0.104191</td>\n",
       "      <td>0.096275</td>\n",
       "      <td>0.080029</td>\n",
       "      <td>-0.139234</td>\n",
       "      <td>-0.267588</td>\n",
       "      <td>0.165017</td>\n",
       "      <td>0.060572</td>\n",
       "      <td>0.086113</td>\n",
       "      <td>-0.021680</td>\n",
       "      <td>0.001579</td>\n",
       "      <td>-0.100317</td>\n",
       "      <td>1.000000</td>\n",
       "      <td>-0.000913</td>\n",
       "      <td>-0.000117</td>\n",
       "      <td>0.019447</td>\n",
       "      <td>0.021253</td>\n",
       "      <td>-0.014597</td>\n",
       "    </tr>\n",
       "    <tr>\n",
       "      <th>pickup_day_num</th>\n",
       "      <td>0.009710</td>\n",
       "      <td>0.032001</td>\n",
       "      <td>0.018291</td>\n",
       "      <td>0.003117</td>\n",
       "      <td>-0.033083</td>\n",
       "      <td>-0.022430</td>\n",
       "      <td>0.030813</td>\n",
       "      <td>0.016169</td>\n",
       "      <td>-0.054246</td>\n",
       "      <td>-0.004647</td>\n",
       "      <td>-0.026285</td>\n",
       "      <td>-0.002087</td>\n",
       "      <td>-0.000020</td>\n",
       "      <td>-0.004995</td>\n",
       "      <td>-0.000913</td>\n",
       "      <td>1.000000</td>\n",
       "      <td>0.994111</td>\n",
       "      <td>-0.098908</td>\n",
       "      <td>-0.107062</td>\n",
       "      <td>0.009962</td>\n",
       "    </tr>\n",
       "    <tr>\n",
       "      <th>dropoff_day_num</th>\n",
       "      <td>0.010093</td>\n",
       "      <td>0.032246</td>\n",
       "      <td>0.019290</td>\n",
       "      <td>0.003120</td>\n",
       "      <td>-0.033526</td>\n",
       "      <td>-0.022878</td>\n",
       "      <td>0.029605</td>\n",
       "      <td>0.017101</td>\n",
       "      <td>-0.053623</td>\n",
       "      <td>-0.004700</td>\n",
       "      <td>-0.024880</td>\n",
       "      <td>-0.001861</td>\n",
       "      <td>-0.000089</td>\n",
       "      <td>-0.003432</td>\n",
       "      <td>-0.000117</td>\n",
       "      <td>0.994111</td>\n",
       "      <td>1.000000</td>\n",
       "      <td>-0.090884</td>\n",
       "      <td>-0.119266</td>\n",
       "      <td>0.011218</td>\n",
       "    </tr>\n",
       "    <tr>\n",
       "      <th>pickup_hour</th>\n",
       "      <td>-0.001356</td>\n",
       "      <td>0.011081</td>\n",
       "      <td>-0.091002</td>\n",
       "      <td>-0.008588</td>\n",
       "      <td>0.015759</td>\n",
       "      <td>0.028241</td>\n",
       "      <td>-0.042343</td>\n",
       "      <td>-0.072227</td>\n",
       "      <td>0.120676</td>\n",
       "      <td>0.006810</td>\n",
       "      <td>0.037442</td>\n",
       "      <td>0.002071</td>\n",
       "      <td>0.002149</td>\n",
       "      <td>-0.023190</td>\n",
       "      <td>0.019447</td>\n",
       "      <td>-0.098908</td>\n",
       "      <td>-0.090884</td>\n",
       "      <td>1.000000</td>\n",
       "      <td>0.889697</td>\n",
       "      <td>0.023030</td>\n",
       "    </tr>\n",
       "    <tr>\n",
       "      <th>dropoff_hour</th>\n",
       "      <td>-0.004326</td>\n",
       "      <td>0.008728</td>\n",
       "      <td>-0.113908</td>\n",
       "      <td>-0.009556</td>\n",
       "      <td>0.021693</td>\n",
       "      <td>0.035913</td>\n",
       "      <td>-0.036712</td>\n",
       "      <td>-0.083423</td>\n",
       "      <td>0.112815</td>\n",
       "      <td>0.007839</td>\n",
       "      <td>0.028173</td>\n",
       "      <td>0.000894</td>\n",
       "      <td>0.002263</td>\n",
       "      <td>-0.038138</td>\n",
       "      <td>0.021253</td>\n",
       "      <td>-0.107062</td>\n",
       "      <td>-0.119266</td>\n",
       "      <td>0.889697</td>\n",
       "      <td>1.000000</td>\n",
       "      <td>0.030825</td>\n",
       "    </tr>\n",
       "    <tr>\n",
       "      <th>trip_duration</th>\n",
       "      <td>-0.006933</td>\n",
       "      <td>0.004931</td>\n",
       "      <td>0.352235</td>\n",
       "      <td>0.009472</td>\n",
       "      <td>-0.005326</td>\n",
       "      <td>-0.028896</td>\n",
       "      <td>0.014455</td>\n",
       "      <td>0.669069</td>\n",
       "      <td>-0.006543</td>\n",
       "      <td>-0.005591</td>\n",
       "      <td>0.189657</td>\n",
       "      <td>0.022250</td>\n",
       "      <td>-0.006273</td>\n",
       "      <td>0.636916</td>\n",
       "      <td>-0.014597</td>\n",
       "      <td>0.009962</td>\n",
       "      <td>0.011218</td>\n",
       "      <td>0.023030</td>\n",
       "      <td>0.030825</td>\n",
       "      <td>1.000000</td>\n",
       "    </tr>\n",
       "  </tbody>\n",
       "</table>\n",
       "</div>"
      ],
      "text/plain": [
       "                       VendorID  passenger_count  trip_distance  RatecodeID  \\\n",
       "VendorID               1.000000         0.152365       0.033159    0.001856   \n",
       "passenger_count        0.152365         1.000000      -0.003017   -0.001841   \n",
       "trip_distance          0.033159        -0.003017       1.000000    0.078014   \n",
       "RatecodeID             0.001856        -0.001841       0.078014    1.000000   \n",
       "PULocationID          -0.010193        -0.005272      -0.090485   -0.010646   \n",
       "DOLocationID          -0.003651        -0.002710      -0.125883    0.024071   \n",
       "payment_type          -0.014671         0.026830       0.050469    0.008800   \n",
       "fare_amount            0.016280        -0.001870       0.885674    0.229126   \n",
       "extra                 -0.905511        -0.137511      -0.072374   -0.029235   \n",
       "mta_tax                0.007468         0.000693      -0.035491   -0.627886   \n",
       "tip_amount             0.016544        -0.016061       0.204392    0.042192   \n",
       "tolls_amount           0.009519        -0.001083       0.108476    0.018066   \n",
       "improvement_surcharge -0.007840         0.005439       0.001593   -0.001662   \n",
       "total_amount           0.020321        -0.006422       0.801192    0.198817   \n",
       "congestion_surcharge  -0.010374         0.012132      -0.333154   -0.104191   \n",
       "pickup_day_num         0.009710         0.032001       0.018291    0.003117   \n",
       "dropoff_day_num        0.010093         0.032246       0.019290    0.003120   \n",
       "pickup_hour           -0.001356         0.011081      -0.091002   -0.008588   \n",
       "dropoff_hour          -0.004326         0.008728      -0.113908   -0.009556   \n",
       "trip_duration         -0.006933         0.004931       0.352235    0.009472   \n",
       "\n",
       "                       PULocationID  DOLocationID  payment_type  fare_amount  \\\n",
       "VendorID                  -0.010193     -0.003651     -0.014671     0.016280   \n",
       "passenger_count           -0.005272     -0.002710      0.026830    -0.001870   \n",
       "trip_distance             -0.090485     -0.125883      0.050469     0.885674   \n",
       "RatecodeID                -0.010646      0.024071      0.008800     0.229126   \n",
       "PULocationID               1.000000      0.019071     -0.026373    -0.070213   \n",
       "DOLocationID               0.019071      1.000000     -0.032189    -0.095565   \n",
       "payment_type              -0.026373     -0.032189      1.000000     0.044767   \n",
       "fare_amount               -0.070213     -0.095565      0.044767     1.000000   \n",
       "extra                      0.020575      0.016358     -0.020205    -0.060246   \n",
       "mta_tax                    0.003760     -0.010172     -0.001841    -0.152529   \n",
       "tip_amount                 0.006766      0.001601     -0.666031     0.243650   \n",
       "tolls_amount              -0.002059      0.012839     -0.002650     0.101016   \n",
       "improvement_surcharge      0.000378     -0.000638     -0.012943     0.004331   \n",
       "total_amount              -0.048765     -0.072356     -0.228551     0.916789   \n",
       "congestion_surcharge       0.096275      0.080029     -0.139234    -0.267588   \n",
       "pickup_day_num            -0.033083     -0.022430      0.030813     0.016169   \n",
       "dropoff_day_num           -0.033526     -0.022878      0.029605     0.017101   \n",
       "pickup_hour                0.015759      0.028241     -0.042343    -0.072227   \n",
       "dropoff_hour               0.021693      0.035913     -0.036712    -0.083423   \n",
       "trip_duration             -0.005326     -0.028896      0.014455     0.669069   \n",
       "\n",
       "                          extra   mta_tax  tip_amount  tolls_amount  \\\n",
       "VendorID              -0.905511  0.007468    0.016544      0.009519   \n",
       "passenger_count       -0.137511  0.000693   -0.016061     -0.001083   \n",
       "trip_distance         -0.072374 -0.035491    0.204392      0.108476   \n",
       "RatecodeID            -0.029235 -0.627886    0.042192      0.018066   \n",
       "PULocationID           0.020575  0.003760    0.006766     -0.002059   \n",
       "DOLocationID           0.016358 -0.010172    0.001601      0.012839   \n",
       "payment_type          -0.020205 -0.001841   -0.666031     -0.002650   \n",
       "fare_amount           -0.060246 -0.152529    0.243650      0.101016   \n",
       "extra                  1.000000  0.020393    0.013886     -0.010984   \n",
       "mta_tax                0.020393  1.000000   -0.027982     -0.005888   \n",
       "tip_amount             0.013886 -0.027982    1.000000      0.045881   \n",
       "tolls_amount          -0.010984 -0.005888    0.045881      1.000000   \n",
       "improvement_surcharge  0.000128 -0.005010    0.007581     -0.000997   \n",
       "total_amount          -0.012275 -0.131422    0.594738      0.130152   \n",
       "congestion_surcharge   0.165017  0.060572    0.086113     -0.021680   \n",
       "pickup_day_num        -0.054246 -0.004647   -0.026285     -0.002087   \n",
       "dropoff_day_num       -0.053623 -0.004700   -0.024880     -0.001861   \n",
       "pickup_hour            0.120676  0.006810    0.037442      0.002071   \n",
       "dropoff_hour           0.112815  0.007839    0.028173      0.000894   \n",
       "trip_duration         -0.006543 -0.005591    0.189657      0.022250   \n",
       "\n",
       "                       improvement_surcharge  total_amount  \\\n",
       "VendorID                           -0.007840      0.020321   \n",
       "passenger_count                     0.005439     -0.006422   \n",
       "trip_distance                       0.001593      0.801192   \n",
       "RatecodeID                         -0.001662      0.198817   \n",
       "PULocationID                        0.000378     -0.048765   \n",
       "DOLocationID                       -0.000638     -0.072356   \n",
       "payment_type                       -0.012943     -0.228551   \n",
       "fare_amount                         0.004331      0.916789   \n",
       "extra                               0.000128     -0.012275   \n",
       "mta_tax                            -0.005010     -0.131422   \n",
       "tip_amount                          0.007581      0.594738   \n",
       "tolls_amount                       -0.000997      0.130152   \n",
       "improvement_surcharge               1.000000      0.005797   \n",
       "total_amount                        0.005797      1.000000   \n",
       "congestion_surcharge                0.001579     -0.100317   \n",
       "pickup_day_num                     -0.000020     -0.004995   \n",
       "dropoff_day_num                    -0.000089     -0.003432   \n",
       "pickup_hour                         0.002149     -0.023190   \n",
       "dropoff_hour                        0.002263     -0.038138   \n",
       "trip_duration                      -0.006273      0.636916   \n",
       "\n",
       "                       congestion_surcharge  pickup_day_num  dropoff_day_num  \\\n",
       "VendorID                          -0.010374        0.009710         0.010093   \n",
       "passenger_count                    0.012132        0.032001         0.032246   \n",
       "trip_distance                     -0.333154        0.018291         0.019290   \n",
       "RatecodeID                        -0.104191        0.003117         0.003120   \n",
       "PULocationID                       0.096275       -0.033083        -0.033526   \n",
       "DOLocationID                       0.080029       -0.022430        -0.022878   \n",
       "payment_type                      -0.139234        0.030813         0.029605   \n",
       "fare_amount                       -0.267588        0.016169         0.017101   \n",
       "extra                              0.165017       -0.054246        -0.053623   \n",
       "mta_tax                            0.060572       -0.004647        -0.004700   \n",
       "tip_amount                         0.086113       -0.026285        -0.024880   \n",
       "tolls_amount                      -0.021680       -0.002087        -0.001861   \n",
       "improvement_surcharge              0.001579       -0.000020        -0.000089   \n",
       "total_amount                      -0.100317       -0.004995        -0.003432   \n",
       "congestion_surcharge               1.000000       -0.000913        -0.000117   \n",
       "pickup_day_num                    -0.000913        1.000000         0.994111   \n",
       "dropoff_day_num                   -0.000117        0.994111         1.000000   \n",
       "pickup_hour                        0.019447       -0.098908        -0.090884   \n",
       "dropoff_hour                       0.021253       -0.107062        -0.119266   \n",
       "trip_duration                     -0.014597        0.009962         0.011218   \n",
       "\n",
       "                       pickup_hour  dropoff_hour  trip_duration  \n",
       "VendorID                 -0.001356     -0.004326      -0.006933  \n",
       "passenger_count           0.011081      0.008728       0.004931  \n",
       "trip_distance            -0.091002     -0.113908       0.352235  \n",
       "RatecodeID               -0.008588     -0.009556       0.009472  \n",
       "PULocationID              0.015759      0.021693      -0.005326  \n",
       "DOLocationID              0.028241      0.035913      -0.028896  \n",
       "payment_type             -0.042343     -0.036712       0.014455  \n",
       "fare_amount              -0.072227     -0.083423       0.669069  \n",
       "extra                     0.120676      0.112815      -0.006543  \n",
       "mta_tax                   0.006810      0.007839      -0.005591  \n",
       "tip_amount                0.037442      0.028173       0.189657  \n",
       "tolls_amount              0.002071      0.000894       0.022250  \n",
       "improvement_surcharge     0.002149      0.002263      -0.006273  \n",
       "total_amount             -0.023190     -0.038138       0.636916  \n",
       "congestion_surcharge      0.019447      0.021253      -0.014597  \n",
       "pickup_day_num           -0.098908     -0.107062       0.009962  \n",
       "dropoff_day_num          -0.090884     -0.119266       0.011218  \n",
       "pickup_hour               1.000000      0.889697       0.023030  \n",
       "dropoff_hour              0.889697      1.000000       0.030825  \n",
       "trip_duration             0.023030      0.030825       1.000000  "
      ]
     },
     "execution_count": 52,
     "metadata": {},
     "output_type": "execute_result"
    }
   ],
   "source": [
    "yellow_trip_df.corr()"
   ]
  },
  {
   "cell_type": "markdown",
   "id": "ab1c4540",
   "metadata": {},
   "source": [
    "### Dummy variables\n",
    "\n",
    "Dummy variables are binary feature columns corresponding to each category. The value is 1 if the observation is in that category, and 0 if not. We can then just use these columns as features in our regression model.\n",
    "\n",
    "Pandas makes it very easy for us to make this conversion. Notice that the new dummies df has 18 columns, 1 for each category."
   ]
  },
  {
   "cell_type": "code",
   "execution_count": 53,
   "id": "4e29f4b0",
   "metadata": {},
   "outputs": [
    {
     "name": "stdout",
     "output_type": "stream",
     "text": [
      "<class 'pandas.core.frame.DataFrame'>\n",
      "Int64Index: 1687450 entries, 1 to 7167166\n",
      "Data columns (total 23 columns):\n",
      " #   Column                 Non-Null Count    Dtype         \n",
      "---  ------                 --------------    -----         \n",
      " 0   VendorID               1687450 non-null  float64       \n",
      " 1   tpep_pickup_datetime   1687450 non-null  datetime64[ns]\n",
      " 2   tpep_dropoff_datetime  1687450 non-null  datetime64[ns]\n",
      " 3   passenger_count        1687450 non-null  float64       \n",
      " 4   trip_distance          1687450 non-null  float64       \n",
      " 5   RatecodeID             1687450 non-null  float64       \n",
      " 6   store_and_fwd_flag     1687450 non-null  object        \n",
      " 7   PULocationID           1687450 non-null  int64         \n",
      " 8   DOLocationID           1687450 non-null  int64         \n",
      " 9   payment_type           1687450 non-null  float64       \n",
      " 10  fare_amount            1687450 non-null  float64       \n",
      " 11  extra                  1687450 non-null  float64       \n",
      " 12  mta_tax                1687450 non-null  float64       \n",
      " 13  tip_amount             1687450 non-null  float64       \n",
      " 14  tolls_amount           1687450 non-null  float64       \n",
      " 15  improvement_surcharge  1687450 non-null  float64       \n",
      " 16  total_amount           1687450 non-null  float64       \n",
      " 17  congestion_surcharge   1687450 non-null  float64       \n",
      " 18  pickup_day_num         1687450 non-null  int64         \n",
      " 19  dropoff_day_num        1687450 non-null  int64         \n",
      " 20  pickup_hour            1687450 non-null  int64         \n",
      " 21  dropoff_hour           1687450 non-null  int64         \n",
      " 22  trip_duration          1687450 non-null  float64       \n",
      "dtypes: datetime64[ns](2), float64(14), int64(6), object(1)\n",
      "memory usage: 309.0+ MB\n"
     ]
    }
   ],
   "source": [
    "yellow_trip_df.info()"
   ]
  },
  {
   "cell_type": "code",
   "execution_count": 54,
   "id": "b641f765",
   "metadata": {},
   "outputs": [],
   "source": [
    "#yellow_trip_df = yellow_trip_df.select_dtypes(exclude=['object'])"
   ]
  },
  {
   "cell_type": "code",
   "execution_count": 55,
   "id": "3f06d229",
   "metadata": {
    "scrolled": true
   },
   "outputs": [],
   "source": [
    "#pd.get_dummies(yellow_trip_df['store_and_fwd_flag'], drop_first=True)"
   ]
  },
  {
   "cell_type": "code",
   "execution_count": 56,
   "id": "15d008e9",
   "metadata": {
    "scrolled": true
   },
   "outputs": [],
   "source": [
    "#yellow_trip_df = pd.get_dummies(yellow_trip_df['store_and_fwd_flag'], drop_first=True) #can just apply it to the whole df\n",
    "#yellow_trip_df"
   ]
  },
  {
   "cell_type": "code",
   "execution_count": 57,
   "id": "f0c9126c",
   "metadata": {},
   "outputs": [
    {
     "data": {
      "text/html": [
       "<div>\n",
       "<style scoped>\n",
       "    .dataframe tbody tr th:only-of-type {\n",
       "        vertical-align: middle;\n",
       "    }\n",
       "\n",
       "    .dataframe tbody tr th {\n",
       "        vertical-align: top;\n",
       "    }\n",
       "\n",
       "    .dataframe thead th {\n",
       "        text-align: right;\n",
       "    }\n",
       "</style>\n",
       "<table border=\"1\" class=\"dataframe\">\n",
       "  <thead>\n",
       "    <tr style=\"text-align: right;\">\n",
       "      <th></th>\n",
       "      <th>VendorID</th>\n",
       "      <th>passenger_count</th>\n",
       "      <th>trip_distance</th>\n",
       "      <th>RatecodeID</th>\n",
       "      <th>PULocationID</th>\n",
       "      <th>DOLocationID</th>\n",
       "      <th>payment_type</th>\n",
       "      <th>fare_amount</th>\n",
       "      <th>extra</th>\n",
       "      <th>mta_tax</th>\n",
       "      <th>tip_amount</th>\n",
       "      <th>tolls_amount</th>\n",
       "      <th>improvement_surcharge</th>\n",
       "      <th>total_amount</th>\n",
       "      <th>congestion_surcharge</th>\n",
       "      <th>pickup_day_num</th>\n",
       "      <th>dropoff_day_num</th>\n",
       "      <th>pickup_hour</th>\n",
       "      <th>dropoff_hour</th>\n",
       "      <th>trip_duration</th>\n",
       "    </tr>\n",
       "  </thead>\n",
       "  <tbody>\n",
       "    <tr>\n",
       "      <th>count</th>\n",
       "      <td>1.687450e+06</td>\n",
       "      <td>1.687450e+06</td>\n",
       "      <td>1.687450e+06</td>\n",
       "      <td>1.687450e+06</td>\n",
       "      <td>1.687450e+06</td>\n",
       "      <td>1.687450e+06</td>\n",
       "      <td>1.687450e+06</td>\n",
       "      <td>1.687450e+06</td>\n",
       "      <td>1.687450e+06</td>\n",
       "      <td>1.687450e+06</td>\n",
       "      <td>1.687450e+06</td>\n",
       "      <td>1.687450e+06</td>\n",
       "      <td>1.687450e+06</td>\n",
       "      <td>1.687450e+06</td>\n",
       "      <td>1.687450e+06</td>\n",
       "      <td>1.687450e+06</td>\n",
       "      <td>1.687450e+06</td>\n",
       "      <td>1.687450e+06</td>\n",
       "      <td>1.687450e+06</td>\n",
       "      <td>1.687450e+06</td>\n",
       "    </tr>\n",
       "    <tr>\n",
       "      <th>mean</th>\n",
       "      <td>1.666240e+00</td>\n",
       "      <td>1.582619e+00</td>\n",
       "      <td>4.118096e+00</td>\n",
       "      <td>1.005894e+00</td>\n",
       "      <td>1.611566e+02</td>\n",
       "      <td>1.556468e+02</td>\n",
       "      <td>1.260808e+00</td>\n",
       "      <td>1.772040e+01</td>\n",
       "      <td>1.126976e+00</td>\n",
       "      <td>4.997142e-01</td>\n",
       "      <td>2.783498e+00</td>\n",
       "      <td>8.067356e-03</td>\n",
       "      <td>2.999580e-01</td>\n",
       "      <td>2.400080e+01</td>\n",
       "      <td>2.338422e+00</td>\n",
       "      <td>2.950227e+00</td>\n",
       "      <td>2.960454e+00</td>\n",
       "      <td>1.436759e+01</td>\n",
       "      <td>1.436260e+01</td>\n",
       "      <td>2.208512e+01</td>\n",
       "    </tr>\n",
       "    <tr>\n",
       "      <th>std</th>\n",
       "      <td>4.715554e-01</td>\n",
       "      <td>1.174790e+00</td>\n",
       "      <td>2.113446e+00</td>\n",
       "      <td>1.389428e-01</td>\n",
       "      <td>6.768631e+01</td>\n",
       "      <td>7.492873e+01</td>\n",
       "      <td>4.547426e-01</td>\n",
       "      <td>5.428664e+00</td>\n",
       "      <td>1.221044e+00</td>\n",
       "      <td>1.217726e-02</td>\n",
       "      <td>2.396435e+00</td>\n",
       "      <td>1.857905e-01</td>\n",
       "      <td>3.547575e-03</td>\n",
       "      <td>6.391256e+00</td>\n",
       "      <td>6.146763e-01</td>\n",
       "      <td>1.863780e+00</td>\n",
       "      <td>1.869217e+00</td>\n",
       "      <td>6.105114e+00</td>\n",
       "      <td>6.278857e+00</td>\n",
       "      <td>5.888677e+00</td>\n",
       "    </tr>\n",
       "    <tr>\n",
       "      <th>min</th>\n",
       "      <td>1.000000e+00</td>\n",
       "      <td>1.000000e+00</td>\n",
       "      <td>2.000000e+00</td>\n",
       "      <td>1.000000e+00</td>\n",
       "      <td>1.000000e+00</td>\n",
       "      <td>1.000000e+00</td>\n",
       "      <td>1.000000e+00</td>\n",
       "      <td>1.000000e+00</td>\n",
       "      <td>0.000000e+00</td>\n",
       "      <td>0.000000e+00</td>\n",
       "      <td>0.000000e+00</td>\n",
       "      <td>0.000000e+00</td>\n",
       "      <td>0.000000e+00</td>\n",
       "      <td>1.300000e+00</td>\n",
       "      <td>0.000000e+00</td>\n",
       "      <td>0.000000e+00</td>\n",
       "      <td>0.000000e+00</td>\n",
       "      <td>0.000000e+00</td>\n",
       "      <td>0.000000e+00</td>\n",
       "      <td>1.400000e+01</td>\n",
       "    </tr>\n",
       "    <tr>\n",
       "      <th>25%</th>\n",
       "      <td>1.000000e+00</td>\n",
       "      <td>1.000000e+00</td>\n",
       "      <td>2.600000e+00</td>\n",
       "      <td>1.000000e+00</td>\n",
       "      <td>1.130000e+02</td>\n",
       "      <td>9.000000e+01</td>\n",
       "      <td>1.000000e+00</td>\n",
       "      <td>1.350000e+01</td>\n",
       "      <td>0.000000e+00</td>\n",
       "      <td>5.000000e-01</td>\n",
       "      <td>0.000000e+00</td>\n",
       "      <td>0.000000e+00</td>\n",
       "      <td>3.000000e-01</td>\n",
       "      <td>1.955000e+01</td>\n",
       "      <td>2.500000e+00</td>\n",
       "      <td>1.000000e+00</td>\n",
       "      <td>1.000000e+00</td>\n",
       "      <td>1.000000e+01</td>\n",
       "      <td>1.000000e+01</td>\n",
       "      <td>1.723333e+01</td>\n",
       "    </tr>\n",
       "    <tr>\n",
       "      <th>50%</th>\n",
       "      <td>2.000000e+00</td>\n",
       "      <td>1.000000e+00</td>\n",
       "      <td>3.400000e+00</td>\n",
       "      <td>1.000000e+00</td>\n",
       "      <td>1.610000e+02</td>\n",
       "      <td>1.610000e+02</td>\n",
       "      <td>1.000000e+00</td>\n",
       "      <td>1.650000e+01</td>\n",
       "      <td>5.000000e-01</td>\n",
       "      <td>5.000000e-01</td>\n",
       "      <td>3.150000e+00</td>\n",
       "      <td>0.000000e+00</td>\n",
       "      <td>3.000000e-01</td>\n",
       "      <td>2.256000e+01</td>\n",
       "      <td>2.500000e+00</td>\n",
       "      <td>3.000000e+00</td>\n",
       "      <td>3.000000e+00</td>\n",
       "      <td>1.500000e+01</td>\n",
       "      <td>1.500000e+01</td>\n",
       "      <td>2.088333e+01</td>\n",
       "    </tr>\n",
       "    <tr>\n",
       "      <th>75%</th>\n",
       "      <td>2.000000e+00</td>\n",
       "      <td>2.000000e+00</td>\n",
       "      <td>4.990000e+00</td>\n",
       "      <td>1.000000e+00</td>\n",
       "      <td>2.310000e+02</td>\n",
       "      <td>2.320000e+02</td>\n",
       "      <td>2.000000e+00</td>\n",
       "      <td>2.050000e+01</td>\n",
       "      <td>2.500000e+00</td>\n",
       "      <td>5.000000e-01</td>\n",
       "      <td>4.260000e+00</td>\n",
       "      <td>0.000000e+00</td>\n",
       "      <td>3.000000e-01</td>\n",
       "      <td>2.730000e+01</td>\n",
       "      <td>2.500000e+00</td>\n",
       "      <td>5.000000e+00</td>\n",
       "      <td>5.000000e+00</td>\n",
       "      <td>1.900000e+01</td>\n",
       "      <td>2.000000e+01</td>\n",
       "      <td>2.593333e+01</td>\n",
       "    </tr>\n",
       "    <tr>\n",
       "      <th>max</th>\n",
       "      <td>2.000000e+00</td>\n",
       "      <td>9.000000e+00</td>\n",
       "      <td>1.300000e+01</td>\n",
       "      <td>5.000000e+00</td>\n",
       "      <td>2.650000e+02</td>\n",
       "      <td>2.650000e+02</td>\n",
       "      <td>4.000000e+00</td>\n",
       "      <td>2.500000e+02</td>\n",
       "      <td>9.300000e+00</td>\n",
       "      <td>3.300000e+00</td>\n",
       "      <td>3.350000e+02</td>\n",
       "      <td>6.000000e+00</td>\n",
       "      <td>3.000000e-01</td>\n",
       "      <td>3.573000e+02</td>\n",
       "      <td>2.750000e+00</td>\n",
       "      <td>6.000000e+00</td>\n",
       "      <td>6.000000e+00</td>\n",
       "      <td>2.300000e+01</td>\n",
       "      <td>2.300000e+01</td>\n",
       "      <td>3.800000e+01</td>\n",
       "    </tr>\n",
       "  </tbody>\n",
       "</table>\n",
       "</div>"
      ],
      "text/plain": [
       "           VendorID  passenger_count  trip_distance    RatecodeID  \\\n",
       "count  1.687450e+06     1.687450e+06   1.687450e+06  1.687450e+06   \n",
       "mean   1.666240e+00     1.582619e+00   4.118096e+00  1.005894e+00   \n",
       "std    4.715554e-01     1.174790e+00   2.113446e+00  1.389428e-01   \n",
       "min    1.000000e+00     1.000000e+00   2.000000e+00  1.000000e+00   \n",
       "25%    1.000000e+00     1.000000e+00   2.600000e+00  1.000000e+00   \n",
       "50%    2.000000e+00     1.000000e+00   3.400000e+00  1.000000e+00   \n",
       "75%    2.000000e+00     2.000000e+00   4.990000e+00  1.000000e+00   \n",
       "max    2.000000e+00     9.000000e+00   1.300000e+01  5.000000e+00   \n",
       "\n",
       "       PULocationID  DOLocationID  payment_type   fare_amount         extra  \\\n",
       "count  1.687450e+06  1.687450e+06  1.687450e+06  1.687450e+06  1.687450e+06   \n",
       "mean   1.611566e+02  1.556468e+02  1.260808e+00  1.772040e+01  1.126976e+00   \n",
       "std    6.768631e+01  7.492873e+01  4.547426e-01  5.428664e+00  1.221044e+00   \n",
       "min    1.000000e+00  1.000000e+00  1.000000e+00  1.000000e+00  0.000000e+00   \n",
       "25%    1.130000e+02  9.000000e+01  1.000000e+00  1.350000e+01  0.000000e+00   \n",
       "50%    1.610000e+02  1.610000e+02  1.000000e+00  1.650000e+01  5.000000e-01   \n",
       "75%    2.310000e+02  2.320000e+02  2.000000e+00  2.050000e+01  2.500000e+00   \n",
       "max    2.650000e+02  2.650000e+02  4.000000e+00  2.500000e+02  9.300000e+00   \n",
       "\n",
       "            mta_tax    tip_amount  tolls_amount  improvement_surcharge  \\\n",
       "count  1.687450e+06  1.687450e+06  1.687450e+06           1.687450e+06   \n",
       "mean   4.997142e-01  2.783498e+00  8.067356e-03           2.999580e-01   \n",
       "std    1.217726e-02  2.396435e+00  1.857905e-01           3.547575e-03   \n",
       "min    0.000000e+00  0.000000e+00  0.000000e+00           0.000000e+00   \n",
       "25%    5.000000e-01  0.000000e+00  0.000000e+00           3.000000e-01   \n",
       "50%    5.000000e-01  3.150000e+00  0.000000e+00           3.000000e-01   \n",
       "75%    5.000000e-01  4.260000e+00  0.000000e+00           3.000000e-01   \n",
       "max    3.300000e+00  3.350000e+02  6.000000e+00           3.000000e-01   \n",
       "\n",
       "       total_amount  congestion_surcharge  pickup_day_num  dropoff_day_num  \\\n",
       "count  1.687450e+06          1.687450e+06    1.687450e+06     1.687450e+06   \n",
       "mean   2.400080e+01          2.338422e+00    2.950227e+00     2.960454e+00   \n",
       "std    6.391256e+00          6.146763e-01    1.863780e+00     1.869217e+00   \n",
       "min    1.300000e+00          0.000000e+00    0.000000e+00     0.000000e+00   \n",
       "25%    1.955000e+01          2.500000e+00    1.000000e+00     1.000000e+00   \n",
       "50%    2.256000e+01          2.500000e+00    3.000000e+00     3.000000e+00   \n",
       "75%    2.730000e+01          2.500000e+00    5.000000e+00     5.000000e+00   \n",
       "max    3.573000e+02          2.750000e+00    6.000000e+00     6.000000e+00   \n",
       "\n",
       "        pickup_hour  dropoff_hour  trip_duration  \n",
       "count  1.687450e+06  1.687450e+06   1.687450e+06  \n",
       "mean   1.436759e+01  1.436260e+01   2.208512e+01  \n",
       "std    6.105114e+00  6.278857e+00   5.888677e+00  \n",
       "min    0.000000e+00  0.000000e+00   1.400000e+01  \n",
       "25%    1.000000e+01  1.000000e+01   1.723333e+01  \n",
       "50%    1.500000e+01  1.500000e+01   2.088333e+01  \n",
       "75%    1.900000e+01  2.000000e+01   2.593333e+01  \n",
       "max    2.300000e+01  2.300000e+01   3.800000e+01  "
      ]
     },
     "execution_count": 57,
     "metadata": {},
     "output_type": "execute_result"
    }
   ],
   "source": [
    "yellow_trip_df.describe()"
   ]
  },
  {
   "cell_type": "markdown",
   "id": "6d43f4e1",
   "metadata": {},
   "source": [
    "There are alot of variables, Let's pick out just a few columns and start building models using that."
   ]
  },
  {
   "cell_type": "code",
   "execution_count": 58,
   "id": "5ea3be3e",
   "metadata": {
    "scrolled": true
   },
   "outputs": [
    {
     "data": {
      "text/plain": [
       "Index(['VendorID', 'tpep_pickup_datetime', 'tpep_dropoff_datetime',\n",
       "       'passenger_count', 'trip_distance', 'RatecodeID', 'store_and_fwd_flag',\n",
       "       'PULocationID', 'DOLocationID', 'payment_type', 'fare_amount', 'extra',\n",
       "       'mta_tax', 'tip_amount', 'tolls_amount', 'improvement_surcharge',\n",
       "       'total_amount', 'congestion_surcharge', 'pickup_day_num',\n",
       "       'dropoff_day_num', 'pickup_hour', 'dropoff_hour', 'trip_duration'],\n",
       "      dtype='object')"
      ]
     },
     "execution_count": 58,
     "metadata": {},
     "output_type": "execute_result"
    }
   ],
   "source": [
    "yellow_trip_df.columns"
   ]
  },
  {
   "cell_type": "markdown",
   "id": "b2baa139",
   "metadata": {},
   "source": [
    "#### Setting up for modeling and building a baseline:"
   ]
  },
  {
   "cell_type": "code",
   "execution_count": 59,
   "id": "5f98b4aa",
   "metadata": {},
   "outputs": [],
   "source": [
    "#create a smaller dataset with most important features from my view point... 'pickup_day_num','dropoff_day_num', 'pickup_hour', 'dropoff_hour'\n",
    "smaller_df = yellow_trip_df.loc[:,[ 'trip_distance','fare_amount', 'extra',\n",
    "       'mta_tax','tip_amount','tolls_amount', 'improvement_surcharge',\n",
    "       'total_amount', 'congestion_surcharge','trip_duration']]"
   ]
  },
  {
   "cell_type": "code",
   "execution_count": 60,
   "id": "f3d39560",
   "metadata": {
    "scrolled": false
   },
   "outputs": [
    {
     "data": {
      "text/plain": [
       "<seaborn.axisgrid.PairGrid at 0x25f85f6b370>"
      ]
     },
     "execution_count": 60,
     "metadata": {},
     "output_type": "execute_result"
    },
    {
     "data": {
      "image/png": "[encoded data removed]",
      "text/plain": [
       "<Figure size 1800x1800 with 110 Axes>"
      ]
     },
     "metadata": {
      "needs_background": "light"
     },
     "output_type": "display_data"
    }
   ],
   "source": [
    "sns.pairplot(smaller_df[:1000], plot_kws=dict(alpha=.1, edgecolor='none'))"
   ]
  },
  {
   "cell_type": "code",
   "execution_count": 61,
   "id": "c66876a8",
   "metadata": {},
   "outputs": [],
   "source": [
    "#Separate our features matrix(x) and our target vector(y)\n",
    "x,y = smaller_df.drop(['total_amount','trip_distance','trip_duration'],axis=1), smaller_df['total_amount']"
   ]
  },
  {
   "cell_type": "code",
   "execution_count": 62,
   "id": "48d1f06c",
   "metadata": {},
   "outputs": [
    {
     "data": {
      "text/plain": [
       "Index(['fare_amount', 'extra', 'mta_tax', 'tip_amount', 'tolls_amount',\n",
       "       'improvement_surcharge', 'congestion_surcharge'],\n",
       "      dtype='object')"
      ]
     },
     "execution_count": 62,
     "metadata": {},
     "output_type": "execute_result"
    }
   ],
   "source": [
    "x.columns"
   ]
  },
  {
   "cell_type": "markdown",
   "id": "ddcd1a29",
   "metadata": {},
   "source": [
    "Linear machine learning algorithms fit a model where the prediction is the weighted sum of the input values."
   ]
  },
  {
   "cell_type": "code",
   "execution_count": 63,
   "id": "3ee8daa8",
   "metadata": {},
   "outputs": [
    {
     "name": "stdout",
     "output_type": "stream",
     "text": [
      "Feature: 0, Score: 0.99773\n",
      "Feature: 1, Score: 0.09807\n",
      "Feature: 2, Score: 1.41890\n",
      "Feature: 3, Score: 1.01045\n",
      "Feature: 4, Score: 1.00999\n",
      "Feature: 5, Score: -1.52945\n",
      "Feature: 6, Score: 0.94838\n"
     ]
    },
    {
     "data": {
      "image/png": "[encoded data removed]",
      "text/plain": [
       "<Figure size 432x288 with 1 Axes>"
      ]
     },
     "metadata": {
      "needs_background": "light"
     },
     "output_type": "display_data"
    }
   ],
   "source": [
    "# linear regression feature importance for 1st model\n",
    "# define the model\n",
    "model = LinearRegression()\n",
    "# fit the model\n",
    "model.fit(x, y)\n",
    "# get importance\n",
    "importance = model.coef_\n",
    "# summarize feature importance\n",
    "for i,v in enumerate(importance):\n",
    "    print('Feature: %0d, Score: %.5f' % (i,v))\n",
    "# plot feature importance\n",
    "pyplot.bar([X for X in range(len(importance))], importance)\n",
    "pyplot.show()"
   ]
  },
  {
   "cell_type": "code",
   "execution_count": 64,
   "id": "4cf211a2",
   "metadata": {},
   "outputs": [
    {
     "name": "stdout",
     "output_type": "stream",
     "text": [
      "Feature: 0, Score: 0.76852\n",
      "Feature: 1, Score: 0.00182\n",
      "Feature: 2, Score: 0.00000\n",
      "Feature: 3, Score: 0.22193\n",
      "Feature: 4, Score: 0.00077\n",
      "Feature: 5, Score: 0.00011\n",
      "Feature: 6, Score: 0.00685\n"
     ]
    },
    {
     "data": {
      "image/png": "[encoded data removed]",
      "text/plain": [
       "<Figure size 432x288 with 1 Axes>"
      ]
     },
     "metadata": {
      "needs_background": "light"
     },
     "output_type": "display_data"
    }
   ],
   "source": [
    "# decision tree for feature importance on a regression problem\n",
    "# define the model\n",
    "model1 = DecisionTreeRegressor()\n",
    "# fit the model\n",
    "model1.fit(x, y)\n",
    "# get importance\n",
    "importance1 = model1.feature_importances_\n",
    "# summarize feature importance\n",
    "for i1,v1 in enumerate(importance1):\n",
    "    print('Feature: %0d, Score: %.5f' % (i1,v1))\n",
    "# plot feature importance\n",
    "pyplot.bar([X1 for X1 in range(len(importance1))], importance1)\n",
    "pyplot.show()"
   ]
  },
  {
   "cell_type": "code",
   "execution_count": 65,
   "id": "0d9fd1c1",
   "metadata": {},
   "outputs": [],
   "source": [
    "#Separate our features matrix(x) and our target vector(y)\n",
    "x1,y1 = smaller_df.loc[:,['trip_distance','trip_duration','total_amount']], smaller_df['fare_amount']"
   ]
  },
  {
   "cell_type": "code",
   "execution_count": 66,
   "id": "2fe5efc4",
   "metadata": {},
   "outputs": [
    {
     "data": {
      "text/plain": [
       "Index(['trip_distance', 'trip_duration', 'total_amount'], dtype='object')"
      ]
     },
     "execution_count": 66,
     "metadata": {},
     "output_type": "execute_result"
    }
   ],
   "source": [
    "x1.columns"
   ]
  },
  {
   "cell_type": "code",
   "execution_count": 67,
   "id": "5f7b70c7",
   "metadata": {},
   "outputs": [
    {
     "name": "stdout",
     "output_type": "stream",
     "text": [
      "Feature: 0, Score: 1.41245\n",
      "Feature: 1, Score: 0.26689\n",
      "Feature: 2, Score: 0.24788\n"
     ]
    },
    {
     "data": {
      "image/png": "[encoded data removed]",
      "text/plain": [
       "<Figure size 432x288 with 1 Axes>"
      ]
     },
     "metadata": {
      "needs_background": "light"
     },
     "output_type": "display_data"
    }
   ],
   "source": [
    "# linear regression feature importance for 2nd model\n",
    "# define the model\n",
    "model3 = LinearRegression()\n",
    "# fit the model\n",
    "model3.fit(x1, y1)\n",
    "# get importance\n",
    "importance3 = model3.coef_\n",
    "# summarize feature importance\n",
    "for i3,v3 in enumerate(importance3):\n",
    "    print('Feature: %0d, Score: %.5f' % (i3,v3))\n",
    "# plot feature importance\n",
    "pyplot.bar([X3 for X3 in range(len(importance3))], importance3)\n",
    "pyplot.show()"
   ]
  },
  {
   "cell_type": "code",
   "execution_count": 68,
   "id": "12d67bb7",
   "metadata": {},
   "outputs": [
    {
     "name": "stdout",
     "output_type": "stream",
     "text": [
      "Feature: 0, Score: 0.19987\n",
      "Feature: 1, Score: 0.06791\n",
      "Feature: 2, Score: 0.73222\n"
     ]
    },
    {
     "data": {
      "image/png": "[encoded data removed]",
      "text/plain": [
       "<Figure size 432x288 with 1 Axes>"
      ]
     },
     "metadata": {
      "needs_background": "light"
     },
     "output_type": "display_data"
    }
   ],
   "source": [
    "# decision tree for feature importance on a regression problem\n",
    "# define the model\n",
    "model4 = DecisionTreeRegressor()\n",
    "# fit the model\n",
    "model4.fit(x1, y1)\n",
    "# get importance\n",
    "importance4 = model4.feature_importances_\n",
    "# summarize feature importance\n",
    "for i4,v4 in enumerate(importance4):\n",
    "    print('Feature: %0d, Score: %.5f' % (i4,v4))\n",
    "# plot feature importance\n",
    "pyplot.bar([X4 for X4 in range(len(importance4))], importance4)\n",
    "pyplot.show()"
   ]
  },
  {
   "cell_type": "markdown",
   "id": "e2bcf249",
   "metadata": {},
   "source": [
    "from the above figure we see the scores suggest that the model found some important features and marked all other features with a zero coefficient, as we will drop it from the model."
   ]
  },
  {
   "cell_type": "markdown",
   "id": "6618bfcd",
   "metadata": {},
   "source": [
    "### Ordinary Least Squares Regression with Statsmodels\n",
    "Now that we have a feel for our data, let's jump right in and try a basic regression model."
   ]
  },
  {
   "cell_type": "code",
   "execution_count": 69,
   "id": "0b0acaa0",
   "metadata": {
    "scrolled": false
   },
   "outputs": [
    {
     "data": {
      "text/html": [
       "<div>\n",
       "<style scoped>\n",
       "    .dataframe tbody tr th:only-of-type {\n",
       "        vertical-align: middle;\n",
       "    }\n",
       "\n",
       "    .dataframe tbody tr th {\n",
       "        vertical-align: top;\n",
       "    }\n",
       "\n",
       "    .dataframe thead th {\n",
       "        text-align: right;\n",
       "    }\n",
       "</style>\n",
       "<table border=\"1\" class=\"dataframe\">\n",
       "  <thead>\n",
       "    <tr style=\"text-align: right;\">\n",
       "      <th></th>\n",
       "      <th>fare_amount</th>\n",
       "      <th>extra</th>\n",
       "      <th>mta_tax</th>\n",
       "      <th>tip_amount</th>\n",
       "      <th>tolls_amount</th>\n",
       "      <th>improvement_surcharge</th>\n",
       "      <th>congestion_surcharge</th>\n",
       "    </tr>\n",
       "  </thead>\n",
       "  <tbody>\n",
       "    <tr>\n",
       "      <th>1</th>\n",
       "      <td>14.5</td>\n",
       "      <td>3.0</td>\n",
       "      <td>0.5</td>\n",
       "      <td>2.00</td>\n",
       "      <td>0.0</td>\n",
       "      <td>0.3</td>\n",
       "      <td>2.5</td>\n",
       "    </tr>\n",
       "    <tr>\n",
       "      <th>2</th>\n",
       "      <td>17.0</td>\n",
       "      <td>3.0</td>\n",
       "      <td>0.5</td>\n",
       "      <td>5.20</td>\n",
       "      <td>0.0</td>\n",
       "      <td>0.3</td>\n",
       "      <td>2.5</td>\n",
       "    </tr>\n",
       "    <tr>\n",
       "      <th>11</th>\n",
       "      <td>29.5</td>\n",
       "      <td>0.5</td>\n",
       "      <td>0.5</td>\n",
       "      <td>6.16</td>\n",
       "      <td>0.0</td>\n",
       "      <td>0.3</td>\n",
       "      <td>0.0</td>\n",
       "    </tr>\n",
       "    <tr>\n",
       "      <th>24</th>\n",
       "      <td>18.0</td>\n",
       "      <td>3.0</td>\n",
       "      <td>0.5</td>\n",
       "      <td>6.54</td>\n",
       "      <td>0.0</td>\n",
       "      <td>0.3</td>\n",
       "      <td>2.5</td>\n",
       "    </tr>\n",
       "    <tr>\n",
       "      <th>26</th>\n",
       "      <td>17.5</td>\n",
       "      <td>3.0</td>\n",
       "      <td>0.5</td>\n",
       "      <td>6.35</td>\n",
       "      <td>0.0</td>\n",
       "      <td>0.3</td>\n",
       "      <td>2.5</td>\n",
       "    </tr>\n",
       "  </tbody>\n",
       "</table>\n",
       "</div>"
      ],
      "text/plain": [
       "    fare_amount  extra  mta_tax  tip_amount  tolls_amount  \\\n",
       "1          14.5    3.0      0.5        2.00           0.0   \n",
       "2          17.0    3.0      0.5        5.20           0.0   \n",
       "11         29.5    0.5      0.5        6.16           0.0   \n",
       "24         18.0    3.0      0.5        6.54           0.0   \n",
       "26         17.5    3.0      0.5        6.35           0.0   \n",
       "\n",
       "    improvement_surcharge  congestion_surcharge  \n",
       "1                     0.3                   2.5  \n",
       "2                     0.3                   2.5  \n",
       "11                    0.3                   0.0  \n",
       "24                    0.3                   2.5  \n",
       "26                    0.3                   2.5  "
      ]
     },
     "execution_count": 69,
     "metadata": {},
     "output_type": "execute_result"
    }
   ],
   "source": [
    "x.head()"
   ]
  },
  {
   "cell_type": "code",
   "execution_count": 70,
   "id": "e4d9a381",
   "metadata": {},
   "outputs": [
    {
     "data": {
      "text/html": [
       "<div>\n",
       "<style scoped>\n",
       "    .dataframe tbody tr th:only-of-type {\n",
       "        vertical-align: middle;\n",
       "    }\n",
       "\n",
       "    .dataframe tbody tr th {\n",
       "        vertical-align: top;\n",
       "    }\n",
       "\n",
       "    .dataframe thead th {\n",
       "        text-align: right;\n",
       "    }\n",
       "</style>\n",
       "<table border=\"1\" class=\"dataframe\">\n",
       "  <thead>\n",
       "    <tr style=\"text-align: right;\">\n",
       "      <th></th>\n",
       "      <th>trip_distance</th>\n",
       "      <th>trip_duration</th>\n",
       "      <th>total_amount</th>\n",
       "    </tr>\n",
       "  </thead>\n",
       "  <tbody>\n",
       "    <tr>\n",
       "      <th>1</th>\n",
       "      <td>4.30</td>\n",
       "      <td>14.966667</td>\n",
       "      <td>20.30</td>\n",
       "    </tr>\n",
       "    <tr>\n",
       "      <th>2</th>\n",
       "      <td>5.00</td>\n",
       "      <td>14.516667</td>\n",
       "      <td>26.00</td>\n",
       "    </tr>\n",
       "    <tr>\n",
       "      <th>11</th>\n",
       "      <td>10.25</td>\n",
       "      <td>20.500000</td>\n",
       "      <td>36.96</td>\n",
       "    </tr>\n",
       "    <tr>\n",
       "      <th>24</th>\n",
       "      <td>5.80</td>\n",
       "      <td>17.500000</td>\n",
       "      <td>28.34</td>\n",
       "    </tr>\n",
       "    <tr>\n",
       "      <th>26</th>\n",
       "      <td>4.80</td>\n",
       "      <td>21.600000</td>\n",
       "      <td>27.65</td>\n",
       "    </tr>\n",
       "  </tbody>\n",
       "</table>\n",
       "</div>"
      ],
      "text/plain": [
       "    trip_distance  trip_duration  total_amount\n",
       "1            4.30      14.966667         20.30\n",
       "2            5.00      14.516667         26.00\n",
       "11          10.25      20.500000         36.96\n",
       "24           5.80      17.500000         28.34\n",
       "26           4.80      21.600000         27.65"
      ]
     },
     "execution_count": 70,
     "metadata": {},
     "output_type": "execute_result"
    }
   ],
   "source": [
    "x1.head()"
   ]
  },
  {
   "cell_type": "code",
   "execution_count": 71,
   "id": "c6720f6d",
   "metadata": {},
   "outputs": [
    {
     "data": {
      "text/plain": [
       "((1687450, 7), (1687450,))"
      ]
     },
     "execution_count": 71,
     "metadata": {},
     "output_type": "execute_result"
    }
   ],
   "source": [
    "x.shape, y.shape"
   ]
  },
  {
   "cell_type": "code",
   "execution_count": 72,
   "id": "c564a2a8",
   "metadata": {},
   "outputs": [
    {
     "data": {
      "text/plain": [
       "((1687450, 3), (1687450,))"
      ]
     },
     "execution_count": 72,
     "metadata": {},
     "output_type": "execute_result"
    }
   ],
   "source": [
    "x1.shape,y1.shape"
   ]
  },
  {
   "cell_type": "code",
   "execution_count": 73,
   "id": "a7d96647",
   "metadata": {
    "scrolled": false
   },
   "outputs": [
    {
     "data": {
      "text/html": [
       "<table class=\"simpletable\">\n",
       "<caption>OLS Regression Results</caption>\n",
       "<tr>\n",
       "  <th>Dep. Variable:</th>      <td>total_amount</td>   <th>  R-squared (uncentered):</th>       <td>   1.000</td>  \n",
       "</tr>\n",
       "<tr>\n",
       "  <th>Model:</th>                   <td>OLS</td>       <th>  Adj. R-squared (uncentered):</th>  <td>   1.000</td>  \n",
       "</tr>\n",
       "<tr>\n",
       "  <th>Method:</th>             <td>Least Squares</td>  <th>  F-statistic:       </th>           <td>9.983e+08</td> \n",
       "</tr>\n",
       "<tr>\n",
       "  <th>Date:</th>             <td>Sat, 27 Nov 2021</td> <th>  Prob (F-statistic):</th>            <td>  0.00</td>   \n",
       "</tr>\n",
       "<tr>\n",
       "  <th>Time:</th>                 <td>15:52:14</td>     <th>  Log-Likelihood:    </th>          <td>-7.8768e+05</td>\n",
       "</tr>\n",
       "<tr>\n",
       "  <th>No. Observations:</th>      <td>1687450</td>     <th>  AIC:               </th>           <td>1.575e+06</td> \n",
       "</tr>\n",
       "<tr>\n",
       "  <th>Df Residuals:</th>          <td>1687443</td>     <th>  BIC:               </th>           <td>1.575e+06</td> \n",
       "</tr>\n",
       "<tr>\n",
       "  <th>Df Model:</th>              <td>     7</td>      <th>                     </th>               <td> </td>     \n",
       "</tr>\n",
       "<tr>\n",
       "  <th>Covariance Type:</th>      <td>nonrobust</td>    <th>                     </th>               <td> </td>     \n",
       "</tr>\n",
       "</table>\n",
       "<table class=\"simpletable\">\n",
       "<tr>\n",
       "            <td></td>               <th>coef</th>     <th>std err</th>      <th>t</th>      <th>P>|t|</th>  <th>[0.025</th>    <th>0.975]</th>  \n",
       "</tr>\n",
       "<tr>\n",
       "  <th>fare_amount</th>           <td>    0.9979</td> <td> 5.96e-05</td> <td> 1.67e+04</td> <td> 0.000</td> <td>    0.998</td> <td>    0.998</td>\n",
       "</tr>\n",
       "<tr>\n",
       "  <th>extra</th>                 <td>    0.0981</td> <td>    0.000</td> <td>  397.502</td> <td> 0.000</td> <td>    0.098</td> <td>    0.099</td>\n",
       "</tr>\n",
       "<tr>\n",
       "  <th>mta_tax</th>               <td>    1.7801</td> <td>    0.022</td> <td>   80.581</td> <td> 0.000</td> <td>    1.737</td> <td>    1.823</td>\n",
       "</tr>\n",
       "<tr>\n",
       "  <th>tip_amount</th>            <td>    1.0104</td> <td>    0.000</td> <td> 7799.052</td> <td> 0.000</td> <td>    1.010</td> <td>    1.011</td>\n",
       "</tr>\n",
       "<tr>\n",
       "  <th>tolls_amount</th>          <td>    1.0097</td> <td>    0.002</td> <td>  628.026</td> <td> 0.000</td> <td>    1.007</td> <td>    1.013</td>\n",
       "</tr>\n",
       "<tr>\n",
       "  <th>improvement_surcharge</th> <td>    0.9230</td> <td>    0.037</td> <td>   24.644</td> <td> 0.000</td> <td>    0.850</td> <td>    0.996</td>\n",
       "</tr>\n",
       "<tr>\n",
       "  <th>congestion_surcharge</th>  <td>    0.9491</td> <td>    0.001</td> <td> 1846.569</td> <td> 0.000</td> <td>    0.948</td> <td>    0.950</td>\n",
       "</tr>\n",
       "</table>\n",
       "<table class=\"simpletable\">\n",
       "<tr>\n",
       "  <th>Omnibus:</th>       <td>526579.893</td> <th>  Durbin-Watson:     </th>  <td>   0.481</td>  \n",
       "</tr>\n",
       "<tr>\n",
       "  <th>Prob(Omnibus):</th>   <td> 0.000</td>   <th>  Jarque-Bera (JB):  </th> <td>3767117.381</td>\n",
       "</tr>\n",
       "<tr>\n",
       "  <th>Skew:</th>            <td> 1.316</td>   <th>  Prob(JB):          </th>  <td>    0.00</td>  \n",
       "</tr>\n",
       "<tr>\n",
       "  <th>Kurtosis:</th>        <td> 9.830</td>   <th>  Cond. No.          </th>  <td>2.76e+03</td>  \n",
       "</tr>\n",
       "</table><br/><br/>Notes:<br/>[1] R² is computed without centering (uncentered) since the model does not contain a constant.<br/>[2] Standard Errors assume that the covariance matrix of the errors is correctly specified.<br/>[3] The condition number is large, 2.76e+03. This might indicate that there are<br/>strong multicollinearity or other numerical problems."
      ],
      "text/plain": [
       "<class 'statsmodels.iolib.summary.Summary'>\n",
       "\"\"\"\n",
       "                                 OLS Regression Results                                \n",
       "=======================================================================================\n",
       "Dep. Variable:           total_amount   R-squared (uncentered):                   1.000\n",
       "Model:                            OLS   Adj. R-squared (uncentered):              1.000\n",
       "Method:                 Least Squares   F-statistic:                          9.983e+08\n",
       "Date:                Sat, 27 Nov 2021   Prob (F-statistic):                        0.00\n",
       "Time:                        15:52:14   Log-Likelihood:                     -7.8768e+05\n",
       "No. Observations:             1687450   AIC:                                  1.575e+06\n",
       "Df Residuals:                 1687443   BIC:                                  1.575e+06\n",
       "Df Model:                           7                                                  \n",
       "Covariance Type:            nonrobust                                                  \n",
       "=========================================================================================\n",
       "                            coef    std err          t      P>|t|      [0.025      0.975]\n",
       "-----------------------------------------------------------------------------------------\n",
       "fare_amount               0.9979   5.96e-05   1.67e+04      0.000       0.998       0.998\n",
       "extra                     0.0981      0.000    397.502      0.000       0.098       0.099\n",
       "mta_tax                   1.7801      0.022     80.581      0.000       1.737       1.823\n",
       "tip_amount                1.0104      0.000   7799.052      0.000       1.010       1.011\n",
       "tolls_amount              1.0097      0.002    628.026      0.000       1.007       1.013\n",
       "improvement_surcharge     0.9230      0.037     24.644      0.000       0.850       0.996\n",
       "congestion_surcharge      0.9491      0.001   1846.569      0.000       0.948       0.950\n",
       "==============================================================================\n",
       "Omnibus:                   526579.893   Durbin-Watson:                   0.481\n",
       "Prob(Omnibus):                  0.000   Jarque-Bera (JB):          3767117.381\n",
       "Skew:                           1.316   Prob(JB):                         0.00\n",
       "Kurtosis:                       9.830   Cond. No.                     2.76e+03\n",
       "==============================================================================\n",
       "\n",
       "Notes:\n",
       "[1] R² is computed without centering (uncentered) since the model does not contain a constant.\n",
       "[2] Standard Errors assume that the covariance matrix of the errors is correctly specified.\n",
       "[3] The condition number is large, 2.76e+03. This might indicate that there are\n",
       "strong multicollinearity or other numerical problems.\n",
       "\"\"\""
      ]
     },
     "execution_count": 73,
     "metadata": {},
     "output_type": "execute_result"
    }
   ],
   "source": [
    "# Create 1st model\n",
    "model = sm.OLS(y, x)\n",
    "\n",
    "# Fit the model to our training set\n",
    "fit = model.fit()\n",
    "\n",
    "# Print summary statistics of the model's performance\n",
    "fit.summary()"
   ]
  },
  {
   "cell_type": "code",
   "execution_count": 74,
   "id": "a93ae8b8",
   "metadata": {},
   "outputs": [
    {
     "data": {
      "text/html": [
       "<table class=\"simpletable\">\n",
       "<caption>OLS Regression Results</caption>\n",
       "<tr>\n",
       "  <th>Dep. Variable:</th>       <td>fare_amount</td>   <th>  R-squared (uncentered):</th>       <td>   0.996</td>  \n",
       "</tr>\n",
       "<tr>\n",
       "  <th>Model:</th>                   <td>OLS</td>       <th>  Adj. R-squared (uncentered):</th>  <td>   0.996</td>  \n",
       "</tr>\n",
       "<tr>\n",
       "  <th>Method:</th>             <td>Least Squares</td>  <th>  F-statistic:       </th>           <td>1.262e+08</td> \n",
       "</tr>\n",
       "<tr>\n",
       "  <th>Date:</th>             <td>Sat, 27 Nov 2021</td> <th>  Prob (F-statistic):</th>            <td>  0.00</td>   \n",
       "</tr>\n",
       "<tr>\n",
       "  <th>Time:</th>                 <td>15:52:15</td>     <th>  Log-Likelihood:    </th>          <td>-2.7503e+06</td>\n",
       "</tr>\n",
       "<tr>\n",
       "  <th>No. Observations:</th>      <td>1687450</td>     <th>  AIC:               </th>           <td>5.501e+06</td> \n",
       "</tr>\n",
       "<tr>\n",
       "  <th>Df Residuals:</th>          <td>1687447</td>     <th>  BIC:               </th>           <td>5.501e+06</td> \n",
       "</tr>\n",
       "<tr>\n",
       "  <th>Df Model:</th>              <td>     3</td>      <th>                     </th>               <td> </td>     \n",
       "</tr>\n",
       "<tr>\n",
       "  <th>Covariance Type:</th>      <td>nonrobust</td>    <th>                     </th>               <td> </td>     \n",
       "</tr>\n",
       "</table>\n",
       "<table class=\"simpletable\">\n",
       "<tr>\n",
       "        <td></td>           <th>coef</th>     <th>std err</th>      <th>t</th>      <th>P>|t|</th>  <th>[0.025</th>    <th>0.975]</th>  \n",
       "</tr>\n",
       "<tr>\n",
       "  <th>trip_distance</th> <td>    1.4093</td> <td>    0.001</td> <td> 1834.739</td> <td> 0.000</td> <td>    1.408</td> <td>    1.411</td>\n",
       "</tr>\n",
       "<tr>\n",
       "  <th>trip_duration</th> <td>    0.2678</td> <td>    0.000</td> <td> 1250.248</td> <td> 0.000</td> <td>    0.267</td> <td>    0.268</td>\n",
       "</tr>\n",
       "<tr>\n",
       "  <th>total_amount</th>  <td>    0.2500</td> <td>    0.000</td> <td>  878.308</td> <td> 0.000</td> <td>    0.249</td> <td>    0.251</td>\n",
       "</tr>\n",
       "</table>\n",
       "<table class=\"simpletable\">\n",
       "<tr>\n",
       "  <th>Omnibus:</th>       <td>3360369.126</td> <th>  Durbin-Watson:     </th>    <td>   1.908</td>    \n",
       "</tr>\n",
       "<tr>\n",
       "  <th>Prob(Omnibus):</th>   <td> 0.000</td>    <th>  Jarque-Bera (JB):  </th> <td>51384648668.872</td>\n",
       "</tr>\n",
       "<tr>\n",
       "  <th>Skew:</th>            <td>15.504</td>    <th>  Prob(JB):          </th>    <td>    0.00</td>    \n",
       "</tr>\n",
       "<tr>\n",
       "  <th>Kurtosis:</th>        <td>857.321</td>   <th>  Cond. No.          </th>    <td>    28.8</td>    \n",
       "</tr>\n",
       "</table><br/><br/>Notes:<br/>[1] R² is computed without centering (uncentered) since the model does not contain a constant.<br/>[2] Standard Errors assume that the covariance matrix of the errors is correctly specified."
      ],
      "text/plain": [
       "<class 'statsmodels.iolib.summary.Summary'>\n",
       "\"\"\"\n",
       "                                 OLS Regression Results                                \n",
       "=======================================================================================\n",
       "Dep. Variable:            fare_amount   R-squared (uncentered):                   0.996\n",
       "Model:                            OLS   Adj. R-squared (uncentered):              0.996\n",
       "Method:                 Least Squares   F-statistic:                          1.262e+08\n",
       "Date:                Sat, 27 Nov 2021   Prob (F-statistic):                        0.00\n",
       "Time:                        15:52:15   Log-Likelihood:                     -2.7503e+06\n",
       "No. Observations:             1687450   AIC:                                  5.501e+06\n",
       "Df Residuals:                 1687447   BIC:                                  5.501e+06\n",
       "Df Model:                           3                                                  \n",
       "Covariance Type:            nonrobust                                                  \n",
       "=================================================================================\n",
       "                    coef    std err          t      P>|t|      [0.025      0.975]\n",
       "---------------------------------------------------------------------------------\n",
       "trip_distance     1.4093      0.001   1834.739      0.000       1.408       1.411\n",
       "trip_duration     0.2678      0.000   1250.248      0.000       0.267       0.268\n",
       "total_amount      0.2500      0.000    878.308      0.000       0.249       0.251\n",
       "==============================================================================\n",
       "Omnibus:                  3360369.126   Durbin-Watson:                   1.908\n",
       "Prob(Omnibus):                  0.000   Jarque-Bera (JB):      51384648668.872\n",
       "Skew:                          15.504   Prob(JB):                         0.00\n",
       "Kurtosis:                     857.321   Cond. No.                         28.8\n",
       "==============================================================================\n",
       "\n",
       "Notes:\n",
       "[1] R² is computed without centering (uncentered) since the model does not contain a constant.\n",
       "[2] Standard Errors assume that the covariance matrix of the errors is correctly specified.\n",
       "\"\"\""
      ]
     },
     "execution_count": 74,
     "metadata": {},
     "output_type": "execute_result"
    }
   ],
   "source": [
    "# Create 2nd model\n",
    "model2 = sm.OLS(y1, x1)\n",
    "\n",
    "# Fit the model to our training set\n",
    "fit = model2.fit()\n",
    "\n",
    "# Print summary statistics of the model's performance\n",
    "fit.summary()"
   ]
  },
  {
   "cell_type": "code",
   "execution_count": 75,
   "id": "d29c3ef0",
   "metadata": {},
   "outputs": [],
   "source": [
    "def split_and_validate(x, y):\n",
    "    '''\n",
    "    For a set of features and target X, y, perform a 80/20 train/val split, \n",
    "    fit and validate a linear regression model, and report results\n",
    "    '''\n",
    "    \n",
    "    # perform train/val split\n",
    "    x_train, x_val, y_train, y_val = \\\n",
    "        train_test_split(x, y, test_size=0.2, random_state=42)\n",
    "    \n",
    "    # fit linear regression to training data\n",
    "    lr_model = LinearRegression()\n",
    "    lr_model.fit(x_train, y_train)\n",
    "    \n",
    "    # score fit model on validation data\n",
    "    val_score = lr_model.score(x_val, y_val)\n",
    "    \n",
    "    # report results\n",
    "    print('\\nValidation R^2 score was:', val_score)\n",
    "    print('Feature coefficient results: \\n')\n",
    "    for feature, coef in zip(x.columns, lr_model.coef_):\n",
    "        print(feature, ':', f'{coef:.2f}') "
   ]
  },
  {
   "cell_type": "markdown",
   "id": "05571b89",
   "metadata": {},
   "source": [
    "Great, let's go ahead and run this function on our baseline feature set and take some time to analyze the results."
   ]
  },
  {
   "cell_type": "code",
   "execution_count": 76,
   "id": "6263c09f",
   "metadata": {
    "scrolled": true
   },
   "outputs": [
    {
     "name": "stdout",
     "output_type": "stream",
     "text": [
      "\n",
      "Validation R^2 score was: 0.9963711155014562\n",
      "Feature coefficient results: \n",
      "\n",
      "fare_amount : 1.00\n",
      "extra : 0.10\n",
      "mta_tax : 1.43\n",
      "tip_amount : 1.01\n",
      "tolls_amount : 1.01\n",
      "improvement_surcharge : -1.52\n",
      "congestion_surcharge : 0.95\n"
     ]
    }
   ],
   "source": [
    "split_and_validate(x, y)"
   ]
  },
  {
   "cell_type": "code",
   "execution_count": 77,
   "id": "6dc13181",
   "metadata": {},
   "outputs": [],
   "source": [
    "def split_and_validate(x1, y1):\n",
    "    '''\n",
    "    For a set of features and target X, y, perform a 80/20 train/val split, \n",
    "    fit and validate a linear regression model, and report results\n",
    "    '''\n",
    "    \n",
    "    # perform train/val split\n",
    "    x_train1, x_val1, y_train1, y_val1 = \\\n",
    "        train_test_split(x1, y1, test_size=0.2, random_state=42)\n",
    "    \n",
    "    # fit linear regression to training data\n",
    "    lr_model = LinearRegression()\n",
    "    lr_model.fit(x_train1, y_train1)\n",
    "    \n",
    "    # score fit model on validation data\n",
    "    val_score1 = lr_model.score(x_val1, y_val1)\n",
    "    \n",
    "    # report results\n",
    "    print('\\nValidation R^2 score was:', val_score1)\n",
    "    print('Feature coefficient results: \\n')\n",
    "    for feature, coef in zip(x1.columns, lr_model.coef_):\n",
    "        print(feature, ':', f'{coef:.2f}') "
   ]
  },
  {
   "cell_type": "code",
   "execution_count": 78,
   "id": "a3ebca90",
   "metadata": {},
   "outputs": [
    {
     "name": "stdout",
     "output_type": "stream",
     "text": [
      "\n",
      "Validation R^2 score was: 0.9451512809374409\n",
      "Feature coefficient results: \n",
      "\n",
      "trip_distance : 1.43\n",
      "trip_duration : 0.27\n",
      "total_amount : 0.24\n"
     ]
    }
   ],
   "source": [
    "split_and_validate(x1, y1)"
   ]
  }
 ],
 "metadata": {
  "kernelspec": {
   "display_name": "Python 3",
   "language": "python",
   "name": "python3"
  },
  "language_info": {
   "codemirror_mode": {
    "name": "ipython",
    "version": 3
   },
   "file_extension": ".py",
   "mimetype": "text/x-python",
   "name": "python",
   "nbconvert_exporter": "python",
   "pygments_lexer": "ipython3",
   "version": "3.8.8"
  }
 },
 "nbformat": 4,
 "nbformat_minor": 5
}
